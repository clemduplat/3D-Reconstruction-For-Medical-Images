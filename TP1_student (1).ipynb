{
 "cells": [
  {
   "cell_type": "code",
   "execution_count": 111,
   "metadata": {},
   "outputs": [],
   "source": [
    "import spinetools\n",
    "import os\n",
    "import numpy as np\n",
    "import plotly.graph_objects as go\n",
    "import plotly.express as px\n",
    "from copy import deepcopy\n",
    "import random\n",
    "from plotly.subplots import make_subplots\n",
    "\n",
    "np.set_printoptions(precision=2)\n",
    "\n",
    "\n",
    "root_directory = None\n",
    "view_0 = 'PA0'\n",
    "view_1 = 'LAT'"
   ]
  },
  {
   "cell_type": "markdown",
   "metadata": {},
   "source": [
    "# Preamble\n",
    "Please write the RMS calculation function here. You will need this function throughout the assignment, so craft it with care !"
   ]
  },
  {
   "cell_type": "code",
   "execution_count": 112,
   "metadata": {},
   "outputs": [],
   "source": [
    "import numpy as np\n",
    "\n",
    "def rms(reference: np.ndarray, prediction: np.ndarray) -> float:\n",
    "    \"\"\"\n",
    "    Calculates RMS\n",
    "\n",
    "    Parameters\n",
    "    ----------\n",
    "    reference : np.ndarray\n",
    "        Reference value\n",
    "    prediction : np.ndarray\n",
    "        Calculated/predicted value\n",
    "\n",
    "    Returns\n",
    "    -------\n",
    "    float\n",
    "        RMS metric\n",
    "    \"\"\"\n",
    "    if reference.shape != prediction.shape:\n",
    "        raise ValueError('Please provide arrays that are shaped the same! Reference has shape {refshape} whereas prediction has shape {predshape}'.format(refshape=reference.shape, predshape=prediction.shape))\n",
    "\n",
    "    # For 2D arrays (N, 3) where we calculate RMS for each axis (X, Y, Z)\n",
    "    if len(reference.shape) == 2 and reference.shape[1] == 3:\n",
    "        rms_value = np.sqrt(np.mean(np.sum((reference - prediction) ** 2, axis=1)))\n",
    "    \n",
    "    # For 1D arrays (N, ) where we calculate a single RMS value\n",
    "    elif len(reference.shape) == 1:\n",
    "        rms_value = np.sqrt(np.mean((reference - prediction) ** 2))\n",
    "    \n",
    "    else:\n",
    "        raise ValueError('Invalid array shape. Expected (N,) or (N, 3), got {}'.format(reference.shape))\n",
    "\n",
    "    return rms_value\n",
    "\n"
   ]
  },
  {
   "cell_type": "code",
   "execution_count": 113,
   "metadata": {},
   "outputs": [
    {
     "name": "stdout",
     "output_type": "stream",
     "text": [
      "1D RMS: 0.6324555320336759\n",
      "2D RMS: 0.816496580927726\n"
     ]
    }
   ],
   "source": [
    "# 1D\n",
    "reference_1d = np.array([1, 2, 3, 4, 5])\n",
    "prediction_1d = np.array([2, 2, 3, 4, 6])\n",
    "\n",
    "# Manually calculating the RMS for this simple case:\n",
    "# Difference = [1, 0, 0, 0, 1]\n",
    "# Squared difference = [1, 0, 0, 0, 1]\n",
    "# Mean of squared differences = (1+0+0+0+1)/5 = 0.4\n",
    "# RMS = sqrt(0.4) = 0.6324555320336759\n",
    "\n",
    "print(\"1D RMS:\", rms(reference_1d, prediction_1d))  # Expected: 0.6324555320336759\n",
    "# 2D Test Case: 2D arrays where each row is (x, y, z) coordinate\n",
    "reference_2d = np.array([[1, 2, 3], [4, 5, 6], [7, 8, 9]])\n",
    "prediction_2d = np.array([[1, 2, 3], [4, 4, 6], [8, 8, 9]])\n",
    "\n",
    "# Manually calculating RMS for this case:\n",
    "# For each point:\n",
    "# Point 1 difference: [0, 0, 0]\n",
    "# Point 2 difference: [0, 1, 0]\n",
    "# Point 3 difference: [1, 0, 0]\n",
    "# Squared differences: [0, 0, 0], [0, 1, 0], [1, 0, 0]\n",
    "# Sum of squared differences for each point: [0, 1, 1]\n",
    "# Mean of the sums: (0 + 1 + 1) / 3 = 0.6667\n",
    "# RMS = sqrt(0.6667) = 0.816496580927726\n",
    "\n",
    "print(\"2D RMS:\", rms(reference_2d, prediction_2d))  # Expected: 0.816496580927726\n",
    "\n"
   ]
  },
  {
   "cell_type": "markdown",
   "metadata": {},
   "source": [
    "# Question 1.1\n",
    "Write the code for finding the over determined system matrix A. Then use the dlt function from spinetools.solver to extract the L parameters vector for each view."
   ]
  },
  {
   "cell_type": "code",
   "execution_count": 114,
   "metadata": {},
   "outputs": [
    {
     "name": "stdout",
     "output_type": "stream",
     "text": [
      "Dropped A_4_1\n",
      "Dropped B_3_5\n"
     ]
    }
   ],
   "source": [
    "root_directory = r'C:\\Users\\felix\\OneDrive - KU Leuven\\GBM\\3D RECONSTRUCTION FROM MEDICAL IMAGES\\Datafiles_LAB1'\n",
    "beads_data = spinetools.io.process_files(root_directory)\n",
    "# ? Filter out non redundant beads\n",
    "unique_beads = beads_data['2d']['bead'].tolist()\n",
    "unique_beads = [x.replace('C', 'A') for x in unique_beads]\n",
    "unique_beads = [x.replace('D', 'B') for x in unique_beads]\n",
    "\n",
    "# ? Count values\n",
    "value_count = {}\n",
    "for k in unique_beads:\n",
    "    if k in value_count.keys():\n",
    "        value_count[k] += 1\n",
    "    else:\n",
    "        value_count[k] = 1\n",
    "\n",
    "# ? Exclude the ones that aren't visible from everywhere\n",
    "for k, v in zip(list(value_count.keys()), list(value_count.values())):\n",
    "    if v == 1:\n",
    "        print('Dropped', k)\n",
    "        del value_count[k]\n",
    "\n",
    "unique_beads = list(value_count.keys())\n",
    "unique_beads.extend([x.replace('A', 'C') if 'A' in x else x.replace('B', 'D') for x in unique_beads])\n",
    "beads_data['2d'] = beads_data['2d'][beads_data['2d']['bead'].isin(unique_beads)]\n",
    "beads_data['3d'] = beads_data['3d'][beads_data['3d']['bead'].isin(unique_beads)]"
   ]
  },
  {
   "cell_type": "code",
   "execution_count": 115,
   "metadata": {},
   "outputs": [],
   "source": [
    "from spinetools.data import select_view, join_dataframes\n",
    "\n",
    "def get_a(view:str, data:dict) -> np.ndarray:\n",
    "    \"\"\"\n",
    "    Uses the view name and existing data for pre calculating the system matrix for calculating the 11 DLT coefficients\n",
    "\n",
    "    Parameters\n",
    "    ----------\n",
    "    view : str\n",
    "        View name\n",
    "    data : dict\n",
    "        Data as a dict, with two keys ['2d', '3d']. Each key is associated to a table giving points location in 2d/3d, bead identifier and view name.\n",
    "\n",
    "    Returns\n",
    "    -------\n",
    "    np.ndarray\n",
    "        A matrix, for the DLT\n",
    "    \"\"\"\n",
    "    A = []\n",
    "    joint_data = join_dataframes(select_view(data['2d'], view), data['3d'], 'bead')\n",
    "    #print(joint_data.columns)\n",
    "\n",
    "    # TODO : Using the equations from Appendix 1, write a function to turn pairs of 2D/3D beads data to an overdeterminated system.\n",
    "    # HINT 1 : we want to end up with some system AM = 0 where M is a vector containing [L0, L1... L10, 1]. So you just need to return A !\n",
    "    # HINT 2 : I gave you 'joint_data'. It's a dataframe, so check the columns names !\n",
    "    for i, row in joint_data.iterrows():\n",
    "        #excract coordinates\n",
    "        X,Y,Z=row[\"x_3d\"], row[\"y_3d\"], row[\"z_3d\"]\n",
    "        u,v=row['x_2d'],row['y_2d']\n",
    "        # !! don't forget constant term to have 11 parameters\n",
    "        row_u = [\n",
    "            X, Y, Z, 1, 0, 0, 0, 0, -u * X, -u * Y, -u * Z,-u\n",
    "        ]\n",
    "        row_v = [\n",
    "            0, 0, 0, 0, X, Y, Z, 1, -v * X, -v * Y, -v * Z,-v\n",
    "        ]\n",
    "        \n",
    "        A.append(row_u)\n",
    "        A.append(row_v)\n",
    "    return np.array(A)"
   ]
  },
  {
   "cell_type": "code",
   "execution_count": 116,
   "metadata": {},
   "outputs": [],
   "source": [
    "l_view0 = spinetools.solver.dlt(get_a('Beads2D_'+view_0, beads_data))\n",
    "l_view1 = spinetools.solver.dlt(get_a('Beads2D_'+view_1, beads_data))"
   ]
  },
  {
   "cell_type": "code",
   "execution_count": 117,
   "metadata": {},
   "outputs": [
    {
     "name": "stdout",
     "output_type": "stream",
     "text": [
      "DLT parameters for PA0 :  [ 4.09e-03 -2.57e+00 -2.44e-03 -4.16e-03 -3.60e-02  3.18e-03  2.58e+00\n",
      " -5.67e-01  5.50e-04  1.57e-06 -9.44e-06]\n",
      "DLT parameters for LAT :  [-3.09e+00  1.29e-01 -1.93e-03 -9.36e+02  4.54e-03  4.34e-02  3.10e+00\n",
      "  1.39e+01 -2.36e-05 -6.61e-04 -1.22e-05]\n"
     ]
    }
   ],
   "source": [
    "print(\"DLT parameters for %s : \"%view_0, l_view0)\n",
    "print(\"DLT parameters for %s : \"%view_1, l_view1)"
   ]
  },
  {
   "cell_type": "code",
   "execution_count": 118,
   "metadata": {},
   "outputs": [],
   "source": [
    "#Test "
   ]
  },
  {
   "cell_type": "markdown",
   "metadata": {},
   "source": [
    "# Question 1.2"
   ]
  },
  {
   "cell_type": "code",
   "execution_count": 119,
   "metadata": {},
   "outputs": [
    {
     "name": "stdout",
     "output_type": "stream",
     "text": [
      "View PA0 :\n",
      "\t u0 = -5.818320392632722\n",
      "\t v0 = -145.91496533853473\n",
      "\t c_u = 4667.8104535235125\n",
      "\t c_v = 4684.955368831336\n",
      "\t R = [[ 2.84e-03 -1.00e+00 -9.71e-04]\n",
      " [ 1.72e-02  1.32e-03  1.00e+00]\n",
      " [-1.00e+00 -2.85e-03  1.72e-02]]\n",
      "\t source_coordinates = [ 1.01 -0.    0.55]\n",
      "-------------------------------------------------------------\n",
      "View LAT :\n",
      "\t u0 = -29.21576695254617\n",
      "\t v0 = -152.70327971664815\n",
      "\t c_u = 4673.68335022721\n",
      "\t c_v = 4690.201491353493\n",
      "\t R = [[-9.99e-01  3.56e-02 -7.39e-04]\n",
      " [ 3.04e-04 -1.85e-02  1.00e+00]\n",
      " [ 3.56e-02  9.99e-01  1.85e-02]]\n",
      "\t source_coordinates = [-935.29   32.57  -13.04]\n"
     ]
    }
   ],
   "source": [
    "def get_parameters(dlt_params:np.ndarray) -> dict:\n",
    "    \"\"\"\n",
    "    Outputs a dictionnary containing the intrinsic and extrinsic parameters of the system based on the DLT parameters.\n",
    "\n",
    "    Parameters\n",
    "    ----------\n",
    "    dlt_params : np.ndarray\n",
    "        _description_\n",
    "\n",
    "    Returns\n",
    "    -------\n",
    "    dict\n",
    "        Dict with keys ['u0', 'v0', 'c_u', 'c_v', 'R', 'source_coordinates']\n",
    "    \"\"\"\n",
    "    out = {}\n",
    "    L1, L2, L3, L4, L5, L6, L7, L8, L9, L10, L11 = dlt_params\n",
    "    #\n",
    "    # TODO : Using the equations from Appendix 2, write a function to calculate intrinsic and extrinsic parameters of a system based on the DLT parameters\n",
    "    #----------equations of appendix B----------------#\n",
    "    d = -1/np.sqrt(L9**2 + L10**2 + L11**2) #scaling factor\n",
    "    #intrinsic params\n",
    "    u0 = (L1* L9 + L2 * L10 + L3 * L11) * d**2\n",
    "    v0 = (L5 * L9 + L6 * L10 + L7 * L11) * d**2\n",
    "    #focal lengths\n",
    "    c_u = np.sqrt(d**2 * ((u0 * L9 - L1)**2 + (u0 * L10 - L2)**2 + (u0 * L11 - L3)**2))\n",
    "    c_v = np.sqrt(d**2 * ((v0 * L9 - L5)**2 + (v0 * L10 - L6)**2 + (v0 * L11 - L7)**2))\n",
    "    #Rotation matrix\n",
    "    R = np.array([\n",
    "        [d / c_u * (u0 * L9 - L1), d / c_u * (u0 * L10 - L2), d / c_u * (u0 * L11 - L3)],\n",
    "        [d / c_v * (v0 * L9 - L5), d / c_v * (v0 * L10 - L6), d / c_v * (v0 * L11 - L7)],\n",
    "        [L9 * d, L10 * d, L11 * d]\n",
    "    ])\n",
    "    #source coordinates -R^-1 * T, with T= [L_4,L_8,1]^t the translation vector\n",
    "    source_coordinates = np.linalg.inv(R).dot([-L4, -L8, -1])\n",
    "    out = {'u0': u0,'v0': v0,'c_u': c_u,'c_v': c_v,'R': R,'source_coordinates': source_coordinates}\n",
    "    return out\n",
    "\n",
    "print('View %s :'%view_0)\n",
    "for k, v in get_parameters(l_view0).items():\n",
    "    print('\\t {variable} = {value}'.format(variable = k, value = v))\n",
    "print('-------------------------------------------------------------')\n",
    "print('View %s :'%view_1)\n",
    "for k, v in get_parameters(l_view1).items():\n",
    "    print('\\t {variable} = {value}'.format(variable = k, value = v))"
   ]
  },
  {
   "cell_type": "markdown",
   "metadata": {},
   "source": [
    "# Question 1.3"
   ]
  },
  {
   "cell_type": "code",
   "execution_count": 120,
   "metadata": {},
   "outputs": [],
   "source": [
    "def calculate_3d_point(u0:float, v0:float, u1:float, v1:float, L0:np.ndarray, L1:np.ndarray) -> np.ndarray:\n",
    "    \"\"\"\n",
    "    Calculates a 3D point from 2 2D coordinates pairs and L0 & L1 DLT calibration coefficients\n",
    "\n",
    "    Parameters\n",
    "    ----------\n",
    "    u0 : float\n",
    "        point 1 x-coordinate\n",
    "    v0 : float\n",
    "        point 1 y-coordinate\n",
    "    u1 : float\n",
    "        point 2 x-coordinate\n",
    "    v1 : float\n",
    "        point 2 y-coordinate\n",
    "    L0 : np.ndarray\n",
    "        DLT coefficients for view 1\n",
    "    L1 : np.ndarray\n",
    "        DLT coefficients for view 2\n",
    "    \"\"\"\n",
    "    A = []\n",
    "    # TODO : using Appendix A, write a function that takes 2 pairs of 2D coordinates and 2 11-parameters vectors as an input to return the corresponding 3D point. \n",
    "    # HINT 1 : It's the exact same problem as in question 1.1, but now the unknowns are x,y and z !\n",
    "    # HINT 2 : Refactor the pair of equation in order to have a 4 equations system (2 equations per view, 2 views) for finding a triplet of coordinates : AM = 0 where M = [x, y, z, 1]\n",
    "    \n",
    "    #return spinetools.solver.dlt(np.array(A))\n",
    "    # to solve we need at least 2 sets of projection equations: \n",
    "    \n",
    "    A = [\n",
    "        # PA0 view - u0 equation\n",
    "        [u0 * L0[8] - L0[0], u0 * L0[9] - L0[1], u0 * L0[10] - L0[2], u0 - L0[3]],\n",
    "        # PA0 view - v0 equation\n",
    "        [v0 * L0[8] - L0[4], v0 * L0[9] - L0[5], v0 * L0[10] - L0[6], v0 - L0[7]],\n",
    "        # LAT view - u1 equation\n",
    "        [u1 * L1[8] - L1[0], u1 * L1[9] - L1[1], u1 * L1[10] - L1[2], u1 - L1[3]],\n",
    "        # LAT view - v1 equation\n",
    "        [v1 * L1[8] - L1[4], v1 * L1[9] - L1[5], v1 * L1[10] - L1[6], v1 - L1[7]]\n",
    "    ]\n",
    "    \n",
    "    # Solve the system using DLT \n",
    "    # M will give us [X, Y, Z, 1] -> We are interested in X, Y, Z\n",
    "    M = spinetools.solver.dlt(np.array(A))\n",
    "    \n",
    "    return M[:3]  #x,y,z"
   ]
  },
  {
   "cell_type": "code",
   "execution_count": 121,
   "metadata": {},
   "outputs": [
    {
     "data": {
      "application/vnd.plotly.v1+json": {
       "config": {
        "plotlyServerURL": "https://plot.ly"
       },
       "data": [
        {
         "hovertemplate": "<br><b>x</b>:%{x:.2f}<br><b>y</b>:%{y:.2f}<br><b>z</b>:%{z:.2f}<br><b>Landmark</b>:%{text}",
         "legendgroup": "Vertebra_T1",
         "legendgrouptitle": {
          "text": "Vertebra_T1"
         },
         "marker": {
          "color": "#AA0DFE",
          "size": 1
         },
         "mode": "markers",
         "name": " ",
         "text": [
          "Ped_Inf_R",
          "Ped_Inf_L",
          "Ped_Sup_R",
          "Ped_Sup_L",
          "Plat_Inf_Cent",
          "Plat_Sup_Cent"
         ],
         "type": "scatter3d",
         "x": [
          -330.923095703125,
          -327.06427001953125,
          -329.2810974121094,
          -325.4820556640625,
          -318.2561340332031,
          -316.2693786621094
         ],
         "y": [
          -11.212679862976074,
          11.853116035461426,
          -12.097249984741211,
          10.93912410736084,
          3.292612314224243,
          -0.67586749792099
         ],
         "z": [
          268.48675537109375,
          273.1998596191406,
          273.5940856933594,
          278.0789489746094,
          266.3448181152344,
          279.46905517578125
         ]
        },
        {
         "legendgroup": "Vertebra_T1",
         "legendgrouptitle": {
          "text": "Vertebra_T1"
         },
         "line": {
          "color": "#AA0DFE",
          "width": 5
         },
         "mode": "lines",
         "name": "Vertebra_T1",
         "showlegend": false,
         "type": "scatter3d",
         "x": [
          -330.923095703125,
          -329.2810974121094,
          -325.4820556640625,
          -327.06427001953125,
          -330.923095703125,
          -318.2561340332031,
          -327.06427001953125,
          -318.2561340332031,
          -316.2693786621094,
          -325.4820556640625,
          -316.2693786621094,
          -329.2810974121094
         ],
         "y": [
          -11.212679862976074,
          -12.097249984741211,
          10.93912410736084,
          11.853116035461426,
          -11.212679862976074,
          3.292612314224243,
          11.853116035461426,
          3.292612314224243,
          -0.67586749792099,
          10.93912410736084,
          -0.67586749792099,
          -12.097249984741211
         ],
         "z": [
          268.48675537109375,
          273.5940856933594,
          278.0789489746094,
          273.1998596191406,
          268.48675537109375,
          266.3448181152344,
          273.1998596191406,
          266.3448181152344,
          279.46905517578125,
          278.0789489746094,
          279.46905517578125,
          273.5940856933594
         ]
        },
        {
         "hovertemplate": "<br><b>x</b>:%{x:.2f}<br><b>y</b>:%{y:.2f}<br><b>z</b>:%{z:.2f}<br><b>Landmark</b>:%{text}",
         "legendgroup": "Vertebra_T2",
         "legendgrouptitle": {
          "text": "Vertebra_T2"
         },
         "marker": {
          "color": "#3283FE",
          "size": 1
         },
         "mode": "markers",
         "name": " ",
         "text": [
          "Ped_Inf_R",
          "Ped_Inf_L",
          "Ped_Sup_R",
          "Ped_Sup_L",
          "Plat_Inf_Cent",
          "Plat_Sup_Cent"
         ],
         "type": "scatter3d",
         "x": [
          -335.6600036621094,
          -331.953857421875,
          -334.18939208984375,
          -330.1009521484375,
          -323.23565673828125,
          -320.30657958984375
         ],
         "y": [
          -4.411998748779297,
          15.97606372833252,
          -6.086640357971191,
          14.718720436096191,
          8.591314315795898,
          4.036414623260498
         ],
         "z": [
          251.23062133789062,
          256.3341064453125,
          257.025146484375,
          262.0126953125,
          248.3878936767578,
          261.7654113769531
         ]
        },
        {
         "legendgroup": "Vertebra_T2",
         "legendgrouptitle": {
          "text": "Vertebra_T2"
         },
         "line": {
          "color": "#3283FE",
          "width": 5
         },
         "mode": "lines",
         "name": "Vertebra_T2",
         "showlegend": false,
         "type": "scatter3d",
         "x": [
          -335.6600036621094,
          -334.18939208984375,
          -330.1009521484375,
          -331.953857421875,
          -335.6600036621094,
          -323.23565673828125,
          -331.953857421875,
          -323.23565673828125,
          -320.30657958984375,
          -330.1009521484375,
          -320.30657958984375,
          -334.18939208984375
         ],
         "y": [
          -4.411998748779297,
          -6.086640357971191,
          14.718720436096191,
          15.97606372833252,
          -4.411998748779297,
          8.591314315795898,
          15.97606372833252,
          8.591314315795898,
          4.036414623260498,
          14.718720436096191,
          4.036414623260498,
          -6.086640357971191
         ],
         "z": [
          251.23062133789062,
          257.025146484375,
          262.0126953125,
          256.3341064453125,
          251.23062133789062,
          248.3878936767578,
          256.3341064453125,
          248.3878936767578,
          261.7654113769531,
          262.0126953125,
          261.7654113769531,
          257.025146484375
         ]
        },
        {
         "hovertemplate": "<br><b>x</b>:%{x:.2f}<br><b>y</b>:%{y:.2f}<br><b>z</b>:%{z:.2f}<br><b>Landmark</b>:%{text}",
         "legendgroup": "Vertebra_T3",
         "legendgrouptitle": {
          "text": "Vertebra_T3"
         },
         "marker": {
          "color": "#85660D",
          "size": 1
         },
         "mode": "markers",
         "name": " ",
         "text": [
          "Ped_Inf_R",
          "Ped_Inf_L",
          "Ped_Sup_R",
          "Ped_Sup_L",
          "Plat_Inf_Cent",
          "Plat_Sup_Cent"
         ],
         "type": "scatter3d",
         "x": [
          -339.96282958984375,
          -337.89251708984375,
          -338.7435607910156,
          -336.5955505371094,
          -327.6732482910156,
          -325.0685119628906
         ],
         "y": [
          1.717463731765747,
          20.206195831298828,
          0.1651616096496582,
          19.655179977416992,
          12.509793281555176,
          9.471043586730957
         ],
         "z": [
          235.6608123779297,
          236.94549560546875,
          241.96612548828125,
          244.439697265625,
          228.5511932373047,
          243.84405517578125
         ]
        },
        {
         "legendgroup": "Vertebra_T3",
         "legendgrouptitle": {
          "text": "Vertebra_T3"
         },
         "line": {
          "color": "#85660D",
          "width": 5
         },
         "mode": "lines",
         "name": "Vertebra_T3",
         "showlegend": false,
         "type": "scatter3d",
         "x": [
          -339.96282958984375,
          -338.7435607910156,
          -336.5955505371094,
          -337.89251708984375,
          -339.96282958984375,
          -327.6732482910156,
          -337.89251708984375,
          -327.6732482910156,
          -325.0685119628906,
          -336.5955505371094,
          -325.0685119628906,
          -338.7435607910156
         ],
         "y": [
          1.717463731765747,
          0.1651616096496582,
          19.655179977416992,
          20.206195831298828,
          1.717463731765747,
          12.509793281555176,
          20.206195831298828,
          12.509793281555176,
          9.471043586730957,
          19.655179977416992,
          9.471043586730957,
          0.1651616096496582
         ],
         "z": [
          235.6608123779297,
          241.96612548828125,
          244.439697265625,
          236.94549560546875,
          235.6608123779297,
          228.5511932373047,
          236.94549560546875,
          228.5511932373047,
          243.84405517578125,
          244.439697265625,
          243.84405517578125,
          241.96612548828125
         ]
        },
        {
         "hovertemplate": "<br><b>x</b>:%{x:.2f}<br><b>y</b>:%{y:.2f}<br><b>z</b>:%{z:.2f}<br><b>Landmark</b>:%{text}",
         "legendgroup": "Vertebra_T4",
         "legendgrouptitle": {
          "text": "Vertebra_T4"
         },
         "marker": {
          "color": "#782AB6",
          "size": 1
         },
         "mode": "markers",
         "name": " ",
         "text": [
          "Ped_Inf_R",
          "Ped_Inf_L",
          "Ped_Sup_R",
          "Ped_Sup_L",
          "Plat_Inf_Cent",
          "Plat_Sup_Cent"
         ],
         "type": "scatter3d",
         "x": [
          -342.0589294433594,
          -342.6599426269531,
          -340.9122314453125,
          -341.2354736328125,
          -331.1719055175781,
          -328.3735046386719
         ],
         "y": [
          3.1111996173858643,
          20.51333999633789,
          4.489938259124756,
          21.858983993530273,
          8.040054321289062,
          12.726006507873535
         ],
         "z": [
          221.3553009033203,
          217.28944396972656,
          227.1543731689453,
          225.09225463867188,
          210.9751739501953,
          224.7299346923828
         ]
        },
        {
         "legendgroup": "Vertebra_T4",
         "legendgrouptitle": {
          "text": "Vertebra_T4"
         },
         "line": {
          "color": "#782AB6",
          "width": 5
         },
         "mode": "lines",
         "name": "Vertebra_T4",
         "showlegend": false,
         "type": "scatter3d",
         "x": [
          -342.0589294433594,
          -340.9122314453125,
          -341.2354736328125,
          -342.6599426269531,
          -342.0589294433594,
          -331.1719055175781,
          -342.6599426269531,
          -331.1719055175781,
          -328.3735046386719,
          -341.2354736328125,
          -328.3735046386719,
          -340.9122314453125
         ],
         "y": [
          3.1111996173858643,
          4.489938259124756,
          21.858983993530273,
          20.51333999633789,
          3.1111996173858643,
          8.040054321289062,
          20.51333999633789,
          8.040054321289062,
          12.726006507873535,
          21.858983993530273,
          12.726006507873535,
          4.489938259124756
         ],
         "z": [
          221.3553009033203,
          227.1543731689453,
          225.09225463867188,
          217.28944396972656,
          221.3553009033203,
          210.9751739501953,
          217.28944396972656,
          210.9751739501953,
          224.7299346923828,
          225.09225463867188,
          224.7299346923828,
          227.1543731689453
         ]
        },
        {
         "hovertemplate": "<br><b>x</b>:%{x:.2f}<br><b>y</b>:%{y:.2f}<br><b>z</b>:%{z:.2f}<br><b>Landmark</b>:%{text}",
         "legendgroup": "Vertebra_T5",
         "legendgrouptitle": {
          "text": "Vertebra_T5"
         },
         "marker": {
          "color": "#565656",
          "size": 1
         },
         "mode": "markers",
         "name": " ",
         "text": [
          "Ped_Inf_R",
          "Ped_Inf_L",
          "Ped_Sup_R",
          "Ped_Sup_L",
          "Plat_Inf_Cent",
          "Plat_Sup_Cent"
         ],
         "type": "scatter3d",
         "x": [
          -346.2756042480469,
          -347.1164245605469,
          -344.5940246582031,
          -345.8687438964844,
          -334.3738708496094,
          -331.9418640136719
         ],
         "y": [
          -2.8731753826141357,
          12.275531768798828,
          0.19237440824508667,
          15.785163879394531,
          -2.378192901611328,
          6.415545463562012
         ],
         "z": [
          204.4951171875,
          196.86599731445312,
          211.46456909179688,
          203.537841796875,
          194.845703125,
          207.8257293701172
         ]
        },
        {
         "legendgroup": "Vertebra_T5",
         "legendgrouptitle": {
          "text": "Vertebra_T5"
         },
         "line": {
          "color": "#565656",
          "width": 5
         },
         "mode": "lines",
         "name": "Vertebra_T5",
         "showlegend": false,
         "type": "scatter3d",
         "x": [
          -346.2756042480469,
          -344.5940246582031,
          -345.8687438964844,
          -347.1164245605469,
          -346.2756042480469,
          -334.3738708496094,
          -347.1164245605469,
          -334.3738708496094,
          -331.9418640136719,
          -345.8687438964844,
          -331.9418640136719,
          -344.5940246582031
         ],
         "y": [
          -2.8731753826141357,
          0.19237440824508667,
          15.785163879394531,
          12.275531768798828,
          -2.8731753826141357,
          -2.378192901611328,
          12.275531768798828,
          -2.378192901611328,
          6.415545463562012,
          15.785163879394531,
          6.415545463562012,
          0.19237440824508667
         ],
         "z": [
          204.4951171875,
          211.46456909179688,
          203.537841796875,
          196.86599731445312,
          204.4951171875,
          194.845703125,
          196.86599731445312,
          194.845703125,
          207.8257293701172,
          203.537841796875,
          207.8257293701172,
          211.46456909179688
         ]
        },
        {
         "hovertemplate": "<br><b>x</b>:%{x:.2f}<br><b>y</b>:%{y:.2f}<br><b>z</b>:%{z:.2f}<br><b>Landmark</b>:%{text}",
         "legendgroup": "Vertebra_T6",
         "legendgrouptitle": {
          "text": "Vertebra_T6"
         },
         "marker": {
          "color": "#1C8356",
          "size": 1
         },
         "mode": "markers",
         "name": " ",
         "text": [
          "Ped_Inf_R",
          "Ped_Inf_L",
          "Ped_Sup_R",
          "Ped_Sup_L",
          "Plat_Inf_Cent",
          "Plat_Sup_Cent"
         ],
         "type": "scatter3d",
         "x": [
          -351.1224670410156,
          -350.3196105957031,
          -349.7325744628906,
          -348.9556884765625,
          -336.6409912109375,
          -334.5758972167969
         ],
         "y": [
          -15.992173194885254,
          -0.887421190738678,
          -10.366050720214844,
          4.446751117706299,
          -16.990137100219727,
          -5.2617998123168945
         ],
         "z": [
          190.949951171875,
          179.21560668945312,
          196.70285034179688,
          185.2901611328125,
          178.52481079101562,
          190.8516845703125
         ]
        },
        {
         "legendgroup": "Vertebra_T6",
         "legendgrouptitle": {
          "text": "Vertebra_T6"
         },
         "line": {
          "color": "#1C8356",
          "width": 5
         },
         "mode": "lines",
         "name": "Vertebra_T6",
         "showlegend": false,
         "type": "scatter3d",
         "x": [
          -351.1224670410156,
          -349.7325744628906,
          -348.9556884765625,
          -350.3196105957031,
          -351.1224670410156,
          -336.6409912109375,
          -350.3196105957031,
          -336.6409912109375,
          -334.5758972167969,
          -348.9556884765625,
          -334.5758972167969,
          -349.7325744628906
         ],
         "y": [
          -15.992173194885254,
          -10.366050720214844,
          4.446751117706299,
          -0.887421190738678,
          -15.992173194885254,
          -16.990137100219727,
          -0.887421190738678,
          -16.990137100219727,
          -5.2617998123168945,
          4.446751117706299,
          -5.2617998123168945,
          -10.366050720214844
         ],
         "z": [
          190.949951171875,
          196.70285034179688,
          185.2901611328125,
          179.21560668945312,
          190.949951171875,
          178.52481079101562,
          179.21560668945312,
          178.52481079101562,
          190.8516845703125,
          185.2901611328125,
          190.8516845703125,
          196.70285034179688
         ]
        },
        {
         "hovertemplate": "<br><b>x</b>:%{x:.2f}<br><b>y</b>:%{y:.2f}<br><b>z</b>:%{z:.2f}<br><b>Landmark</b>:%{text}",
         "legendgroup": "Vertebra_T7",
         "legendgrouptitle": {
          "text": "Vertebra_T7"
         },
         "marker": {
          "color": "#16FF32",
          "size": 1
         },
         "mode": "markers",
         "name": " ",
         "text": [
          "Ped_Inf_R",
          "Ped_Inf_L",
          "Ped_Sup_R",
          "Ped_Sup_L",
          "Plat_Inf_Cent",
          "Plat_Sup_Cent"
         ],
         "type": "scatter3d",
         "x": [
          -354.8580627441406,
          -353.0145568847656,
          -353.4154968261719,
          -351.9737854003906,
          -338.3554382324219,
          -337.2276611328125
         ],
         "y": [
          -30.37547492980957,
          -14.99863338470459,
          -24.44832992553711,
          -10.262049674987793,
          -32.55999755859375,
          -20.51372718811035
         ],
         "z": [
          174.34080505371094,
          162.57052612304688,
          181.42633056640625,
          168.93447875976562,
          164.17398071289062,
          175.2887725830078
         ]
        },
        {
         "legendgroup": "Vertebra_T7",
         "legendgrouptitle": {
          "text": "Vertebra_T7"
         },
         "line": {
          "color": "#16FF32",
          "width": 5
         },
         "mode": "lines",
         "name": "Vertebra_T7",
         "showlegend": false,
         "type": "scatter3d",
         "x": [
          -354.8580627441406,
          -353.4154968261719,
          -351.9737854003906,
          -353.0145568847656,
          -354.8580627441406,
          -338.3554382324219,
          -353.0145568847656,
          -338.3554382324219,
          -337.2276611328125,
          -351.9737854003906,
          -337.2276611328125,
          -353.4154968261719
         ],
         "y": [
          -30.37547492980957,
          -24.44832992553711,
          -10.262049674987793,
          -14.99863338470459,
          -30.37547492980957,
          -32.55999755859375,
          -14.99863338470459,
          -32.55999755859375,
          -20.51372718811035,
          -10.262049674987793,
          -20.51372718811035,
          -24.44832992553711
         ],
         "z": [
          174.34080505371094,
          181.42633056640625,
          168.93447875976562,
          162.57052612304688,
          174.34080505371094,
          164.17398071289062,
          162.57052612304688,
          164.17398071289062,
          175.2887725830078,
          168.93447875976562,
          175.2887725830078,
          181.42633056640625
         ]
        },
        {
         "hovertemplate": "<br><b>x</b>:%{x:.2f}<br><b>y</b>:%{y:.2f}<br><b>z</b>:%{z:.2f}<br><b>Landmark</b>:%{text}",
         "legendgroup": "Vertebra_T8",
         "legendgrouptitle": {
          "text": "Vertebra_T8"
         },
         "marker": {
          "color": "#F7E1A0",
          "size": 1
         },
         "mode": "markers",
         "name": " ",
         "text": [
          "Ped_Inf_R",
          "Ped_Inf_L",
          "Ped_Sup_R",
          "Ped_Sup_L",
          "Plat_Inf_Cent",
          "Plat_Sup_Cent"
         ],
         "type": "scatter3d",
         "x": [
          -356.5777587890625,
          -353.00823974609375,
          -357.24029541015625,
          -353.03033447265625,
          -337.8694763183594,
          -338.5642395019531
         ],
         "y": [
          -44.96335220336914,
          -27.884784698486328,
          -39.9943962097168,
          -24.084951400756836,
          -45.29063415527344,
          -35.43811798095703
         ],
         "z": [
          157.22412109375,
          148.2303924560547,
          164.2143096923828,
          154.15658569335938,
          146.42323303222656,
          160.41371154785156
         ]
        },
        {
         "legendgroup": "Vertebra_T8",
         "legendgrouptitle": {
          "text": "Vertebra_T8"
         },
         "line": {
          "color": "#F7E1A0",
          "width": 5
         },
         "mode": "lines",
         "name": "Vertebra_T8",
         "showlegend": false,
         "type": "scatter3d",
         "x": [
          -356.5777587890625,
          -357.24029541015625,
          -353.03033447265625,
          -353.00823974609375,
          -356.5777587890625,
          -337.8694763183594,
          -353.00823974609375,
          -337.8694763183594,
          -338.5642395019531,
          -353.03033447265625,
          -338.5642395019531,
          -357.24029541015625
         ],
         "y": [
          -44.96335220336914,
          -39.9943962097168,
          -24.084951400756836,
          -27.884784698486328,
          -44.96335220336914,
          -45.29063415527344,
          -27.884784698486328,
          -45.29063415527344,
          -35.43811798095703,
          -24.084951400756836,
          -35.43811798095703,
          -39.9943962097168
         ],
         "z": [
          157.22412109375,
          164.2143096923828,
          154.15658569335938,
          148.2303924560547,
          157.22412109375,
          146.42323303222656,
          148.2303924560547,
          146.42323303222656,
          160.41371154785156,
          154.15658569335938,
          160.41371154785156,
          164.2143096923828
         ]
        },
        {
         "hovertemplate": "<br><b>x</b>:%{x:.2f}<br><b>y</b>:%{y:.2f}<br><b>z</b>:%{z:.2f}<br><b>Landmark</b>:%{text}",
         "legendgroup": "Vertebra_T9",
         "legendgrouptitle": {
          "text": "Vertebra_T9"
         },
         "marker": {
          "color": "#E2E2E2",
          "size": 1
         },
         "mode": "markers",
         "name": " ",
         "text": [
          "Ped_Inf_R",
          "Ped_Inf_L",
          "Ped_Sup_R",
          "Ped_Sup_L",
          "Plat_Inf_Cent",
          "Plat_Sup_Cent"
         ],
         "type": "scatter3d",
         "x": [
          -355.8126220703125,
          -350.4222412109375,
          -356.982666015625,
          -351.16778564453125,
          -334.7939758300781,
          -336.8071594238281
         ],
         "y": [
          -54.64005661010742,
          -36.56064987182617,
          -51.828399658203125,
          -33.08674621582031,
          -52.59958267211914,
          -47.42863464355469
         ],
         "z": [
          131.5426025390625,
          127.68391418457031,
          140.15994262695312,
          135.8545684814453,
          123.47554016113281,
          140.593505859375
         ]
        },
        {
         "legendgroup": "Vertebra_T9",
         "legendgrouptitle": {
          "text": "Vertebra_T9"
         },
         "line": {
          "color": "#E2E2E2",
          "width": 5
         },
         "mode": "lines",
         "name": "Vertebra_T9",
         "showlegend": false,
         "type": "scatter3d",
         "x": [
          -355.8126220703125,
          -356.982666015625,
          -351.16778564453125,
          -350.4222412109375,
          -355.8126220703125,
          -334.7939758300781,
          -350.4222412109375,
          -334.7939758300781,
          -336.8071594238281,
          -351.16778564453125,
          -336.8071594238281,
          -356.982666015625
         ],
         "y": [
          -54.64005661010742,
          -51.828399658203125,
          -33.08674621582031,
          -36.56064987182617,
          -54.64005661010742,
          -52.59958267211914,
          -36.56064987182617,
          -52.59958267211914,
          -47.42863464355469,
          -33.08674621582031,
          -47.42863464355469,
          -51.828399658203125
         ],
         "z": [
          131.5426025390625,
          140.15994262695312,
          135.8545684814453,
          127.68391418457031,
          131.5426025390625,
          123.47554016113281,
          127.68391418457031,
          123.47554016113281,
          140.593505859375,
          135.8545684814453,
          140.593505859375,
          140.15994262695312
         ]
        },
        {
         "hovertemplate": "<br><b>x</b>:%{x:.2f}<br><b>y</b>:%{y:.2f}<br><b>z</b>:%{z:.2f}<br><b>Landmark</b>:%{text}",
         "legendgroup": "Vertebra_T10",
         "legendgrouptitle": {
          "text": "Vertebra_T10"
         },
         "marker": {
          "color": "#1CBE4F",
          "size": 1
         },
         "mode": "markers",
         "name": " ",
         "text": [
          "Ped_Inf_R",
          "Ped_Inf_L",
          "Ped_Sup_R",
          "Ped_Sup_L",
          "Plat_Inf_Cent",
          "Plat_Sup_Cent"
         ],
         "type": "scatter3d",
         "x": [
          -351.7813720703125,
          -345.698974609375,
          -353.90252685546875,
          -347.3775634765625,
          -329.7674865722656,
          -333.6835021972656
         ],
         "y": [
          -57.0771369934082,
          -37.45621871948242,
          -57.69121551513672,
          -37.4324951171875,
          -50.30217361450195,
          -51.62905502319336
         ],
         "z": [
          107.17786407470703,
          111.79887390136719,
          118.137939453125,
          121.19763946533203,
          101.25393676757812,
          118.69774627685547
         ]
        },
        {
         "legendgroup": "Vertebra_T10",
         "legendgrouptitle": {
          "text": "Vertebra_T10"
         },
         "line": {
          "color": "#1CBE4F",
          "width": 5
         },
         "mode": "lines",
         "name": "Vertebra_T10",
         "showlegend": false,
         "type": "scatter3d",
         "x": [
          -351.7813720703125,
          -353.90252685546875,
          -347.3775634765625,
          -345.698974609375,
          -351.7813720703125,
          -329.7674865722656,
          -345.698974609375,
          -329.7674865722656,
          -333.6835021972656,
          -347.3775634765625,
          -333.6835021972656,
          -353.90252685546875
         ],
         "y": [
          -57.0771369934082,
          -57.69121551513672,
          -37.4324951171875,
          -37.45621871948242,
          -57.0771369934082,
          -50.30217361450195,
          -37.45621871948242,
          -50.30217361450195,
          -51.62905502319336,
          -37.4324951171875,
          -51.62905502319336,
          -57.69121551513672
         ],
         "z": [
          107.17786407470703,
          118.137939453125,
          121.19763946533203,
          111.79887390136719,
          107.17786407470703,
          101.25393676757812,
          111.79887390136719,
          101.25393676757812,
          118.69774627685547,
          121.19763946533203,
          118.69774627685547,
          118.137939453125
         ]
        },
        {
         "hovertemplate": "<br><b>x</b>:%{x:.2f}<br><b>y</b>:%{y:.2f}<br><b>z</b>:%{z:.2f}<br><b>Landmark</b>:%{text}",
         "legendgroup": "Vertebra_T11",
         "legendgrouptitle": {
          "text": "Vertebra_T11"
         },
         "marker": {
          "color": "#C4451C",
          "size": 1
         },
         "mode": "markers",
         "name": " ",
         "text": [
          "Ped_Inf_R",
          "Ped_Inf_L",
          "Ped_Sup_R",
          "Ped_Sup_L",
          "Plat_Inf_Cent",
          "Plat_Sup_Cent"
         ],
         "type": "scatter3d",
         "x": [
          -344.26458740234375,
          -341.61798095703125,
          -347.5793151855469,
          -344.25927734375,
          -322.69354248046875,
          -328.3359375
         ],
         "y": [
          -50.7525634765625,
          -31.23649024963379,
          -55.030826568603516,
          -35.91199493408203,
          -38.62028503417969,
          -48.75920867919922
         ],
         "z": [
          79.99398803710938,
          89.78936767578125,
          92.54244995117188,
          99.3856201171875,
          78.4644775390625,
          97.16954040527344
         ]
        },
        {
         "legendgroup": "Vertebra_T11",
         "legendgrouptitle": {
          "text": "Vertebra_T11"
         },
         "line": {
          "color": "#C4451C",
          "width": 5
         },
         "mode": "lines",
         "name": "Vertebra_T11",
         "showlegend": false,
         "type": "scatter3d",
         "x": [
          -344.26458740234375,
          -347.5793151855469,
          -344.25927734375,
          -341.61798095703125,
          -344.26458740234375,
          -322.69354248046875,
          -341.61798095703125,
          -322.69354248046875,
          -328.3359375,
          -344.25927734375,
          -328.3359375,
          -347.5793151855469
         ],
         "y": [
          -50.7525634765625,
          -55.030826568603516,
          -35.91199493408203,
          -31.23649024963379,
          -50.7525634765625,
          -38.62028503417969,
          -31.23649024963379,
          -38.62028503417969,
          -48.75920867919922,
          -35.91199493408203,
          -48.75920867919922,
          -55.030826568603516
         ],
         "z": [
          79.99398803710938,
          92.54244995117188,
          99.3856201171875,
          89.78936767578125,
          79.99398803710938,
          78.4644775390625,
          89.78936767578125,
          78.4644775390625,
          97.16954040527344,
          99.3856201171875,
          97.16954040527344,
          92.54244995117188
         ]
        },
        {
         "hovertemplate": "<br><b>x</b>:%{x:.2f}<br><b>y</b>:%{y:.2f}<br><b>z</b>:%{z:.2f}<br><b>Landmark</b>:%{text}",
         "legendgroup": "Vertebra_T12",
         "legendgrouptitle": {
          "text": "Vertebra_T12"
         },
         "marker": {
          "color": "#DEA0FD",
          "size": 1
         },
         "mode": "markers",
         "name": " ",
         "text": [
          "Ped_Inf_R",
          "Ped_Inf_L",
          "Ped_Sup_R",
          "Ped_Sup_L",
          "Plat_Inf_Cent",
          "Plat_Sup_Cent"
         ],
         "type": "scatter3d",
         "x": [
          -331.6573181152344,
          -334.17645263671875,
          -335.3829345703125,
          -336.8791198730469,
          -313.5521240234375,
          -320.8997802734375
         ],
         "y": [
          -37.16204833984375,
          -18.367509841918945,
          -43.42237854003906,
          -24.672937393188477,
          -23.01317024230957,
          -36.411399841308594
         ],
         "z": [
          54.84454345703125,
          68.30732727050781,
          65.46544647216797,
          76.82392120361328,
          57.110233306884766,
          74.5710678100586
         ]
        },
        {
         "legendgroup": "Vertebra_T12",
         "legendgrouptitle": {
          "text": "Vertebra_T12"
         },
         "line": {
          "color": "#DEA0FD",
          "width": 5
         },
         "mode": "lines",
         "name": "Vertebra_T12",
         "showlegend": false,
         "type": "scatter3d",
         "x": [
          -331.6573181152344,
          -335.3829345703125,
          -336.8791198730469,
          -334.17645263671875,
          -331.6573181152344,
          -313.5521240234375,
          -334.17645263671875,
          -313.5521240234375,
          -320.8997802734375,
          -336.8791198730469,
          -320.8997802734375,
          -335.3829345703125
         ],
         "y": [
          -37.16204833984375,
          -43.42237854003906,
          -24.672937393188477,
          -18.367509841918945,
          -37.16204833984375,
          -23.01317024230957,
          -18.367509841918945,
          -23.01317024230957,
          -36.411399841308594,
          -24.672937393188477,
          -36.411399841308594,
          -43.42237854003906
         ],
         "z": [
          54.84454345703125,
          65.46544647216797,
          76.82392120361328,
          68.30732727050781,
          54.84454345703125,
          57.110233306884766,
          68.30732727050781,
          57.110233306884766,
          74.5710678100586,
          76.82392120361328,
          74.5710678100586,
          65.46544647216797
         ]
        },
        {
         "hovertemplate": "<br><b>x</b>:%{x:.2f}<br><b>y</b>:%{y:.2f}<br><b>z</b>:%{z:.2f}<br><b>Landmark</b>:%{text}",
         "legendgroup": "Vertebra_L1",
         "legendgrouptitle": {
          "text": "Vertebra_L1"
         },
         "marker": {
          "color": "#FE00FA",
          "size": 1
         },
         "mode": "markers",
         "name": " ",
         "text": [
          "Ped_Inf_R",
          "Ped_Inf_L",
          "Ped_Sup_R",
          "Ped_Sup_L",
          "Plat_Inf_Cent",
          "Plat_Sup_Cent"
         ],
         "type": "scatter3d",
         "x": [
          -324.01593017578125,
          -326.9358825683594,
          -326.7974853515625,
          -330.2556457519531,
          -305.25787353515625,
          -312.13006591796875
         ],
         "y": [
          -19.743391036987305,
          -1.5197699069976807,
          -28.016765594482422,
          -7.898943901062012,
          -6.641270637512207,
          -20.48444938659668
         ],
         "z": [
          32.72433090209961,
          47.26763153076172,
          42.56452941894531,
          56.02958297729492,
          34.887725830078125,
          53.73967742919922
         ]
        },
        {
         "legendgroup": "Vertebra_L1",
         "legendgrouptitle": {
          "text": "Vertebra_L1"
         },
         "line": {
          "color": "#FE00FA",
          "width": 5
         },
         "mode": "lines",
         "name": "Vertebra_L1",
         "showlegend": false,
         "type": "scatter3d",
         "x": [
          -324.01593017578125,
          -326.7974853515625,
          -330.2556457519531,
          -326.9358825683594,
          -324.01593017578125,
          -305.25787353515625,
          -326.9358825683594,
          -305.25787353515625,
          -312.13006591796875,
          -330.2556457519531,
          -312.13006591796875,
          -326.7974853515625
         ],
         "y": [
          -19.743391036987305,
          -28.016765594482422,
          -7.898943901062012,
          -1.5197699069976807,
          -19.743391036987305,
          -6.641270637512207,
          -1.5197699069976807,
          -6.641270637512207,
          -20.48444938659668,
          -7.898943901062012,
          -20.48444938659668,
          -28.016765594482422
         ],
         "z": [
          32.72433090209961,
          42.56452941894531,
          56.02958297729492,
          47.26763153076172,
          32.72433090209961,
          34.887725830078125,
          47.26763153076172,
          34.887725830078125,
          53.73967742919922,
          56.02958297729492,
          53.73967742919922,
          42.56452941894531
         ]
        },
        {
         "hovertemplate": "<br><b>x</b>:%{x:.2f}<br><b>y</b>:%{y:.2f}<br><b>z</b>:%{z:.2f}<br><b>Landmark</b>:%{text}",
         "legendgroup": "Vertebra_L2",
         "legendgrouptitle": {
          "text": "Vertebra_L2"
         },
         "marker": {
          "color": "#325A9B",
          "size": 1
         },
         "mode": "markers",
         "name": " ",
         "text": [
          "Ped_Inf_R",
          "Ped_Inf_L",
          "Ped_Sup_R",
          "Ped_Sup_L",
          "Plat_Inf_Cent",
          "Plat_Sup_Cent"
         ],
         "type": "scatter3d",
         "x": [
          -315.9670104980469,
          -320.08343505859375,
          -318.5557861328125,
          -322.3125305175781,
          -297.3855895996094,
          -303.4790954589844
         ],
         "y": [
          -4.379336833953857,
          16.474031448364258,
          -10.159279823303223,
          11.303235054016113,
          10.919486999511719,
          -3.089016914367676
         ],
         "z": [
          11.73060131072998,
          23.618465423583984,
          20.537370681762695,
          31.973215103149414,
          11.140936851501465,
          30.422916412353516
         ]
        },
        {
         "legendgroup": "Vertebra_L2",
         "legendgrouptitle": {
          "text": "Vertebra_L2"
         },
         "line": {
          "color": "#325A9B",
          "width": 5
         },
         "mode": "lines",
         "name": "Vertebra_L2",
         "showlegend": false,
         "type": "scatter3d",
         "x": [
          -315.9670104980469,
          -318.5557861328125,
          -322.3125305175781,
          -320.08343505859375,
          -315.9670104980469,
          -297.3855895996094,
          -320.08343505859375,
          -297.3855895996094,
          -303.4790954589844,
          -322.3125305175781,
          -303.4790954589844,
          -318.5557861328125
         ],
         "y": [
          -4.379336833953857,
          -10.159279823303223,
          11.303235054016113,
          16.474031448364258,
          -4.379336833953857,
          10.919486999511719,
          16.474031448364258,
          10.919486999511719,
          -3.089016914367676,
          11.303235054016113,
          -3.089016914367676,
          -10.159279823303223
         ],
         "z": [
          11.73060131072998,
          20.537370681762695,
          31.973215103149414,
          23.618465423583984,
          11.73060131072998,
          11.140936851501465,
          23.618465423583984,
          11.140936851501465,
          30.422916412353516,
          31.973215103149414,
          30.422916412353516,
          20.537370681762695
         ]
        },
        {
         "hovertemplate": "<br><b>x</b>:%{x:.2f}<br><b>y</b>:%{y:.2f}<br><b>z</b>:%{z:.2f}<br><b>Landmark</b>:%{text}",
         "legendgroup": "Vertebra_L3",
         "legendgrouptitle": {
          "text": "Vertebra_L3"
         },
         "marker": {
          "color": "#FEAF16",
          "size": 1
         },
         "mode": "markers",
         "name": " ",
         "text": [
          "Ped_Inf_R",
          "Ped_Inf_L",
          "Ped_Sup_R",
          "Ped_Sup_L",
          "Plat_Inf_Cent",
          "Plat_Sup_Cent"
         ],
         "type": "scatter3d",
         "x": [
          -310.8529357910156,
          -311.9363098144531,
          -311.9572448730469,
          -313.7318420410156,
          -292.4295349121094,
          -295.333251953125
         ],
         "y": [
          6.619351863861084,
          31.129919052124023,
          4.021517753601074,
          27.212448120117188,
          22.433034896850586,
          13.87579345703125
         ],
         "z": [
          -11.870223045349121,
          -5.626539707183838,
          -4.625264644622803,
          3.5378971099853516,
          -17.896942138671875,
          4.790992736816406
         ]
        },
        {
         "legendgroup": "Vertebra_L3",
         "legendgrouptitle": {
          "text": "Vertebra_L3"
         },
         "line": {
          "color": "#FEAF16",
          "width": 5
         },
         "mode": "lines",
         "name": "Vertebra_L3",
         "showlegend": false,
         "type": "scatter3d",
         "x": [
          -310.8529357910156,
          -311.9572448730469,
          -313.7318420410156,
          -311.9363098144531,
          -310.8529357910156,
          -292.4295349121094,
          -311.9363098144531,
          -292.4295349121094,
          -295.333251953125,
          -313.7318420410156,
          -295.333251953125,
          -311.9572448730469
         ],
         "y": [
          6.619351863861084,
          4.021517753601074,
          27.212448120117188,
          31.129919052124023,
          6.619351863861084,
          22.433034896850586,
          31.129919052124023,
          22.433034896850586,
          13.87579345703125,
          27.212448120117188,
          13.87579345703125,
          4.021517753601074
         ],
         "z": [
          -11.870223045349121,
          -4.625264644622803,
          3.5378971099853516,
          -5.626539707183838,
          -11.870223045349121,
          -17.896942138671875,
          -5.626539707183838,
          -17.896942138671875,
          4.790992736816406,
          3.5378971099853516,
          4.790992736816406,
          -4.625264644622803
         ]
        },
        {
         "hovertemplate": "<br><b>x</b>:%{x:.2f}<br><b>y</b>:%{y:.2f}<br><b>z</b>:%{z:.2f}<br><b>Landmark</b>:%{text}",
         "legendgroup": "Vertebra_L4",
         "legendgrouptitle": {
          "text": "Vertebra_L4"
         },
         "marker": {
          "color": "#F8A19F",
          "size": 1
         },
         "mode": "markers",
         "name": " ",
         "text": [
          "Ped_Inf_R",
          "Ped_Inf_L",
          "Ped_Sup_R",
          "Ped_Sup_L",
          "Plat_Inf_Cent",
          "Plat_Sup_Cent"
         ],
         "type": "scatter3d",
         "x": [
          -309.0760803222656,
          -309.30633544921875,
          -309.7168273925781,
          -309.67864990234375,
          -291.6294250488281,
          -291.7680969238281
         ],
         "y": [
          9.572076797485352,
          38.99968719482422,
          9.877437591552734,
          38.002803802490234,
          26.09232521057129,
          22.782203674316406
         ],
         "z": [
          -40.58388900756836,
          -37.477569580078125,
          -30.06937026977539,
          -28.49507713317871,
          -50.47745132446289,
          -25.497577667236328
         ]
        },
        {
         "legendgroup": "Vertebra_L4",
         "legendgrouptitle": {
          "text": "Vertebra_L4"
         },
         "line": {
          "color": "#F8A19F",
          "width": 5
         },
         "mode": "lines",
         "name": "Vertebra_L4",
         "showlegend": false,
         "type": "scatter3d",
         "x": [
          -309.0760803222656,
          -309.7168273925781,
          -309.67864990234375,
          -309.30633544921875,
          -309.0760803222656,
          -291.6294250488281,
          -309.30633544921875,
          -291.6294250488281,
          -291.7680969238281,
          -309.67864990234375,
          -291.7680969238281,
          -309.7168273925781
         ],
         "y": [
          9.572076797485352,
          9.877437591552734,
          38.002803802490234,
          38.99968719482422,
          9.572076797485352,
          26.09232521057129,
          38.99968719482422,
          26.09232521057129,
          22.782203674316406,
          38.002803802490234,
          22.782203674316406,
          9.877437591552734
         ],
         "z": [
          -40.58388900756836,
          -30.06937026977539,
          -28.49507713317871,
          -37.477569580078125,
          -40.58388900756836,
          -50.47745132446289,
          -37.477569580078125,
          -50.47745132446289,
          -25.497577667236328,
          -28.49507713317871,
          -25.497577667236328,
          -30.06937026977539
         ]
        },
        {
         "hovertemplate": "<br><b>x</b>:%{x:.2f}<br><b>y</b>:%{y:.2f}<br><b>z</b>:%{z:.2f}<br><b>Landmark</b>:%{text}",
         "legendgroup": "Vertebra_L5",
         "legendgrouptitle": {
          "text": "Vertebra_L5"
         },
         "marker": {
          "color": "#90AD1C",
          "size": 1
         },
         "mode": "markers",
         "name": " ",
         "text": [
          "Ped_Inf_R",
          "Ped_Inf_L",
          "Ped_Sup_R",
          "Ped_Sup_L",
          "Plat_Inf_Cent",
          "Plat_Sup_Cent"
         ],
         "type": "scatter3d",
         "x": [
          -313.39544677734375,
          -313.2596130371094,
          -310.3869323730469,
          -310.1802978515625,
          -300.6304016113281,
          -292.9247131347656
         ],
         "y": [
          6.999301910400391,
          42.17076873779297,
          8.94421672821045,
          40.30759811401367,
          24.680572509765625,
          25.431547164916992
         ],
         "z": [
          -65.8064193725586,
          -67.10189819335938,
          -57.7408332824707,
          -57.60225296020508,
          -79.93927001953125,
          -57.29365921020508
         ]
        },
        {
         "legendgroup": "Vertebra_L5",
         "legendgrouptitle": {
          "text": "Vertebra_L5"
         },
         "line": {
          "color": "#90AD1C",
          "width": 5
         },
         "mode": "lines",
         "name": "Vertebra_L5",
         "showlegend": false,
         "type": "scatter3d",
         "x": [
          -313.39544677734375,
          -310.3869323730469,
          -310.1802978515625,
          -313.2596130371094,
          -313.39544677734375,
          -300.6304016113281,
          -313.2596130371094,
          -300.6304016113281,
          -292.9247131347656,
          -310.1802978515625,
          -292.9247131347656,
          -310.3869323730469
         ],
         "y": [
          6.999301910400391,
          8.94421672821045,
          40.30759811401367,
          42.17076873779297,
          6.999301910400391,
          24.680572509765625,
          42.17076873779297,
          24.680572509765625,
          25.431547164916992,
          40.30759811401367,
          25.431547164916992,
          8.94421672821045
         ],
         "z": [
          -65.8064193725586,
          -57.7408332824707,
          -57.60225296020508,
          -67.10189819335938,
          -65.8064193725586,
          -79.93927001953125,
          -67.10189819335938,
          -79.93927001953125,
          -57.29365921020508,
          -57.60225296020508,
          -57.29365921020508,
          -57.7408332824707
         ]
        }
       ],
       "layout": {
        "autosize": false,
        "height": 700,
        "scene": {
         "aspectmode": "data"
        },
        "template": {
         "data": {
          "bar": [
           {
            "error_x": {
             "color": "#2a3f5f"
            },
            "error_y": {
             "color": "#2a3f5f"
            },
            "marker": {
             "line": {
              "color": "#E5ECF6",
              "width": 0.5
             },
             "pattern": {
              "fillmode": "overlay",
              "size": 10,
              "solidity": 0.2
             }
            },
            "type": "bar"
           }
          ],
          "barpolar": [
           {
            "marker": {
             "line": {
              "color": "#E5ECF6",
              "width": 0.5
             },
             "pattern": {
              "fillmode": "overlay",
              "size": 10,
              "solidity": 0.2
             }
            },
            "type": "barpolar"
           }
          ],
          "carpet": [
           {
            "aaxis": {
             "endlinecolor": "#2a3f5f",
             "gridcolor": "white",
             "linecolor": "white",
             "minorgridcolor": "white",
             "startlinecolor": "#2a3f5f"
            },
            "baxis": {
             "endlinecolor": "#2a3f5f",
             "gridcolor": "white",
             "linecolor": "white",
             "minorgridcolor": "white",
             "startlinecolor": "#2a3f5f"
            },
            "type": "carpet"
           }
          ],
          "choropleth": [
           {
            "colorbar": {
             "outlinewidth": 0,
             "ticks": ""
            },
            "type": "choropleth"
           }
          ],
          "contour": [
           {
            "colorbar": {
             "outlinewidth": 0,
             "ticks": ""
            },
            "colorscale": [
             [
              0,
              "#0d0887"
             ],
             [
              0.1111111111111111,
              "#46039f"
             ],
             [
              0.2222222222222222,
              "#7201a8"
             ],
             [
              0.3333333333333333,
              "#9c179e"
             ],
             [
              0.4444444444444444,
              "#bd3786"
             ],
             [
              0.5555555555555556,
              "#d8576b"
             ],
             [
              0.6666666666666666,
              "#ed7953"
             ],
             [
              0.7777777777777778,
              "#fb9f3a"
             ],
             [
              0.8888888888888888,
              "#fdca26"
             ],
             [
              1,
              "#f0f921"
             ]
            ],
            "type": "contour"
           }
          ],
          "contourcarpet": [
           {
            "colorbar": {
             "outlinewidth": 0,
             "ticks": ""
            },
            "type": "contourcarpet"
           }
          ],
          "heatmap": [
           {
            "colorbar": {
             "outlinewidth": 0,
             "ticks": ""
            },
            "colorscale": [
             [
              0,
              "#0d0887"
             ],
             [
              0.1111111111111111,
              "#46039f"
             ],
             [
              0.2222222222222222,
              "#7201a8"
             ],
             [
              0.3333333333333333,
              "#9c179e"
             ],
             [
              0.4444444444444444,
              "#bd3786"
             ],
             [
              0.5555555555555556,
              "#d8576b"
             ],
             [
              0.6666666666666666,
              "#ed7953"
             ],
             [
              0.7777777777777778,
              "#fb9f3a"
             ],
             [
              0.8888888888888888,
              "#fdca26"
             ],
             [
              1,
              "#f0f921"
             ]
            ],
            "type": "heatmap"
           }
          ],
          "heatmapgl": [
           {
            "colorbar": {
             "outlinewidth": 0,
             "ticks": ""
            },
            "colorscale": [
             [
              0,
              "#0d0887"
             ],
             [
              0.1111111111111111,
              "#46039f"
             ],
             [
              0.2222222222222222,
              "#7201a8"
             ],
             [
              0.3333333333333333,
              "#9c179e"
             ],
             [
              0.4444444444444444,
              "#bd3786"
             ],
             [
              0.5555555555555556,
              "#d8576b"
             ],
             [
              0.6666666666666666,
              "#ed7953"
             ],
             [
              0.7777777777777778,
              "#fb9f3a"
             ],
             [
              0.8888888888888888,
              "#fdca26"
             ],
             [
              1,
              "#f0f921"
             ]
            ],
            "type": "heatmapgl"
           }
          ],
          "histogram": [
           {
            "marker": {
             "pattern": {
              "fillmode": "overlay",
              "size": 10,
              "solidity": 0.2
             }
            },
            "type": "histogram"
           }
          ],
          "histogram2d": [
           {
            "colorbar": {
             "outlinewidth": 0,
             "ticks": ""
            },
            "colorscale": [
             [
              0,
              "#0d0887"
             ],
             [
              0.1111111111111111,
              "#46039f"
             ],
             [
              0.2222222222222222,
              "#7201a8"
             ],
             [
              0.3333333333333333,
              "#9c179e"
             ],
             [
              0.4444444444444444,
              "#bd3786"
             ],
             [
              0.5555555555555556,
              "#d8576b"
             ],
             [
              0.6666666666666666,
              "#ed7953"
             ],
             [
              0.7777777777777778,
              "#fb9f3a"
             ],
             [
              0.8888888888888888,
              "#fdca26"
             ],
             [
              1,
              "#f0f921"
             ]
            ],
            "type": "histogram2d"
           }
          ],
          "histogram2dcontour": [
           {
            "colorbar": {
             "outlinewidth": 0,
             "ticks": ""
            },
            "colorscale": [
             [
              0,
              "#0d0887"
             ],
             [
              0.1111111111111111,
              "#46039f"
             ],
             [
              0.2222222222222222,
              "#7201a8"
             ],
             [
              0.3333333333333333,
              "#9c179e"
             ],
             [
              0.4444444444444444,
              "#bd3786"
             ],
             [
              0.5555555555555556,
              "#d8576b"
             ],
             [
              0.6666666666666666,
              "#ed7953"
             ],
             [
              0.7777777777777778,
              "#fb9f3a"
             ],
             [
              0.8888888888888888,
              "#fdca26"
             ],
             [
              1,
              "#f0f921"
             ]
            ],
            "type": "histogram2dcontour"
           }
          ],
          "mesh3d": [
           {
            "colorbar": {
             "outlinewidth": 0,
             "ticks": ""
            },
            "type": "mesh3d"
           }
          ],
          "parcoords": [
           {
            "line": {
             "colorbar": {
              "outlinewidth": 0,
              "ticks": ""
             }
            },
            "type": "parcoords"
           }
          ],
          "pie": [
           {
            "automargin": true,
            "type": "pie"
           }
          ],
          "scatter": [
           {
            "fillpattern": {
             "fillmode": "overlay",
             "size": 10,
             "solidity": 0.2
            },
            "type": "scatter"
           }
          ],
          "scatter3d": [
           {
            "line": {
             "colorbar": {
              "outlinewidth": 0,
              "ticks": ""
             }
            },
            "marker": {
             "colorbar": {
              "outlinewidth": 0,
              "ticks": ""
             }
            },
            "type": "scatter3d"
           }
          ],
          "scattercarpet": [
           {
            "marker": {
             "colorbar": {
              "outlinewidth": 0,
              "ticks": ""
             }
            },
            "type": "scattercarpet"
           }
          ],
          "scattergeo": [
           {
            "marker": {
             "colorbar": {
              "outlinewidth": 0,
              "ticks": ""
             }
            },
            "type": "scattergeo"
           }
          ],
          "scattergl": [
           {
            "marker": {
             "colorbar": {
              "outlinewidth": 0,
              "ticks": ""
             }
            },
            "type": "scattergl"
           }
          ],
          "scattermapbox": [
           {
            "marker": {
             "colorbar": {
              "outlinewidth": 0,
              "ticks": ""
             }
            },
            "type": "scattermapbox"
           }
          ],
          "scatterpolar": [
           {
            "marker": {
             "colorbar": {
              "outlinewidth": 0,
              "ticks": ""
             }
            },
            "type": "scatterpolar"
           }
          ],
          "scatterpolargl": [
           {
            "marker": {
             "colorbar": {
              "outlinewidth": 0,
              "ticks": ""
             }
            },
            "type": "scatterpolargl"
           }
          ],
          "scatterternary": [
           {
            "marker": {
             "colorbar": {
              "outlinewidth": 0,
              "ticks": ""
             }
            },
            "type": "scatterternary"
           }
          ],
          "surface": [
           {
            "colorbar": {
             "outlinewidth": 0,
             "ticks": ""
            },
            "colorscale": [
             [
              0,
              "#0d0887"
             ],
             [
              0.1111111111111111,
              "#46039f"
             ],
             [
              0.2222222222222222,
              "#7201a8"
             ],
             [
              0.3333333333333333,
              "#9c179e"
             ],
             [
              0.4444444444444444,
              "#bd3786"
             ],
             [
              0.5555555555555556,
              "#d8576b"
             ],
             [
              0.6666666666666666,
              "#ed7953"
             ],
             [
              0.7777777777777778,
              "#fb9f3a"
             ],
             [
              0.8888888888888888,
              "#fdca26"
             ],
             [
              1,
              "#f0f921"
             ]
            ],
            "type": "surface"
           }
          ],
          "table": [
           {
            "cells": {
             "fill": {
              "color": "#EBF0F8"
             },
             "line": {
              "color": "white"
             }
            },
            "header": {
             "fill": {
              "color": "#C8D4E3"
             },
             "line": {
              "color": "white"
             }
            },
            "type": "table"
           }
          ]
         },
         "layout": {
          "annotationdefaults": {
           "arrowcolor": "#2a3f5f",
           "arrowhead": 0,
           "arrowwidth": 1
          },
          "autotypenumbers": "strict",
          "coloraxis": {
           "colorbar": {
            "outlinewidth": 0,
            "ticks": ""
           }
          },
          "colorscale": {
           "diverging": [
            [
             0,
             "#8e0152"
            ],
            [
             0.1,
             "#c51b7d"
            ],
            [
             0.2,
             "#de77ae"
            ],
            [
             0.3,
             "#f1b6da"
            ],
            [
             0.4,
             "#fde0ef"
            ],
            [
             0.5,
             "#f7f7f7"
            ],
            [
             0.6,
             "#e6f5d0"
            ],
            [
             0.7,
             "#b8e186"
            ],
            [
             0.8,
             "#7fbc41"
            ],
            [
             0.9,
             "#4d9221"
            ],
            [
             1,
             "#276419"
            ]
           ],
           "sequential": [
            [
             0,
             "#0d0887"
            ],
            [
             0.1111111111111111,
             "#46039f"
            ],
            [
             0.2222222222222222,
             "#7201a8"
            ],
            [
             0.3333333333333333,
             "#9c179e"
            ],
            [
             0.4444444444444444,
             "#bd3786"
            ],
            [
             0.5555555555555556,
             "#d8576b"
            ],
            [
             0.6666666666666666,
             "#ed7953"
            ],
            [
             0.7777777777777778,
             "#fb9f3a"
            ],
            [
             0.8888888888888888,
             "#fdca26"
            ],
            [
             1,
             "#f0f921"
            ]
           ],
           "sequentialminus": [
            [
             0,
             "#0d0887"
            ],
            [
             0.1111111111111111,
             "#46039f"
            ],
            [
             0.2222222222222222,
             "#7201a8"
            ],
            [
             0.3333333333333333,
             "#9c179e"
            ],
            [
             0.4444444444444444,
             "#bd3786"
            ],
            [
             0.5555555555555556,
             "#d8576b"
            ],
            [
             0.6666666666666666,
             "#ed7953"
            ],
            [
             0.7777777777777778,
             "#fb9f3a"
            ],
            [
             0.8888888888888888,
             "#fdca26"
            ],
            [
             1,
             "#f0f921"
            ]
           ]
          },
          "colorway": [
           "#636efa",
           "#EF553B",
           "#00cc96",
           "#ab63fa",
           "#FFA15A",
           "#19d3f3",
           "#FF6692",
           "#B6E880",
           "#FF97FF",
           "#FECB52"
          ],
          "font": {
           "color": "#2a3f5f"
          },
          "geo": {
           "bgcolor": "white",
           "lakecolor": "white",
           "landcolor": "#E5ECF6",
           "showlakes": true,
           "showland": true,
           "subunitcolor": "white"
          },
          "hoverlabel": {
           "align": "left"
          },
          "hovermode": "closest",
          "mapbox": {
           "style": "light"
          },
          "paper_bgcolor": "white",
          "plot_bgcolor": "#E5ECF6",
          "polar": {
           "angularaxis": {
            "gridcolor": "white",
            "linecolor": "white",
            "ticks": ""
           },
           "bgcolor": "#E5ECF6",
           "radialaxis": {
            "gridcolor": "white",
            "linecolor": "white",
            "ticks": ""
           }
          },
          "scene": {
           "xaxis": {
            "backgroundcolor": "#E5ECF6",
            "gridcolor": "white",
            "gridwidth": 2,
            "linecolor": "white",
            "showbackground": true,
            "ticks": "",
            "zerolinecolor": "white"
           },
           "yaxis": {
            "backgroundcolor": "#E5ECF6",
            "gridcolor": "white",
            "gridwidth": 2,
            "linecolor": "white",
            "showbackground": true,
            "ticks": "",
            "zerolinecolor": "white"
           },
           "zaxis": {
            "backgroundcolor": "#E5ECF6",
            "gridcolor": "white",
            "gridwidth": 2,
            "linecolor": "white",
            "showbackground": true,
            "ticks": "",
            "zerolinecolor": "white"
           }
          },
          "shapedefaults": {
           "line": {
            "color": "#2a3f5f"
           }
          },
          "ternary": {
           "aaxis": {
            "gridcolor": "white",
            "linecolor": "white",
            "ticks": ""
           },
           "baxis": {
            "gridcolor": "white",
            "linecolor": "white",
            "ticks": ""
           },
           "bgcolor": "#E5ECF6",
           "caxis": {
            "gridcolor": "white",
            "linecolor": "white",
            "ticks": ""
           }
          },
          "title": {
           "x": 0.05
          },
          "xaxis": {
           "automargin": true,
           "gridcolor": "white",
           "linecolor": "white",
           "ticks": "",
           "title": {
            "standoff": 15
           },
           "zerolinecolor": "white",
           "zerolinewidth": 2
          },
          "yaxis": {
           "automargin": true,
           "gridcolor": "white",
           "linecolor": "white",
           "ticks": "",
           "title": {
            "standoff": 15
           },
           "zerolinecolor": "white",
           "zerolinewidth": 2
          }
         }
        },
        "width": 500
       }
      }
     },
     "metadata": {},
     "output_type": "display_data"
    }
   ],
   "source": [
    "\n",
    "#pio.renderers.default = 'browser'  # Change this if running outside Jupyter\n",
    "\n",
    "# Load the spine structure and the beads data\n",
    "spine = spinetools.structures.Spine(os.path.join(root_directory, 'Vertebrae2D.mat'))\n",
    "colors = px.colors.qualitative.Alphabet\n",
    "fig = spinetools.render.Plot3D()\n",
    "\n",
    "for i, v_name in enumerate(spine.vertebrae):\n",
    "    # TODO : for each vertebra, calculate the location of each anatomical landmark and add its x,y,z coordinates to vert_x, vert_y, vert_z. Each vertebra will then be added to the 3D plot and plotted in the end.\n",
    "    vert = spine.get(v_name).data # Returns the vertebra data\n",
    "    \"\"\"\n",
    "    HINT : the data is a table containing the landmark name and the x,y coordinates for each view (so 5 columns)\n",
    "    HINT : Print the variable vert, and add a 'break' instruction to get out of the loop\n",
    "    For each vertebra, you should have 6 points. Each point is linked to 2 pairs of 2D coordinates, one in each view. These coordinates, with the two 11-DLT parameters will allow you to calculate the 3D position of the 6 anatomical landmarks on the vertebra.\n",
    "    \"\"\"\n",
    "    vert_x, vert_y, vert_z = [], [], []\n",
    "    \"\"\"\n",
    "    PSEUDOCODE\n",
    "    for each anatomical_landmark in vertebra_points:\n",
    "        x_point, y_point, z_point <- calculate_3d_point(anatomical_landmark, l_view0, l_view1)\n",
    "        Append x_point to vert_x\n",
    "        Append y_point to vert_y\n",
    "        Append z_point to vert_z\n",
    "    \"\"\"\n",
    "    # for each anatomical_landmark in vertebra_points\n",
    "    for j, row in vert.iterrows():\n",
    "        # 2D PA0\n",
    "        u0, v0 = row['x_Vertebrae_PA0'], row['y_Vertebrae_PA0']\n",
    "        \n",
    "        # 2D LAT\n",
    "        u1, v1 = row['x_Vertebrae_LAT'], row['y_Vertebrae_LAT']\n",
    "        \n",
    "        # 3D using DLT \n",
    "        x, y, z = calculate_3d_point(u0, v0, u1, v1, l_view0, l_view1)\n",
    "        \n",
    "        vert_x.append(x)\n",
    "        vert_y.append(y)\n",
    "        vert_z.append(z)\n",
    "    \n",
    "    \n",
    "    fig.scatter_vertebrae(vert_x, vert_y, vert_z, v_name, colors[i]) # Adds the landmarks to the figure\n",
    "SPINE_3D_POINTS = fig.points # Access all the figure points as an array this way, will be useful in the rest of this assignment\n",
    "fig.show() # Shows the figure"
   ]
  },
  {
   "cell_type": "code",
   "execution_count": null,
   "metadata": {},
   "outputs": [],
   "source": []
  },
  {
   "cell_type": "markdown",
   "metadata": {},
   "source": [
    "# Question 2.1"
   ]
  },
  {
   "cell_type": "markdown",
   "metadata": {},
   "source": [
    "Here I recommend you write a function that samples `n_beads` in the full set, and returns the subset. A code skeleton and some hints can be found below."
   ]
  },
  {
   "cell_type": "code",
   "execution_count": 122,
   "metadata": {},
   "outputs": [],
   "source": [
    "def sample_n_beads(original_beads:dict, n_beads:int) -> dict:\n",
    "    \"\"\"\n",
    "    Samples n_beads beads from the original beads set\n",
    "\n",
    "    Parameters\n",
    "    ----------\n",
    "    original_beads : dict\n",
    "        Dictionnary containing information on 2D and 3D position of the whole set of calibration beads\n",
    "    n_beads : int\n",
    "        Number of beads to select\n",
    "\n",
    "    Returns\n",
    "    -------\n",
    "    dict\n",
    "        Dictionnary containing information on 2D and 3D position of the subsampled of calibration beads\n",
    "    \"\"\"\n",
    "    output = deepcopy(original_beads) # ? First we deepcopy the original beads data, to avoid modifying it by mistake\n",
    "    selected_beads = []\n",
    "    \"\"\"\n",
    "    Let's modify our output until we reach the desired number of beads.\n",
    "    You want n beads sampled across both plates A & B (remember that plates C & D are just A & B rotated):\n",
    "    1. So you're gonna sample n_beads // 2 beads on plate A, and n_beads - (n_beads // 2) beads on plate B.\n",
    "    2. Add all these beads' names in the selected_beads list.\n",
    "    3. Then for each A & B bead, you want to add it's counterpart of plate C & D.\n",
    "    The selection step is already done :)\n",
    "    \"\"\"\n",
    "    all_beads = output['2d']['bead'].tolist()\n",
    "    plateA_beads = [bead for bead in all_beads if bead.startswith('A')]\n",
    "    plateB_beads = [bead for bead in all_beads if bead.startswith('B')]\n",
    "    selectedA_beads = random.sample(plateA_beads, n_beads//2)\n",
    "    selectedB_beads = random.sample(plateB_beads, n_beads - n_beads//2)\n",
    "    \n",
    "    corresponding_C_beads = [bead.replace('A', 'C', 1) for bead in selectedA_beads]\n",
    "    corresponding_D_beads = [bead.replace('B', 'D', 1) for bead in selectedB_beads]\n",
    "\n",
    "    selected_beads = selectedA_beads + selectedB_beads + corresponding_C_beads + corresponding_D_beads\n",
    "\n",
    "    output['2d'] = output['2d'][output['2d']['bead'].isin(selected_beads)].sort_values(by = 'bead', ignore_index = True)\n",
    "    output['3d'] = output['3d'][output['3d']['bead'].isin(selected_beads)].sort_values(by = 'bead', ignore_index = True)\n",
    "    return output"
   ]
  },
  {
   "cell_type": "code",
   "execution_count": 123,
   "metadata": {},
   "outputs": [],
   "source": [
    "# Let's increase the number of calibration beads gradually\n",
    "spine = spinetools.structures.Spine(os.path.join(root_directory,'Vertebrae2D.mat')) # Initialize the vertebrae structure\n",
    "\n",
    "# Create a dictionnary to store the results. Access a dictionnary key with brackets, for instance rms_measurements['x']\n",
    "rms_measurements = {\n",
    "        'x' : [],\n",
    "        'y' : [],\n",
    "        'z' : [],\n",
    "        '3d' : [],\n",
    "        'n_beads':[]\n",
    "    }\n",
    "\n",
    "\"\"\"\n",
    "PSEUDOCODE\n",
    "computed_points_3d <- list\n",
    "for n_beads in [1...N], do:\n",
    "    beads_subset <- sample_n_beads(beads_data, n_beads)\n",
    "    A_view_0 <- get_a(view_0, beads_subset)\n",
    "    l_view_0 <- dlt(A_view_0)\n",
    "    A_view_1 <- get_a(view_1, beads_subset)\n",
    "    l_view_1 <- dlt(A_view_1)\n",
    "    for each vertebra in vertebrae:\n",
    "        for each anatomical_landmark in vertebra_points:\n",
    "        x_point, y_point, z_point <- calculate_3d_point(anatomical_landmark, l_view0, l_view1)\n",
    "        Append (x_point, y_point, z_point) to computed_points_3d\n",
    "    for each axis in ['x', ..., '3d']:\n",
    "        Append rms(SPINE_3D_POINTS, computed_points_3d) to rms_measurements[axis]\n",
    "        Append n_beads to rms_measurements['n_beads']\n",
    "\"\"\"\n",
    "\n",
    "max_beads = 22\n",
    "min_beads = 5\n",
    "for n_beads in range(max_beads, min_beads, -1):\n",
    "    beads_subset = sample_n_beads(beads_data, n_beads)\n",
    "    A_view_0 = get_a('Beads2D_'+view_0, beads_subset)\n",
    "    l_view_0 = spinetools.solver.dlt(A_view_0)\n",
    "    A_view_1 = get_a('Beads2D_'+view_1, beads_subset)\n",
    "    l_view_1 = spinetools.solver.dlt(A_view_1)\n",
    "\n",
    "    computed_points_3d = []\n",
    "\n",
    "    for _, v_name in enumerate(spine.vertebrae):\n",
    "        # TODO : for each vertebra, calculate the location of each anatomical landmark and add its x,y,z coordinates to vert_x, vert_y, vert_z. Each vertebra will then be added to the 3D plot and plotted in the end.\n",
    "        vert = spine.get(v_name).data # Returns the vertebra data\n",
    "         # for each anatomical_landmark in vertebra_points\n",
    "        for j, row in vert.iterrows():\n",
    "            # 2D PA0\n",
    "            u0, v0 = row['x_Vertebrae_PA0'], row['y_Vertebrae_PA0']\n",
    "            # 2D LAT\n",
    "            u1, v1 = row['x_Vertebrae_LAT'], row['y_Vertebrae_LAT']\n",
    "            x_point, y_point, z_point = calculate_3d_point(u0, v0, u1, v1, l_view_0, l_view_1)\n",
    "            computed_points_3d.append([x_point, y_point, z_point])\n",
    "\n",
    "    computed_points_3d = np.array(computed_points_3d)\n",
    "\n",
    "    rms_measurements['x'].append(rms(SPINE_3D_POINTS[:,0], computed_points_3d[:,0]))\n",
    "    rms_measurements['y'].append(rms(SPINE_3D_POINTS[:,1], computed_points_3d[:,1]))\n",
    "    rms_measurements['z'].append(rms(SPINE_3D_POINTS[:,2], computed_points_3d[:,2]))\n",
    "    rms_measurements['3d'].append(rms(SPINE_3D_POINTS, computed_points_3d))\n",
    "    rms_measurements['n_beads'].append(n_beads)"
   ]
  },
  {
   "cell_type": "markdown",
   "metadata": {},
   "source": [
    "# Plotly interlude"
   ]
  },
  {
   "cell_type": "code",
   "execution_count": 124,
   "metadata": {},
   "outputs": [
    {
     "data": {
      "application/vnd.plotly.v1+json": {
       "config": {
        "plotlyServerURL": "https://plot.ly"
       },
       "data": [
        {
         "line": {
          "shape": "spline"
         },
         "mode": "lines+markers",
         "name": "RMS X",
         "type": "scatter",
         "x": [
          22,
          21,
          20,
          19,
          18,
          17,
          16,
          15,
          14,
          13,
          12,
          11,
          10,
          9,
          8,
          7,
          6
         ],
         "y": [
          0.027675209566950798,
          0.017316997051239014,
          0.056339580565690994,
          0.060255520045757294,
          0.15424591302871704,
          0.038011036813259125,
          0.07025545090436935,
          0.07204613834619522,
          0.2246309220790863,
          0.2884325683116913,
          0.11733302474021912,
          0.06892327219247818,
          0.07956860214471817,
          0.03555722162127495,
          0.04277541860938072,
          0.12942257523536682,
          0.40900853276252747
         ]
        },
        {
         "line": {
          "shape": "spline"
         },
         "mode": "lines+markers",
         "name": "RMS Y",
         "type": "scatter",
         "x": [
          22,
          21,
          20,
          19,
          18,
          17,
          16,
          15,
          14,
          13,
          12,
          11,
          10,
          9,
          8,
          7,
          6
         ],
         "y": [
          0.007425295189023018,
          0.015712182968854904,
          0.011251335963606834,
          0.011311681941151619,
          0.04679728299379349,
          0.018969809636473656,
          0.014054984785616398,
          0.007589324377477169,
          0.08907338976860046,
          0.033443648368120193,
          0.058656245470047,
          0.150335431098938,
          0.07122114300727844,
          0.014080741442739964,
          0.06780048459768295,
          0.10606738179922104,
          0.08313322812318802
         ]
        },
        {
         "line": {
          "shape": "spline"
         },
         "mode": "lines+markers",
         "name": "RMS Z",
         "type": "scatter",
         "x": [
          22,
          21,
          20,
          19,
          18,
          17,
          16,
          15,
          14,
          13,
          12,
          11,
          10,
          9,
          8,
          7,
          6
         ],
         "y": [
          0.02682117559015751,
          0.008937302976846695,
          0.06306719034910202,
          0.06243785098195076,
          0.07413850724697113,
          0.0427221916615963,
          0.23243358731269836,
          0.03009846992790699,
          0.1536118984222412,
          0.050983529537916183,
          0.25121426582336426,
          0.0889037549495697,
          0.21886223554611206,
          0.06908615678548813,
          0.1826827973127365,
          0.11563199013471603,
          0.5638100504875183
         ]
        },
        {
         "line": {
          "shape": "spline"
         },
         "mode": "lines+markers",
         "name": "RMS 3D",
         "type": "scatter",
         "x": [
          22,
          21,
          20,
          19,
          18,
          17,
          16,
          15,
          14,
          13,
          12,
          11,
          10,
          9,
          8,
          7,
          6
         ],
         "y": [
          0.039248283952474594,
          0.025032509118318558,
          0.08531243354082108,
          0.08750523626804352,
          0.17742125689983368,
          0.060248471796512604,
          0.24322570860385895,
          0.07844847440719604,
          0.2863385081291199,
          0.29480692744255066,
          0.28340110182762146,
          0.1877632588148117,
          0.2435247153043747,
          0.07896506041288376,
          0.1994984894990921,
          0.20339924097061157,
          0.701484739780426
         ]
        }
       ],
       "layout": {
        "legend": {
         "title": {
          "text": "RMS Metrics"
         }
        },
        "template": {
         "data": {
          "bar": [
           {
            "error_x": {
             "color": "#2a3f5f"
            },
            "error_y": {
             "color": "#2a3f5f"
            },
            "marker": {
             "line": {
              "color": "#E5ECF6",
              "width": 0.5
             },
             "pattern": {
              "fillmode": "overlay",
              "size": 10,
              "solidity": 0.2
             }
            },
            "type": "bar"
           }
          ],
          "barpolar": [
           {
            "marker": {
             "line": {
              "color": "#E5ECF6",
              "width": 0.5
             },
             "pattern": {
              "fillmode": "overlay",
              "size": 10,
              "solidity": 0.2
             }
            },
            "type": "barpolar"
           }
          ],
          "carpet": [
           {
            "aaxis": {
             "endlinecolor": "#2a3f5f",
             "gridcolor": "white",
             "linecolor": "white",
             "minorgridcolor": "white",
             "startlinecolor": "#2a3f5f"
            },
            "baxis": {
             "endlinecolor": "#2a3f5f",
             "gridcolor": "white",
             "linecolor": "white",
             "minorgridcolor": "white",
             "startlinecolor": "#2a3f5f"
            },
            "type": "carpet"
           }
          ],
          "choropleth": [
           {
            "colorbar": {
             "outlinewidth": 0,
             "ticks": ""
            },
            "type": "choropleth"
           }
          ],
          "contour": [
           {
            "colorbar": {
             "outlinewidth": 0,
             "ticks": ""
            },
            "colorscale": [
             [
              0,
              "#0d0887"
             ],
             [
              0.1111111111111111,
              "#46039f"
             ],
             [
              0.2222222222222222,
              "#7201a8"
             ],
             [
              0.3333333333333333,
              "#9c179e"
             ],
             [
              0.4444444444444444,
              "#bd3786"
             ],
             [
              0.5555555555555556,
              "#d8576b"
             ],
             [
              0.6666666666666666,
              "#ed7953"
             ],
             [
              0.7777777777777778,
              "#fb9f3a"
             ],
             [
              0.8888888888888888,
              "#fdca26"
             ],
             [
              1,
              "#f0f921"
             ]
            ],
            "type": "contour"
           }
          ],
          "contourcarpet": [
           {
            "colorbar": {
             "outlinewidth": 0,
             "ticks": ""
            },
            "type": "contourcarpet"
           }
          ],
          "heatmap": [
           {
            "colorbar": {
             "outlinewidth": 0,
             "ticks": ""
            },
            "colorscale": [
             [
              0,
              "#0d0887"
             ],
             [
              0.1111111111111111,
              "#46039f"
             ],
             [
              0.2222222222222222,
              "#7201a8"
             ],
             [
              0.3333333333333333,
              "#9c179e"
             ],
             [
              0.4444444444444444,
              "#bd3786"
             ],
             [
              0.5555555555555556,
              "#d8576b"
             ],
             [
              0.6666666666666666,
              "#ed7953"
             ],
             [
              0.7777777777777778,
              "#fb9f3a"
             ],
             [
              0.8888888888888888,
              "#fdca26"
             ],
             [
              1,
              "#f0f921"
             ]
            ],
            "type": "heatmap"
           }
          ],
          "heatmapgl": [
           {
            "colorbar": {
             "outlinewidth": 0,
             "ticks": ""
            },
            "colorscale": [
             [
              0,
              "#0d0887"
             ],
             [
              0.1111111111111111,
              "#46039f"
             ],
             [
              0.2222222222222222,
              "#7201a8"
             ],
             [
              0.3333333333333333,
              "#9c179e"
             ],
             [
              0.4444444444444444,
              "#bd3786"
             ],
             [
              0.5555555555555556,
              "#d8576b"
             ],
             [
              0.6666666666666666,
              "#ed7953"
             ],
             [
              0.7777777777777778,
              "#fb9f3a"
             ],
             [
              0.8888888888888888,
              "#fdca26"
             ],
             [
              1,
              "#f0f921"
             ]
            ],
            "type": "heatmapgl"
           }
          ],
          "histogram": [
           {
            "marker": {
             "pattern": {
              "fillmode": "overlay",
              "size": 10,
              "solidity": 0.2
             }
            },
            "type": "histogram"
           }
          ],
          "histogram2d": [
           {
            "colorbar": {
             "outlinewidth": 0,
             "ticks": ""
            },
            "colorscale": [
             [
              0,
              "#0d0887"
             ],
             [
              0.1111111111111111,
              "#46039f"
             ],
             [
              0.2222222222222222,
              "#7201a8"
             ],
             [
              0.3333333333333333,
              "#9c179e"
             ],
             [
              0.4444444444444444,
              "#bd3786"
             ],
             [
              0.5555555555555556,
              "#d8576b"
             ],
             [
              0.6666666666666666,
              "#ed7953"
             ],
             [
              0.7777777777777778,
              "#fb9f3a"
             ],
             [
              0.8888888888888888,
              "#fdca26"
             ],
             [
              1,
              "#f0f921"
             ]
            ],
            "type": "histogram2d"
           }
          ],
          "histogram2dcontour": [
           {
            "colorbar": {
             "outlinewidth": 0,
             "ticks": ""
            },
            "colorscale": [
             [
              0,
              "#0d0887"
             ],
             [
              0.1111111111111111,
              "#46039f"
             ],
             [
              0.2222222222222222,
              "#7201a8"
             ],
             [
              0.3333333333333333,
              "#9c179e"
             ],
             [
              0.4444444444444444,
              "#bd3786"
             ],
             [
              0.5555555555555556,
              "#d8576b"
             ],
             [
              0.6666666666666666,
              "#ed7953"
             ],
             [
              0.7777777777777778,
              "#fb9f3a"
             ],
             [
              0.8888888888888888,
              "#fdca26"
             ],
             [
              1,
              "#f0f921"
             ]
            ],
            "type": "histogram2dcontour"
           }
          ],
          "mesh3d": [
           {
            "colorbar": {
             "outlinewidth": 0,
             "ticks": ""
            },
            "type": "mesh3d"
           }
          ],
          "parcoords": [
           {
            "line": {
             "colorbar": {
              "outlinewidth": 0,
              "ticks": ""
             }
            },
            "type": "parcoords"
           }
          ],
          "pie": [
           {
            "automargin": true,
            "type": "pie"
           }
          ],
          "scatter": [
           {
            "fillpattern": {
             "fillmode": "overlay",
             "size": 10,
             "solidity": 0.2
            },
            "type": "scatter"
           }
          ],
          "scatter3d": [
           {
            "line": {
             "colorbar": {
              "outlinewidth": 0,
              "ticks": ""
             }
            },
            "marker": {
             "colorbar": {
              "outlinewidth": 0,
              "ticks": ""
             }
            },
            "type": "scatter3d"
           }
          ],
          "scattercarpet": [
           {
            "marker": {
             "colorbar": {
              "outlinewidth": 0,
              "ticks": ""
             }
            },
            "type": "scattercarpet"
           }
          ],
          "scattergeo": [
           {
            "marker": {
             "colorbar": {
              "outlinewidth": 0,
              "ticks": ""
             }
            },
            "type": "scattergeo"
           }
          ],
          "scattergl": [
           {
            "marker": {
             "colorbar": {
              "outlinewidth": 0,
              "ticks": ""
             }
            },
            "type": "scattergl"
           }
          ],
          "scattermapbox": [
           {
            "marker": {
             "colorbar": {
              "outlinewidth": 0,
              "ticks": ""
             }
            },
            "type": "scattermapbox"
           }
          ],
          "scatterpolar": [
           {
            "marker": {
             "colorbar": {
              "outlinewidth": 0,
              "ticks": ""
             }
            },
            "type": "scatterpolar"
           }
          ],
          "scatterpolargl": [
           {
            "marker": {
             "colorbar": {
              "outlinewidth": 0,
              "ticks": ""
             }
            },
            "type": "scatterpolargl"
           }
          ],
          "scatterternary": [
           {
            "marker": {
             "colorbar": {
              "outlinewidth": 0,
              "ticks": ""
             }
            },
            "type": "scatterternary"
           }
          ],
          "surface": [
           {
            "colorbar": {
             "outlinewidth": 0,
             "ticks": ""
            },
            "colorscale": [
             [
              0,
              "#0d0887"
             ],
             [
              0.1111111111111111,
              "#46039f"
             ],
             [
              0.2222222222222222,
              "#7201a8"
             ],
             [
              0.3333333333333333,
              "#9c179e"
             ],
             [
              0.4444444444444444,
              "#bd3786"
             ],
             [
              0.5555555555555556,
              "#d8576b"
             ],
             [
              0.6666666666666666,
              "#ed7953"
             ],
             [
              0.7777777777777778,
              "#fb9f3a"
             ],
             [
              0.8888888888888888,
              "#fdca26"
             ],
             [
              1,
              "#f0f921"
             ]
            ],
            "type": "surface"
           }
          ],
          "table": [
           {
            "cells": {
             "fill": {
              "color": "#EBF0F8"
             },
             "line": {
              "color": "white"
             }
            },
            "header": {
             "fill": {
              "color": "#C8D4E3"
             },
             "line": {
              "color": "white"
             }
            },
            "type": "table"
           }
          ]
         },
         "layout": {
          "annotationdefaults": {
           "arrowcolor": "#2a3f5f",
           "arrowhead": 0,
           "arrowwidth": 1
          },
          "autotypenumbers": "strict",
          "coloraxis": {
           "colorbar": {
            "outlinewidth": 0,
            "ticks": ""
           }
          },
          "colorscale": {
           "diverging": [
            [
             0,
             "#8e0152"
            ],
            [
             0.1,
             "#c51b7d"
            ],
            [
             0.2,
             "#de77ae"
            ],
            [
             0.3,
             "#f1b6da"
            ],
            [
             0.4,
             "#fde0ef"
            ],
            [
             0.5,
             "#f7f7f7"
            ],
            [
             0.6,
             "#e6f5d0"
            ],
            [
             0.7,
             "#b8e186"
            ],
            [
             0.8,
             "#7fbc41"
            ],
            [
             0.9,
             "#4d9221"
            ],
            [
             1,
             "#276419"
            ]
           ],
           "sequential": [
            [
             0,
             "#0d0887"
            ],
            [
             0.1111111111111111,
             "#46039f"
            ],
            [
             0.2222222222222222,
             "#7201a8"
            ],
            [
             0.3333333333333333,
             "#9c179e"
            ],
            [
             0.4444444444444444,
             "#bd3786"
            ],
            [
             0.5555555555555556,
             "#d8576b"
            ],
            [
             0.6666666666666666,
             "#ed7953"
            ],
            [
             0.7777777777777778,
             "#fb9f3a"
            ],
            [
             0.8888888888888888,
             "#fdca26"
            ],
            [
             1,
             "#f0f921"
            ]
           ],
           "sequentialminus": [
            [
             0,
             "#0d0887"
            ],
            [
             0.1111111111111111,
             "#46039f"
            ],
            [
             0.2222222222222222,
             "#7201a8"
            ],
            [
             0.3333333333333333,
             "#9c179e"
            ],
            [
             0.4444444444444444,
             "#bd3786"
            ],
            [
             0.5555555555555556,
             "#d8576b"
            ],
            [
             0.6666666666666666,
             "#ed7953"
            ],
            [
             0.7777777777777778,
             "#fb9f3a"
            ],
            [
             0.8888888888888888,
             "#fdca26"
            ],
            [
             1,
             "#f0f921"
            ]
           ]
          },
          "colorway": [
           "#636efa",
           "#EF553B",
           "#00cc96",
           "#ab63fa",
           "#FFA15A",
           "#19d3f3",
           "#FF6692",
           "#B6E880",
           "#FF97FF",
           "#FECB52"
          ],
          "font": {
           "color": "#2a3f5f"
          },
          "geo": {
           "bgcolor": "white",
           "lakecolor": "white",
           "landcolor": "#E5ECF6",
           "showlakes": true,
           "showland": true,
           "subunitcolor": "white"
          },
          "hoverlabel": {
           "align": "left"
          },
          "hovermode": "closest",
          "mapbox": {
           "style": "light"
          },
          "paper_bgcolor": "white",
          "plot_bgcolor": "#E5ECF6",
          "polar": {
           "angularaxis": {
            "gridcolor": "white",
            "linecolor": "white",
            "ticks": ""
           },
           "bgcolor": "#E5ECF6",
           "radialaxis": {
            "gridcolor": "white",
            "linecolor": "white",
            "ticks": ""
           }
          },
          "scene": {
           "xaxis": {
            "backgroundcolor": "#E5ECF6",
            "gridcolor": "white",
            "gridwidth": 2,
            "linecolor": "white",
            "showbackground": true,
            "ticks": "",
            "zerolinecolor": "white"
           },
           "yaxis": {
            "backgroundcolor": "#E5ECF6",
            "gridcolor": "white",
            "gridwidth": 2,
            "linecolor": "white",
            "showbackground": true,
            "ticks": "",
            "zerolinecolor": "white"
           },
           "zaxis": {
            "backgroundcolor": "#E5ECF6",
            "gridcolor": "white",
            "gridwidth": 2,
            "linecolor": "white",
            "showbackground": true,
            "ticks": "",
            "zerolinecolor": "white"
           }
          },
          "shapedefaults": {
           "line": {
            "color": "#2a3f5f"
           }
          },
          "ternary": {
           "aaxis": {
            "gridcolor": "white",
            "linecolor": "white",
            "ticks": ""
           },
           "baxis": {
            "gridcolor": "white",
            "linecolor": "white",
            "ticks": ""
           },
           "bgcolor": "#E5ECF6",
           "caxis": {
            "gridcolor": "white",
            "linecolor": "white",
            "ticks": ""
           }
          },
          "title": {
           "x": 0.05
          },
          "xaxis": {
           "automargin": true,
           "gridcolor": "white",
           "linecolor": "white",
           "ticks": "",
           "title": {
            "standoff": 15
           },
           "zerolinecolor": "white",
           "zerolinewidth": 2
          },
          "yaxis": {
           "automargin": true,
           "gridcolor": "white",
           "linecolor": "white",
           "ticks": "",
           "title": {
            "standoff": 15
           },
           "zerolinecolor": "white",
           "zerolinewidth": 2
          }
         }
        },
        "title": {
         "text": "RMS Values vs. Number of Beads"
        },
        "xaxis": {
         "title": {
          "text": "Number of Beads"
         }
        },
        "yaxis": {
         "title": {
          "text": "RMS Value"
         }
        }
       }
      }
     },
     "metadata": {},
     "output_type": "display_data"
    }
   ],
   "source": [
    "# Convert the number of beads and RMS values into numpy arrays for easier plotting\n",
    "n_beads = np.array(rms_measurements['n_beads'])\n",
    "rms_x = np.array(rms_measurements['x'])\n",
    "rms_y = np.array(rms_measurements['y'])\n",
    "rms_z = np.array(rms_measurements['z'])\n",
    "rms_3d = np.array(rms_measurements['3d'])\n",
    "\n",
    "# Create the figure\n",
    "fig = go.Figure()\n",
    "\n",
    "# Add traces for each RMS measurement\n",
    "fig.add_trace(go.Scatter(\n",
    "    x=n_beads,\n",
    "    y=rms_x,\n",
    "    mode='lines+markers',\n",
    "    name='RMS X',\n",
    "    line=dict(shape='spline'),\n",
    "))\n",
    "\n",
    "fig.add_trace(go.Scatter(\n",
    "    x=n_beads,\n",
    "    y=rms_y,\n",
    "    mode='lines+markers',\n",
    "    name='RMS Y',\n",
    "    line=dict(shape='spline'),\n",
    "))\n",
    "\n",
    "fig.add_trace(go.Scatter(\n",
    "    x=n_beads,\n",
    "    y=rms_z,\n",
    "    mode='lines+markers',\n",
    "    name='RMS Z',\n",
    "    line=dict(shape='spline'),\n",
    "))\n",
    "\n",
    "fig.add_trace(go.Scatter(\n",
    "    x=n_beads,\n",
    "    y=rms_3d,\n",
    "    mode='lines+markers',\n",
    "    name='RMS 3D',\n",
    "    line=dict(shape='spline'),\n",
    "))\n",
    "\n",
    "# Update the layout\n",
    "fig.update_layout(\n",
    "    title='RMS Values vs. Number of Beads',\n",
    "    xaxis_title='Number of Beads',\n",
    "    yaxis_title='RMS Value',\n",
    "    legend=dict(title='RMS Metrics'),\n",
    ")\n",
    "\n",
    "# Show the figure\n",
    "fig.show()"
   ]
  },
  {
   "cell_type": "code",
   "execution_count": 125,
   "metadata": {},
   "outputs": [],
   "source": [
    "# TODO : On the same graph, plot all your RMS values wrt. the number of used calibration beads !"
   ]
  },
  {
   "cell_type": "markdown",
   "metadata": {},
   "source": [
    "# Question 2.2"
   ]
  },
  {
   "cell_type": "markdown",
   "metadata": {},
   "source": [
    "Here are 4 sets of 8 calibration beads. For each set, determine which one is which (same plate, small volume, medium volume, large volume) and plot calibration error curves.  \n",
    "Don't hesitate to use the function `plot_selected_beads` from `spinetools.render`to vizualize the selected beads to sort out the subsets !"
   ]
  },
  {
   "cell_type": "code",
   "execution_count": 126,
   "metadata": {},
   "outputs": [
    {
     "data": {
      "application/vnd.plotly.v1+json": {
       "config": {
        "plotlyServerURL": "https://plot.ly"
       },
       "data": [
        {
         "marker": {
          "color": "black",
          "size": 2
         },
         "mode": "markers",
         "name": "A_1_1",
         "showlegend": false,
         "type": "scatter3d",
         "x": [
          -602.639
         ],
         "y": [
          95.544
         ],
         "z": [
          213.567
         ]
        },
        {
         "marker": {
          "color": "green",
          "size": 3
         },
         "mode": "markers",
         "name": "A_1_2",
         "showlegend": false,
         "type": "scatter3d",
         "x": [
          -602.658
         ],
         "y": [
          95.398
         ],
         "z": [
          194.395
         ]
        },
        {
         "marker": {
          "color": "black",
          "size": 2
         },
         "mode": "markers",
         "name": "A_1_3",
         "showlegend": false,
         "type": "scatter3d",
         "x": [
          -602.748
         ],
         "y": [
          95.113
         ],
         "z": [
          117.656
         ]
        },
        {
         "marker": {
          "color": "black",
          "size": 2
         },
         "mode": "markers",
         "name": "A_1_4",
         "showlegend": false,
         "type": "scatter3d",
         "x": [
          -603.024
         ],
         "y": [
          94.817
         ],
         "z": [
          40.947
         ]
        },
        {
         "marker": {
          "color": "black",
          "size": 2
         },
         "mode": "markers",
         "name": "A_1_5",
         "showlegend": false,
         "type": "scatter3d",
         "x": [
          -603.144
         ],
         "y": [
          94.732
         ],
         "z": [
          21.714
         ]
        },
        {
         "marker": {
          "color": "green",
          "size": 3
         },
         "mode": "markers",
         "name": "A_1_6",
         "showlegend": false,
         "type": "scatter3d",
         "x": [
          -603.31
         ],
         "y": [
          94.466
         ],
         "z": [
          -55.071
         ]
        },
        {
         "marker": {
          "color": "black",
          "size": 2
         },
         "mode": "markers",
         "name": "A_2_1",
         "showlegend": false,
         "type": "scatter3d",
         "x": [
          -602.595
         ],
         "y": [
          70.179
         ],
         "z": [
          213.7
         ]
        },
        {
         "marker": {
          "color": "black",
          "size": 2
         },
         "mode": "markers",
         "name": "A_2_2",
         "showlegend": false,
         "type": "scatter3d",
         "x": [
          -602.881
         ],
         "y": [
          69.98
         ],
         "z": [
          194.518
         ]
        },
        {
         "marker": {
          "color": "black",
          "size": 2
         },
         "mode": "markers",
         "name": "A_2_3",
         "showlegend": false,
         "type": "scatter3d",
         "x": [
          -602.36
         ],
         "y": [
          69.906
         ],
         "z": [
          117.915
         ]
        },
        {
         "marker": {
          "color": "black",
          "size": 2
         },
         "mode": "markers",
         "name": "A_2_4",
         "showlegend": false,
         "type": "scatter3d",
         "x": [
          -603.075
         ],
         "y": [
          69.379
         ],
         "z": [
          41.199
         ]
        },
        {
         "marker": {
          "color": "black",
          "size": 2
         },
         "mode": "markers",
         "name": "A_2_5",
         "showlegend": false,
         "type": "scatter3d",
         "x": [
          -603.143
         ],
         "y": [
          69.251
         ],
         "z": [
          21.883
         ]
        },
        {
         "marker": {
          "color": "black",
          "size": 2
         },
         "mode": "markers",
         "name": "A_2_6",
         "showlegend": false,
         "type": "scatter3d",
         "x": [
          -603.07
         ],
         "y": [
          69.068
         ],
         "z": [
          -54.895
         ]
        },
        {
         "marker": {
          "color": "black",
          "size": 2
         },
         "mode": "markers",
         "name": "A_3_1",
         "showlegend": false,
         "type": "scatter3d",
         "x": [
          -602.429
         ],
         "y": [
          0.285
         ],
         "z": [
          214.048
         ]
        },
        {
         "marker": {
          "color": "black",
          "size": 2
         },
         "mode": "markers",
         "name": "A_3_2",
         "showlegend": false,
         "type": "scatter3d",
         "x": [
          -602.701
         ],
         "y": [
          0.105
         ],
         "z": [
          194.861
         ]
        },
        {
         "marker": {
          "color": "black",
          "size": 2
         },
         "mode": "markers",
         "name": "A_3_3",
         "showlegend": false,
         "type": "scatter3d",
         "x": [
          -602.669
         ],
         "y": [
          -0.226
         ],
         "z": [
          118.219
         ]
        },
        {
         "marker": {
          "color": "black",
          "size": 2
         },
         "mode": "markers",
         "name": "A_3_4",
         "showlegend": false,
         "type": "scatter3d",
         "x": [
          -602.852
         ],
         "y": [
          -0.611
         ],
         "z": [
          41.572
         ]
        },
        {
         "marker": {
          "color": "black",
          "size": 2
         },
         "mode": "markers",
         "name": "A_3_5",
         "showlegend": false,
         "type": "scatter3d",
         "x": [
          -602.986
         ],
         "y": [
          -0.781
         ],
         "z": [
          22.296
         ]
        },
        {
         "marker": {
          "color": "black",
          "size": 2
         },
         "mode": "markers",
         "name": "A_3_6",
         "showlegend": false,
         "type": "scatter3d",
         "x": [
          -602.867
         ],
         "y": [
          -1.131
         ],
         "z": [
          -54.609
         ]
        },
        {
         "marker": {
          "color": "green",
          "size": 3
         },
         "mode": "markers",
         "name": "A_4_2",
         "showlegend": false,
         "type": "scatter3d",
         "x": [
          -602.318
         ],
         "y": [
          -69.583
         ],
         "z": [
          195.252
         ]
        },
        {
         "marker": {
          "color": "black",
          "size": 2
         },
         "mode": "markers",
         "name": "A_4_3",
         "showlegend": false,
         "type": "scatter3d",
         "x": [
          -601.923
         ],
         "y": [
          -70.27
         ],
         "z": [
          118.689
         ]
        },
        {
         "marker": {
          "color": "black",
          "size": 2
         },
         "mode": "markers",
         "name": "A_4_4",
         "showlegend": false,
         "type": "scatter3d",
         "x": [
          -602.336
         ],
         "y": [
          -70.525
         ],
         "z": [
          41.966
         ]
        },
        {
         "marker": {
          "color": "black",
          "size": 2
         },
         "mode": "markers",
         "name": "A_4_5",
         "showlegend": false,
         "type": "scatter3d",
         "x": [
          -602.265
         ],
         "y": [
          -70.635
         ],
         "z": [
          22.632
         ]
        },
        {
         "marker": {
          "color": "green",
          "size": 3
         },
         "mode": "markers",
         "name": "A_4_6",
         "showlegend": false,
         "type": "scatter3d",
         "x": [
          -602.316
         ],
         "y": [
          -71.152
         ],
         "z": [
          -54.287
         ]
        },
        {
         "marker": {
          "color": "green",
          "size": 3
         },
         "mode": "markers",
         "name": "B_1_1",
         "showlegend": false,
         "type": "scatter3d",
         "x": [
          -0.479
         ],
         "y": [
          126.35
         ],
         "z": [
          266.747
         ]
        },
        {
         "marker": {
          "color": "black",
          "size": 2
         },
         "mode": "markers",
         "name": "B_1_2",
         "showlegend": false,
         "type": "scatter3d",
         "x": [
          -0.764
         ],
         "y": [
          126.476
         ],
         "z": [
          146.064
         ]
        },
        {
         "marker": {
          "color": "black",
          "size": 2
         },
         "mode": "markers",
         "name": "B_1_3",
         "showlegend": false,
         "type": "scatter3d",
         "x": [
          0
         ],
         "y": [
          126.638
         ],
         "z": [
          0
         ]
        },
        {
         "marker": {
          "color": "black",
          "size": 2
         },
         "mode": "markers",
         "name": "B_1_4",
         "showlegend": false,
         "type": "scatter3d",
         "x": [
          -0.044
         ],
         "y": [
          126.919
         ],
         "z": [
          -146.352
         ]
        },
        {
         "marker": {
          "color": "green",
          "size": 3
         },
         "mode": "markers",
         "name": "B_1_5",
         "showlegend": false,
         "type": "scatter3d",
         "x": [
          0.349
         ],
         "y": [
          127.105
         ],
         "z": [
          -267.401
         ]
        },
        {
         "marker": {
          "color": "black",
          "size": 2
         },
         "mode": "markers",
         "name": "B_2_1",
         "showlegend": false,
         "type": "scatter3d",
         "x": [
          -0.154
         ],
         "y": [
          69.445
         ],
         "z": [
          266.716
         ]
        },
        {
         "marker": {
          "color": "black",
          "size": 2
         },
         "mode": "markers",
         "name": "B_2_2",
         "showlegend": false,
         "type": "scatter3d",
         "x": [
          -0.961
         ],
         "y": [
          69.408
         ],
         "z": [
          146.325
         ]
        },
        {
         "marker": {
          "color": "black",
          "size": 2
         },
         "mode": "markers",
         "name": "B_2_3",
         "showlegend": false,
         "type": "scatter3d",
         "x": [
          -0.037
         ],
         "y": [
          69.622
         ],
         "z": [
          0.027
         ]
        },
        {
         "marker": {
          "color": "black",
          "size": 2
         },
         "mode": "markers",
         "name": "B_2_4",
         "showlegend": false,
         "type": "scatter3d",
         "x": [
          -0.554
         ],
         "y": [
          69.92
         ],
         "z": [
          -146.275
         ]
        },
        {
         "marker": {
          "color": "black",
          "size": 2
         },
         "mode": "markers",
         "name": "B_2_5",
         "showlegend": false,
         "type": "scatter3d",
         "x": [
          0.338
         ],
         "y": [
          70.18
         ],
         "z": [
          -267.479
         ]
        },
        {
         "marker": {
          "color": "black",
          "size": 2
         },
         "mode": "markers",
         "name": "B_3_1",
         "showlegend": false,
         "type": "scatter3d",
         "x": [
          0
         ],
         "y": [
          -0.042
         ],
         "z": [
          266.733
         ]
        },
        {
         "marker": {
          "color": "black",
          "size": 2
         },
         "mode": "markers",
         "name": "B_3_2",
         "showlegend": false,
         "type": "scatter3d",
         "x": [
          -0.295
         ],
         "y": [
          -0.014
         ],
         "z": [
          146.048
         ]
        },
        {
         "marker": {
          "color": "black",
          "size": 2
         },
         "mode": "markers",
         "name": "B_3_3",
         "showlegend": false,
         "type": "scatter3d",
         "x": [
          0
         ],
         "y": [
          0
         ],
         "z": [
          0
         ]
        },
        {
         "marker": {
          "color": "black",
          "size": 2
         },
         "mode": "markers",
         "name": "B_3_4",
         "showlegend": false,
         "type": "scatter3d",
         "x": [
          0.413
         ],
         "y": [
          0.194
         ],
         "z": [
          -146.53
         ]
        },
        {
         "marker": {
          "color": "black",
          "size": 2
         },
         "mode": "markers",
         "name": "B_4_1",
         "showlegend": false,
         "type": "scatter3d",
         "x": [
          0.565
         ],
         "y": [
          -69.563
         ],
         "z": [
          266.72
         ]
        },
        {
         "marker": {
          "color": "black",
          "size": 2
         },
         "mode": "markers",
         "name": "B_4_2",
         "showlegend": false,
         "type": "scatter3d",
         "x": [
          -0.039
         ],
         "y": [
          -69.317
         ],
         "z": [
          146.011
         ]
        },
        {
         "marker": {
          "color": "black",
          "size": 2
         },
         "mode": "markers",
         "name": "B_4_3",
         "showlegend": false,
         "type": "scatter3d",
         "x": [
          0.645
         ],
         "y": [
          -69.594
         ],
         "z": [
          -0.045
         ]
        },
        {
         "marker": {
          "color": "black",
          "size": 2
         },
         "mode": "markers",
         "name": "B_4_4",
         "showlegend": false,
         "type": "scatter3d",
         "x": [
          0.008
         ],
         "y": [
          -69.266
         ],
         "z": [
          -146.398
         ]
        },
        {
         "marker": {
          "color": "black",
          "size": 2
         },
         "mode": "markers",
         "name": "B_4_5",
         "showlegend": false,
         "type": "scatter3d",
         "x": [
          1.019
         ],
         "y": [
          -69.302
         ],
         "z": [
          -267.725
         ]
        },
        {
         "marker": {
          "color": "green",
          "size": 3
         },
         "mode": "markers",
         "name": "B_5_1",
         "showlegend": false,
         "type": "scatter3d",
         "x": [
          0.86
         ],
         "y": [
          -126.382
         ],
         "z": [
          266.715
         ]
        },
        {
         "marker": {
          "color": "black",
          "size": 2
         },
         "mode": "markers",
         "name": "B_5_2",
         "showlegend": false,
         "type": "scatter3d",
         "x": [
          0.917
         ],
         "y": [
          -126.437
         ],
         "z": [
          146.03
         ]
        },
        {
         "marker": {
          "color": "black",
          "size": 2
         },
         "mode": "markers",
         "name": "B_5_3",
         "showlegend": false,
         "type": "scatter3d",
         "x": [
          1.093
         ],
         "y": [
          -126.526
         ],
         "z": [
          -0.072
         ]
        },
        {
         "marker": {
          "color": "black",
          "size": 2
         },
         "mode": "markers",
         "name": "B_5_4",
         "showlegend": false,
         "type": "scatter3d",
         "x": [
          1.142
         ],
         "y": [
          -126.454
         ],
         "z": [
          -146.473
         ]
        },
        {
         "marker": {
          "color": "green",
          "size": 3
         },
         "mode": "markers",
         "name": "B_5_5",
         "showlegend": false,
         "type": "scatter3d",
         "x": [
          1.792
         ],
         "y": [
          -126.412
         ],
         "z": [
          -267.746
         ]
        }
       ],
       "layout": {
        "scene": {
         "aspectmode": "data"
        },
        "template": {
         "data": {
          "bar": [
           {
            "error_x": {
             "color": "#2a3f5f"
            },
            "error_y": {
             "color": "#2a3f5f"
            },
            "marker": {
             "line": {
              "color": "#E5ECF6",
              "width": 0.5
             },
             "pattern": {
              "fillmode": "overlay",
              "size": 10,
              "solidity": 0.2
             }
            },
            "type": "bar"
           }
          ],
          "barpolar": [
           {
            "marker": {
             "line": {
              "color": "#E5ECF6",
              "width": 0.5
             },
             "pattern": {
              "fillmode": "overlay",
              "size": 10,
              "solidity": 0.2
             }
            },
            "type": "barpolar"
           }
          ],
          "carpet": [
           {
            "aaxis": {
             "endlinecolor": "#2a3f5f",
             "gridcolor": "white",
             "linecolor": "white",
             "minorgridcolor": "white",
             "startlinecolor": "#2a3f5f"
            },
            "baxis": {
             "endlinecolor": "#2a3f5f",
             "gridcolor": "white",
             "linecolor": "white",
             "minorgridcolor": "white",
             "startlinecolor": "#2a3f5f"
            },
            "type": "carpet"
           }
          ],
          "choropleth": [
           {
            "colorbar": {
             "outlinewidth": 0,
             "ticks": ""
            },
            "type": "choropleth"
           }
          ],
          "contour": [
           {
            "colorbar": {
             "outlinewidth": 0,
             "ticks": ""
            },
            "colorscale": [
             [
              0,
              "#0d0887"
             ],
             [
              0.1111111111111111,
              "#46039f"
             ],
             [
              0.2222222222222222,
              "#7201a8"
             ],
             [
              0.3333333333333333,
              "#9c179e"
             ],
             [
              0.4444444444444444,
              "#bd3786"
             ],
             [
              0.5555555555555556,
              "#d8576b"
             ],
             [
              0.6666666666666666,
              "#ed7953"
             ],
             [
              0.7777777777777778,
              "#fb9f3a"
             ],
             [
              0.8888888888888888,
              "#fdca26"
             ],
             [
              1,
              "#f0f921"
             ]
            ],
            "type": "contour"
           }
          ],
          "contourcarpet": [
           {
            "colorbar": {
             "outlinewidth": 0,
             "ticks": ""
            },
            "type": "contourcarpet"
           }
          ],
          "heatmap": [
           {
            "colorbar": {
             "outlinewidth": 0,
             "ticks": ""
            },
            "colorscale": [
             [
              0,
              "#0d0887"
             ],
             [
              0.1111111111111111,
              "#46039f"
             ],
             [
              0.2222222222222222,
              "#7201a8"
             ],
             [
              0.3333333333333333,
              "#9c179e"
             ],
             [
              0.4444444444444444,
              "#bd3786"
             ],
             [
              0.5555555555555556,
              "#d8576b"
             ],
             [
              0.6666666666666666,
              "#ed7953"
             ],
             [
              0.7777777777777778,
              "#fb9f3a"
             ],
             [
              0.8888888888888888,
              "#fdca26"
             ],
             [
              1,
              "#f0f921"
             ]
            ],
            "type": "heatmap"
           }
          ],
          "heatmapgl": [
           {
            "colorbar": {
             "outlinewidth": 0,
             "ticks": ""
            },
            "colorscale": [
             [
              0,
              "#0d0887"
             ],
             [
              0.1111111111111111,
              "#46039f"
             ],
             [
              0.2222222222222222,
              "#7201a8"
             ],
             [
              0.3333333333333333,
              "#9c179e"
             ],
             [
              0.4444444444444444,
              "#bd3786"
             ],
             [
              0.5555555555555556,
              "#d8576b"
             ],
             [
              0.6666666666666666,
              "#ed7953"
             ],
             [
              0.7777777777777778,
              "#fb9f3a"
             ],
             [
              0.8888888888888888,
              "#fdca26"
             ],
             [
              1,
              "#f0f921"
             ]
            ],
            "type": "heatmapgl"
           }
          ],
          "histogram": [
           {
            "marker": {
             "pattern": {
              "fillmode": "overlay",
              "size": 10,
              "solidity": 0.2
             }
            },
            "type": "histogram"
           }
          ],
          "histogram2d": [
           {
            "colorbar": {
             "outlinewidth": 0,
             "ticks": ""
            },
            "colorscale": [
             [
              0,
              "#0d0887"
             ],
             [
              0.1111111111111111,
              "#46039f"
             ],
             [
              0.2222222222222222,
              "#7201a8"
             ],
             [
              0.3333333333333333,
              "#9c179e"
             ],
             [
              0.4444444444444444,
              "#bd3786"
             ],
             [
              0.5555555555555556,
              "#d8576b"
             ],
             [
              0.6666666666666666,
              "#ed7953"
             ],
             [
              0.7777777777777778,
              "#fb9f3a"
             ],
             [
              0.8888888888888888,
              "#fdca26"
             ],
             [
              1,
              "#f0f921"
             ]
            ],
            "type": "histogram2d"
           }
          ],
          "histogram2dcontour": [
           {
            "colorbar": {
             "outlinewidth": 0,
             "ticks": ""
            },
            "colorscale": [
             [
              0,
              "#0d0887"
             ],
             [
              0.1111111111111111,
              "#46039f"
             ],
             [
              0.2222222222222222,
              "#7201a8"
             ],
             [
              0.3333333333333333,
              "#9c179e"
             ],
             [
              0.4444444444444444,
              "#bd3786"
             ],
             [
              0.5555555555555556,
              "#d8576b"
             ],
             [
              0.6666666666666666,
              "#ed7953"
             ],
             [
              0.7777777777777778,
              "#fb9f3a"
             ],
             [
              0.8888888888888888,
              "#fdca26"
             ],
             [
              1,
              "#f0f921"
             ]
            ],
            "type": "histogram2dcontour"
           }
          ],
          "mesh3d": [
           {
            "colorbar": {
             "outlinewidth": 0,
             "ticks": ""
            },
            "type": "mesh3d"
           }
          ],
          "parcoords": [
           {
            "line": {
             "colorbar": {
              "outlinewidth": 0,
              "ticks": ""
             }
            },
            "type": "parcoords"
           }
          ],
          "pie": [
           {
            "automargin": true,
            "type": "pie"
           }
          ],
          "scatter": [
           {
            "fillpattern": {
             "fillmode": "overlay",
             "size": 10,
             "solidity": 0.2
            },
            "type": "scatter"
           }
          ],
          "scatter3d": [
           {
            "line": {
             "colorbar": {
              "outlinewidth": 0,
              "ticks": ""
             }
            },
            "marker": {
             "colorbar": {
              "outlinewidth": 0,
              "ticks": ""
             }
            },
            "type": "scatter3d"
           }
          ],
          "scattercarpet": [
           {
            "marker": {
             "colorbar": {
              "outlinewidth": 0,
              "ticks": ""
             }
            },
            "type": "scattercarpet"
           }
          ],
          "scattergeo": [
           {
            "marker": {
             "colorbar": {
              "outlinewidth": 0,
              "ticks": ""
             }
            },
            "type": "scattergeo"
           }
          ],
          "scattergl": [
           {
            "marker": {
             "colorbar": {
              "outlinewidth": 0,
              "ticks": ""
             }
            },
            "type": "scattergl"
           }
          ],
          "scattermapbox": [
           {
            "marker": {
             "colorbar": {
              "outlinewidth": 0,
              "ticks": ""
             }
            },
            "type": "scattermapbox"
           }
          ],
          "scatterpolar": [
           {
            "marker": {
             "colorbar": {
              "outlinewidth": 0,
              "ticks": ""
             }
            },
            "type": "scatterpolar"
           }
          ],
          "scatterpolargl": [
           {
            "marker": {
             "colorbar": {
              "outlinewidth": 0,
              "ticks": ""
             }
            },
            "type": "scatterpolargl"
           }
          ],
          "scatterternary": [
           {
            "marker": {
             "colorbar": {
              "outlinewidth": 0,
              "ticks": ""
             }
            },
            "type": "scatterternary"
           }
          ],
          "surface": [
           {
            "colorbar": {
             "outlinewidth": 0,
             "ticks": ""
            },
            "colorscale": [
             [
              0,
              "#0d0887"
             ],
             [
              0.1111111111111111,
              "#46039f"
             ],
             [
              0.2222222222222222,
              "#7201a8"
             ],
             [
              0.3333333333333333,
              "#9c179e"
             ],
             [
              0.4444444444444444,
              "#bd3786"
             ],
             [
              0.5555555555555556,
              "#d8576b"
             ],
             [
              0.6666666666666666,
              "#ed7953"
             ],
             [
              0.7777777777777778,
              "#fb9f3a"
             ],
             [
              0.8888888888888888,
              "#fdca26"
             ],
             [
              1,
              "#f0f921"
             ]
            ],
            "type": "surface"
           }
          ],
          "table": [
           {
            "cells": {
             "fill": {
              "color": "#EBF0F8"
             },
             "line": {
              "color": "white"
             }
            },
            "header": {
             "fill": {
              "color": "#C8D4E3"
             },
             "line": {
              "color": "white"
             }
            },
            "type": "table"
           }
          ]
         },
         "layout": {
          "annotationdefaults": {
           "arrowcolor": "#2a3f5f",
           "arrowhead": 0,
           "arrowwidth": 1
          },
          "autotypenumbers": "strict",
          "coloraxis": {
           "colorbar": {
            "outlinewidth": 0,
            "ticks": ""
           }
          },
          "colorscale": {
           "diverging": [
            [
             0,
             "#8e0152"
            ],
            [
             0.1,
             "#c51b7d"
            ],
            [
             0.2,
             "#de77ae"
            ],
            [
             0.3,
             "#f1b6da"
            ],
            [
             0.4,
             "#fde0ef"
            ],
            [
             0.5,
             "#f7f7f7"
            ],
            [
             0.6,
             "#e6f5d0"
            ],
            [
             0.7,
             "#b8e186"
            ],
            [
             0.8,
             "#7fbc41"
            ],
            [
             0.9,
             "#4d9221"
            ],
            [
             1,
             "#276419"
            ]
           ],
           "sequential": [
            [
             0,
             "#0d0887"
            ],
            [
             0.1111111111111111,
             "#46039f"
            ],
            [
             0.2222222222222222,
             "#7201a8"
            ],
            [
             0.3333333333333333,
             "#9c179e"
            ],
            [
             0.4444444444444444,
             "#bd3786"
            ],
            [
             0.5555555555555556,
             "#d8576b"
            ],
            [
             0.6666666666666666,
             "#ed7953"
            ],
            [
             0.7777777777777778,
             "#fb9f3a"
            ],
            [
             0.8888888888888888,
             "#fdca26"
            ],
            [
             1,
             "#f0f921"
            ]
           ],
           "sequentialminus": [
            [
             0,
             "#0d0887"
            ],
            [
             0.1111111111111111,
             "#46039f"
            ],
            [
             0.2222222222222222,
             "#7201a8"
            ],
            [
             0.3333333333333333,
             "#9c179e"
            ],
            [
             0.4444444444444444,
             "#bd3786"
            ],
            [
             0.5555555555555556,
             "#d8576b"
            ],
            [
             0.6666666666666666,
             "#ed7953"
            ],
            [
             0.7777777777777778,
             "#fb9f3a"
            ],
            [
             0.8888888888888888,
             "#fdca26"
            ],
            [
             1,
             "#f0f921"
            ]
           ]
          },
          "colorway": [
           "#636efa",
           "#EF553B",
           "#00cc96",
           "#ab63fa",
           "#FFA15A",
           "#19d3f3",
           "#FF6692",
           "#B6E880",
           "#FF97FF",
           "#FECB52"
          ],
          "font": {
           "color": "#2a3f5f"
          },
          "geo": {
           "bgcolor": "white",
           "lakecolor": "white",
           "landcolor": "#E5ECF6",
           "showlakes": true,
           "showland": true,
           "subunitcolor": "white"
          },
          "hoverlabel": {
           "align": "left"
          },
          "hovermode": "closest",
          "mapbox": {
           "style": "light"
          },
          "paper_bgcolor": "white",
          "plot_bgcolor": "#E5ECF6",
          "polar": {
           "angularaxis": {
            "gridcolor": "white",
            "linecolor": "white",
            "ticks": ""
           },
           "bgcolor": "#E5ECF6",
           "radialaxis": {
            "gridcolor": "white",
            "linecolor": "white",
            "ticks": ""
           }
          },
          "scene": {
           "xaxis": {
            "backgroundcolor": "#E5ECF6",
            "gridcolor": "white",
            "gridwidth": 2,
            "linecolor": "white",
            "showbackground": true,
            "ticks": "",
            "zerolinecolor": "white"
           },
           "yaxis": {
            "backgroundcolor": "#E5ECF6",
            "gridcolor": "white",
            "gridwidth": 2,
            "linecolor": "white",
            "showbackground": true,
            "ticks": "",
            "zerolinecolor": "white"
           },
           "zaxis": {
            "backgroundcolor": "#E5ECF6",
            "gridcolor": "white",
            "gridwidth": 2,
            "linecolor": "white",
            "showbackground": true,
            "ticks": "",
            "zerolinecolor": "white"
           }
          },
          "shapedefaults": {
           "line": {
            "color": "#2a3f5f"
           }
          },
          "ternary": {
           "aaxis": {
            "gridcolor": "white",
            "linecolor": "white",
            "ticks": ""
           },
           "baxis": {
            "gridcolor": "white",
            "linecolor": "white",
            "ticks": ""
           },
           "bgcolor": "#E5ECF6",
           "caxis": {
            "gridcolor": "white",
            "linecolor": "white",
            "ticks": ""
           }
          },
          "title": {
           "x": 0.05
          },
          "xaxis": {
           "automargin": true,
           "gridcolor": "white",
           "linecolor": "white",
           "ticks": "",
           "title": {
            "standoff": 15
           },
           "zerolinecolor": "white",
           "zerolinewidth": 2
          },
          "yaxis": {
           "automargin": true,
           "gridcolor": "white",
           "linecolor": "white",
           "ticks": "",
           "title": {
            "standoff": 15
           },
           "zerolinecolor": "white",
           "zerolinewidth": 2
          }
         }
        },
        "title": {
         "text": "Selected beads for calibration"
        }
       }
      }
     },
     "metadata": {},
     "output_type": "display_data"
    },
    {
     "data": {
      "application/vnd.plotly.v1+json": {
       "config": {
        "plotlyServerURL": "https://plot.ly"
       },
       "data": [
        {
         "marker": {
          "color": "black",
          "size": 2
         },
         "mode": "markers",
         "name": "A_1_1",
         "showlegend": false,
         "type": "scatter3d",
         "x": [
          -602.639
         ],
         "y": [
          95.544
         ],
         "z": [
          213.567
         ]
        },
        {
         "marker": {
          "color": "black",
          "size": 2
         },
         "mode": "markers",
         "name": "A_1_2",
         "showlegend": false,
         "type": "scatter3d",
         "x": [
          -602.658
         ],
         "y": [
          95.398
         ],
         "z": [
          194.395
         ]
        },
        {
         "marker": {
          "color": "black",
          "size": 2
         },
         "mode": "markers",
         "name": "A_1_3",
         "showlegend": false,
         "type": "scatter3d",
         "x": [
          -602.748
         ],
         "y": [
          95.113
         ],
         "z": [
          117.656
         ]
        },
        {
         "marker": {
          "color": "black",
          "size": 2
         },
         "mode": "markers",
         "name": "A_1_4",
         "showlegend": false,
         "type": "scatter3d",
         "x": [
          -603.024
         ],
         "y": [
          94.817
         ],
         "z": [
          40.947
         ]
        },
        {
         "marker": {
          "color": "black",
          "size": 2
         },
         "mode": "markers",
         "name": "A_1_5",
         "showlegend": false,
         "type": "scatter3d",
         "x": [
          -603.144
         ],
         "y": [
          94.732
         ],
         "z": [
          21.714
         ]
        },
        {
         "marker": {
          "color": "black",
          "size": 2
         },
         "mode": "markers",
         "name": "A_1_6",
         "showlegend": false,
         "type": "scatter3d",
         "x": [
          -603.31
         ],
         "y": [
          94.466
         ],
         "z": [
          -55.071
         ]
        },
        {
         "marker": {
          "color": "black",
          "size": 2
         },
         "mode": "markers",
         "name": "A_2_1",
         "showlegend": false,
         "type": "scatter3d",
         "x": [
          -602.595
         ],
         "y": [
          70.179
         ],
         "z": [
          213.7
         ]
        },
        {
         "marker": {
          "color": "black",
          "size": 2
         },
         "mode": "markers",
         "name": "A_2_2",
         "showlegend": false,
         "type": "scatter3d",
         "x": [
          -602.881
         ],
         "y": [
          69.98
         ],
         "z": [
          194.518
         ]
        },
        {
         "marker": {
          "color": "black",
          "size": 2
         },
         "mode": "markers",
         "name": "A_2_3",
         "showlegend": false,
         "type": "scatter3d",
         "x": [
          -602.36
         ],
         "y": [
          69.906
         ],
         "z": [
          117.915
         ]
        },
        {
         "marker": {
          "color": "black",
          "size": 2
         },
         "mode": "markers",
         "name": "A_2_4",
         "showlegend": false,
         "type": "scatter3d",
         "x": [
          -603.075
         ],
         "y": [
          69.379
         ],
         "z": [
          41.199
         ]
        },
        {
         "marker": {
          "color": "black",
          "size": 2
         },
         "mode": "markers",
         "name": "A_2_5",
         "showlegend": false,
         "type": "scatter3d",
         "x": [
          -603.143
         ],
         "y": [
          69.251
         ],
         "z": [
          21.883
         ]
        },
        {
         "marker": {
          "color": "black",
          "size": 2
         },
         "mode": "markers",
         "name": "A_2_6",
         "showlegend": false,
         "type": "scatter3d",
         "x": [
          -603.07
         ],
         "y": [
          69.068
         ],
         "z": [
          -54.895
         ]
        },
        {
         "marker": {
          "color": "black",
          "size": 2
         },
         "mode": "markers",
         "name": "A_3_1",
         "showlegend": false,
         "type": "scatter3d",
         "x": [
          -602.429
         ],
         "y": [
          0.285
         ],
         "z": [
          214.048
         ]
        },
        {
         "marker": {
          "color": "black",
          "size": 2
         },
         "mode": "markers",
         "name": "A_3_2",
         "showlegend": false,
         "type": "scatter3d",
         "x": [
          -602.701
         ],
         "y": [
          0.105
         ],
         "z": [
          194.861
         ]
        },
        {
         "marker": {
          "color": "black",
          "size": 2
         },
         "mode": "markers",
         "name": "A_3_3",
         "showlegend": false,
         "type": "scatter3d",
         "x": [
          -602.669
         ],
         "y": [
          -0.226
         ],
         "z": [
          118.219
         ]
        },
        {
         "marker": {
          "color": "black",
          "size": 2
         },
         "mode": "markers",
         "name": "A_3_4",
         "showlegend": false,
         "type": "scatter3d",
         "x": [
          -602.852
         ],
         "y": [
          -0.611
         ],
         "z": [
          41.572
         ]
        },
        {
         "marker": {
          "color": "black",
          "size": 2
         },
         "mode": "markers",
         "name": "A_3_5",
         "showlegend": false,
         "type": "scatter3d",
         "x": [
          -602.986
         ],
         "y": [
          -0.781
         ],
         "z": [
          22.296
         ]
        },
        {
         "marker": {
          "color": "black",
          "size": 2
         },
         "mode": "markers",
         "name": "A_3_6",
         "showlegend": false,
         "type": "scatter3d",
         "x": [
          -602.867
         ],
         "y": [
          -1.131
         ],
         "z": [
          -54.609
         ]
        },
        {
         "marker": {
          "color": "black",
          "size": 2
         },
         "mode": "markers",
         "name": "A_4_2",
         "showlegend": false,
         "type": "scatter3d",
         "x": [
          -602.318
         ],
         "y": [
          -69.583
         ],
         "z": [
          195.252
         ]
        },
        {
         "marker": {
          "color": "black",
          "size": 2
         },
         "mode": "markers",
         "name": "A_4_3",
         "showlegend": false,
         "type": "scatter3d",
         "x": [
          -601.923
         ],
         "y": [
          -70.27
         ],
         "z": [
          118.689
         ]
        },
        {
         "marker": {
          "color": "black",
          "size": 2
         },
         "mode": "markers",
         "name": "A_4_4",
         "showlegend": false,
         "type": "scatter3d",
         "x": [
          -602.336
         ],
         "y": [
          -70.525
         ],
         "z": [
          41.966
         ]
        },
        {
         "marker": {
          "color": "black",
          "size": 2
         },
         "mode": "markers",
         "name": "A_4_5",
         "showlegend": false,
         "type": "scatter3d",
         "x": [
          -602.265
         ],
         "y": [
          -70.635
         ],
         "z": [
          22.632
         ]
        },
        {
         "marker": {
          "color": "black",
          "size": 2
         },
         "mode": "markers",
         "name": "A_4_6",
         "showlegend": false,
         "type": "scatter3d",
         "x": [
          -602.316
         ],
         "y": [
          -71.152
         ],
         "z": [
          -54.287
         ]
        },
        {
         "marker": {
          "color": "green",
          "size": 3
         },
         "mode": "markers",
         "name": "B_1_1",
         "showlegend": false,
         "type": "scatter3d",
         "x": [
          -0.479
         ],
         "y": [
          126.35
         ],
         "z": [
          266.747
         ]
        },
        {
         "marker": {
          "color": "black",
          "size": 2
         },
         "mode": "markers",
         "name": "B_1_2",
         "showlegend": false,
         "type": "scatter3d",
         "x": [
          -0.764
         ],
         "y": [
          126.476
         ],
         "z": [
          146.064
         ]
        },
        {
         "marker": {
          "color": "black",
          "size": 2
         },
         "mode": "markers",
         "name": "B_1_3",
         "showlegend": false,
         "type": "scatter3d",
         "x": [
          0
         ],
         "y": [
          126.638
         ],
         "z": [
          0
         ]
        },
        {
         "marker": {
          "color": "green",
          "size": 3
         },
         "mode": "markers",
         "name": "B_1_4",
         "showlegend": false,
         "type": "scatter3d",
         "x": [
          -0.044
         ],
         "y": [
          126.919
         ],
         "z": [
          -146.352
         ]
        },
        {
         "marker": {
          "color": "black",
          "size": 2
         },
         "mode": "markers",
         "name": "B_1_5",
         "showlegend": false,
         "type": "scatter3d",
         "x": [
          0.349
         ],
         "y": [
          127.105
         ],
         "z": [
          -267.401
         ]
        },
        {
         "marker": {
          "color": "black",
          "size": 2
         },
         "mode": "markers",
         "name": "B_2_1",
         "showlegend": false,
         "type": "scatter3d",
         "x": [
          -0.154
         ],
         "y": [
          69.445
         ],
         "z": [
          266.716
         ]
        },
        {
         "marker": {
          "color": "green",
          "size": 3
         },
         "mode": "markers",
         "name": "B_2_2",
         "showlegend": false,
         "type": "scatter3d",
         "x": [
          -0.961
         ],
         "y": [
          69.408
         ],
         "z": [
          146.325
         ]
        },
        {
         "marker": {
          "color": "black",
          "size": 2
         },
         "mode": "markers",
         "name": "B_2_3",
         "showlegend": false,
         "type": "scatter3d",
         "x": [
          -0.037
         ],
         "y": [
          69.622
         ],
         "z": [
          0.027
         ]
        },
        {
         "marker": {
          "color": "black",
          "size": 2
         },
         "mode": "markers",
         "name": "B_2_4",
         "showlegend": false,
         "type": "scatter3d",
         "x": [
          -0.554
         ],
         "y": [
          69.92
         ],
         "z": [
          -146.275
         ]
        },
        {
         "marker": {
          "color": "green",
          "size": 3
         },
         "mode": "markers",
         "name": "B_2_5",
         "showlegend": false,
         "type": "scatter3d",
         "x": [
          0.338
         ],
         "y": [
          70.18
         ],
         "z": [
          -267.479
         ]
        },
        {
         "marker": {
          "color": "black",
          "size": 2
         },
         "mode": "markers",
         "name": "B_3_1",
         "showlegend": false,
         "type": "scatter3d",
         "x": [
          0
         ],
         "y": [
          -0.042
         ],
         "z": [
          266.733
         ]
        },
        {
         "marker": {
          "color": "black",
          "size": 2
         },
         "mode": "markers",
         "name": "B_3_2",
         "showlegend": false,
         "type": "scatter3d",
         "x": [
          -0.295
         ],
         "y": [
          -0.014
         ],
         "z": [
          146.048
         ]
        },
        {
         "marker": {
          "color": "black",
          "size": 2
         },
         "mode": "markers",
         "name": "B_3_3",
         "showlegend": false,
         "type": "scatter3d",
         "x": [
          0
         ],
         "y": [
          0
         ],
         "z": [
          0
         ]
        },
        {
         "marker": {
          "color": "black",
          "size": 2
         },
         "mode": "markers",
         "name": "B_3_4",
         "showlegend": false,
         "type": "scatter3d",
         "x": [
          0.413
         ],
         "y": [
          0.194
         ],
         "z": [
          -146.53
         ]
        },
        {
         "marker": {
          "color": "black",
          "size": 2
         },
         "mode": "markers",
         "name": "B_4_1",
         "showlegend": false,
         "type": "scatter3d",
         "x": [
          0.565
         ],
         "y": [
          -69.563
         ],
         "z": [
          266.72
         ]
        },
        {
         "marker": {
          "color": "green",
          "size": 3
         },
         "mode": "markers",
         "name": "B_4_2",
         "showlegend": false,
         "type": "scatter3d",
         "x": [
          -0.039
         ],
         "y": [
          -69.317
         ],
         "z": [
          146.011
         ]
        },
        {
         "marker": {
          "color": "green",
          "size": 3
         },
         "mode": "markers",
         "name": "B_4_3",
         "showlegend": false,
         "type": "scatter3d",
         "x": [
          0.645
         ],
         "y": [
          -69.594
         ],
         "z": [
          -0.045
         ]
        },
        {
         "marker": {
          "color": "black",
          "size": 2
         },
         "mode": "markers",
         "name": "B_4_4",
         "showlegend": false,
         "type": "scatter3d",
         "x": [
          0.008
         ],
         "y": [
          -69.266
         ],
         "z": [
          -146.398
         ]
        },
        {
         "marker": {
          "color": "black",
          "size": 2
         },
         "mode": "markers",
         "name": "B_4_5",
         "showlegend": false,
         "type": "scatter3d",
         "x": [
          1.019
         ],
         "y": [
          -69.302
         ],
         "z": [
          -267.725
         ]
        },
        {
         "marker": {
          "color": "black",
          "size": 2
         },
         "mode": "markers",
         "name": "B_5_1",
         "showlegend": false,
         "type": "scatter3d",
         "x": [
          0.86
         ],
         "y": [
          -126.382
         ],
         "z": [
          266.715
         ]
        },
        {
         "marker": {
          "color": "black",
          "size": 2
         },
         "mode": "markers",
         "name": "B_5_2",
         "showlegend": false,
         "type": "scatter3d",
         "x": [
          0.917
         ],
         "y": [
          -126.437
         ],
         "z": [
          146.03
         ]
        },
        {
         "marker": {
          "color": "green",
          "size": 3
         },
         "mode": "markers",
         "name": "B_5_3",
         "showlegend": false,
         "type": "scatter3d",
         "x": [
          1.093
         ],
         "y": [
          -126.526
         ],
         "z": [
          -0.072
         ]
        },
        {
         "marker": {
          "color": "black",
          "size": 2
         },
         "mode": "markers",
         "name": "B_5_4",
         "showlegend": false,
         "type": "scatter3d",
         "x": [
          1.142
         ],
         "y": [
          -126.454
         ],
         "z": [
          -146.473
         ]
        },
        {
         "marker": {
          "color": "green",
          "size": 3
         },
         "mode": "markers",
         "name": "B_5_5",
         "showlegend": false,
         "type": "scatter3d",
         "x": [
          1.792
         ],
         "y": [
          -126.412
         ],
         "z": [
          -267.746
         ]
        }
       ],
       "layout": {
        "scene": {
         "aspectmode": "data"
        },
        "template": {
         "data": {
          "bar": [
           {
            "error_x": {
             "color": "#2a3f5f"
            },
            "error_y": {
             "color": "#2a3f5f"
            },
            "marker": {
             "line": {
              "color": "#E5ECF6",
              "width": 0.5
             },
             "pattern": {
              "fillmode": "overlay",
              "size": 10,
              "solidity": 0.2
             }
            },
            "type": "bar"
           }
          ],
          "barpolar": [
           {
            "marker": {
             "line": {
              "color": "#E5ECF6",
              "width": 0.5
             },
             "pattern": {
              "fillmode": "overlay",
              "size": 10,
              "solidity": 0.2
             }
            },
            "type": "barpolar"
           }
          ],
          "carpet": [
           {
            "aaxis": {
             "endlinecolor": "#2a3f5f",
             "gridcolor": "white",
             "linecolor": "white",
             "minorgridcolor": "white",
             "startlinecolor": "#2a3f5f"
            },
            "baxis": {
             "endlinecolor": "#2a3f5f",
             "gridcolor": "white",
             "linecolor": "white",
             "minorgridcolor": "white",
             "startlinecolor": "#2a3f5f"
            },
            "type": "carpet"
           }
          ],
          "choropleth": [
           {
            "colorbar": {
             "outlinewidth": 0,
             "ticks": ""
            },
            "type": "choropleth"
           }
          ],
          "contour": [
           {
            "colorbar": {
             "outlinewidth": 0,
             "ticks": ""
            },
            "colorscale": [
             [
              0,
              "#0d0887"
             ],
             [
              0.1111111111111111,
              "#46039f"
             ],
             [
              0.2222222222222222,
              "#7201a8"
             ],
             [
              0.3333333333333333,
              "#9c179e"
             ],
             [
              0.4444444444444444,
              "#bd3786"
             ],
             [
              0.5555555555555556,
              "#d8576b"
             ],
             [
              0.6666666666666666,
              "#ed7953"
             ],
             [
              0.7777777777777778,
              "#fb9f3a"
             ],
             [
              0.8888888888888888,
              "#fdca26"
             ],
             [
              1,
              "#f0f921"
             ]
            ],
            "type": "contour"
           }
          ],
          "contourcarpet": [
           {
            "colorbar": {
             "outlinewidth": 0,
             "ticks": ""
            },
            "type": "contourcarpet"
           }
          ],
          "heatmap": [
           {
            "colorbar": {
             "outlinewidth": 0,
             "ticks": ""
            },
            "colorscale": [
             [
              0,
              "#0d0887"
             ],
             [
              0.1111111111111111,
              "#46039f"
             ],
             [
              0.2222222222222222,
              "#7201a8"
             ],
             [
              0.3333333333333333,
              "#9c179e"
             ],
             [
              0.4444444444444444,
              "#bd3786"
             ],
             [
              0.5555555555555556,
              "#d8576b"
             ],
             [
              0.6666666666666666,
              "#ed7953"
             ],
             [
              0.7777777777777778,
              "#fb9f3a"
             ],
             [
              0.8888888888888888,
              "#fdca26"
             ],
             [
              1,
              "#f0f921"
             ]
            ],
            "type": "heatmap"
           }
          ],
          "heatmapgl": [
           {
            "colorbar": {
             "outlinewidth": 0,
             "ticks": ""
            },
            "colorscale": [
             [
              0,
              "#0d0887"
             ],
             [
              0.1111111111111111,
              "#46039f"
             ],
             [
              0.2222222222222222,
              "#7201a8"
             ],
             [
              0.3333333333333333,
              "#9c179e"
             ],
             [
              0.4444444444444444,
              "#bd3786"
             ],
             [
              0.5555555555555556,
              "#d8576b"
             ],
             [
              0.6666666666666666,
              "#ed7953"
             ],
             [
              0.7777777777777778,
              "#fb9f3a"
             ],
             [
              0.8888888888888888,
              "#fdca26"
             ],
             [
              1,
              "#f0f921"
             ]
            ],
            "type": "heatmapgl"
           }
          ],
          "histogram": [
           {
            "marker": {
             "pattern": {
              "fillmode": "overlay",
              "size": 10,
              "solidity": 0.2
             }
            },
            "type": "histogram"
           }
          ],
          "histogram2d": [
           {
            "colorbar": {
             "outlinewidth": 0,
             "ticks": ""
            },
            "colorscale": [
             [
              0,
              "#0d0887"
             ],
             [
              0.1111111111111111,
              "#46039f"
             ],
             [
              0.2222222222222222,
              "#7201a8"
             ],
             [
              0.3333333333333333,
              "#9c179e"
             ],
             [
              0.4444444444444444,
              "#bd3786"
             ],
             [
              0.5555555555555556,
              "#d8576b"
             ],
             [
              0.6666666666666666,
              "#ed7953"
             ],
             [
              0.7777777777777778,
              "#fb9f3a"
             ],
             [
              0.8888888888888888,
              "#fdca26"
             ],
             [
              1,
              "#f0f921"
             ]
            ],
            "type": "histogram2d"
           }
          ],
          "histogram2dcontour": [
           {
            "colorbar": {
             "outlinewidth": 0,
             "ticks": ""
            },
            "colorscale": [
             [
              0,
              "#0d0887"
             ],
             [
              0.1111111111111111,
              "#46039f"
             ],
             [
              0.2222222222222222,
              "#7201a8"
             ],
             [
              0.3333333333333333,
              "#9c179e"
             ],
             [
              0.4444444444444444,
              "#bd3786"
             ],
             [
              0.5555555555555556,
              "#d8576b"
             ],
             [
              0.6666666666666666,
              "#ed7953"
             ],
             [
              0.7777777777777778,
              "#fb9f3a"
             ],
             [
              0.8888888888888888,
              "#fdca26"
             ],
             [
              1,
              "#f0f921"
             ]
            ],
            "type": "histogram2dcontour"
           }
          ],
          "mesh3d": [
           {
            "colorbar": {
             "outlinewidth": 0,
             "ticks": ""
            },
            "type": "mesh3d"
           }
          ],
          "parcoords": [
           {
            "line": {
             "colorbar": {
              "outlinewidth": 0,
              "ticks": ""
             }
            },
            "type": "parcoords"
           }
          ],
          "pie": [
           {
            "automargin": true,
            "type": "pie"
           }
          ],
          "scatter": [
           {
            "fillpattern": {
             "fillmode": "overlay",
             "size": 10,
             "solidity": 0.2
            },
            "type": "scatter"
           }
          ],
          "scatter3d": [
           {
            "line": {
             "colorbar": {
              "outlinewidth": 0,
              "ticks": ""
             }
            },
            "marker": {
             "colorbar": {
              "outlinewidth": 0,
              "ticks": ""
             }
            },
            "type": "scatter3d"
           }
          ],
          "scattercarpet": [
           {
            "marker": {
             "colorbar": {
              "outlinewidth": 0,
              "ticks": ""
             }
            },
            "type": "scattercarpet"
           }
          ],
          "scattergeo": [
           {
            "marker": {
             "colorbar": {
              "outlinewidth": 0,
              "ticks": ""
             }
            },
            "type": "scattergeo"
           }
          ],
          "scattergl": [
           {
            "marker": {
             "colorbar": {
              "outlinewidth": 0,
              "ticks": ""
             }
            },
            "type": "scattergl"
           }
          ],
          "scattermapbox": [
           {
            "marker": {
             "colorbar": {
              "outlinewidth": 0,
              "ticks": ""
             }
            },
            "type": "scattermapbox"
           }
          ],
          "scatterpolar": [
           {
            "marker": {
             "colorbar": {
              "outlinewidth": 0,
              "ticks": ""
             }
            },
            "type": "scatterpolar"
           }
          ],
          "scatterpolargl": [
           {
            "marker": {
             "colorbar": {
              "outlinewidth": 0,
              "ticks": ""
             }
            },
            "type": "scatterpolargl"
           }
          ],
          "scatterternary": [
           {
            "marker": {
             "colorbar": {
              "outlinewidth": 0,
              "ticks": ""
             }
            },
            "type": "scatterternary"
           }
          ],
          "surface": [
           {
            "colorbar": {
             "outlinewidth": 0,
             "ticks": ""
            },
            "colorscale": [
             [
              0,
              "#0d0887"
             ],
             [
              0.1111111111111111,
              "#46039f"
             ],
             [
              0.2222222222222222,
              "#7201a8"
             ],
             [
              0.3333333333333333,
              "#9c179e"
             ],
             [
              0.4444444444444444,
              "#bd3786"
             ],
             [
              0.5555555555555556,
              "#d8576b"
             ],
             [
              0.6666666666666666,
              "#ed7953"
             ],
             [
              0.7777777777777778,
              "#fb9f3a"
             ],
             [
              0.8888888888888888,
              "#fdca26"
             ],
             [
              1,
              "#f0f921"
             ]
            ],
            "type": "surface"
           }
          ],
          "table": [
           {
            "cells": {
             "fill": {
              "color": "#EBF0F8"
             },
             "line": {
              "color": "white"
             }
            },
            "header": {
             "fill": {
              "color": "#C8D4E3"
             },
             "line": {
              "color": "white"
             }
            },
            "type": "table"
           }
          ]
         },
         "layout": {
          "annotationdefaults": {
           "arrowcolor": "#2a3f5f",
           "arrowhead": 0,
           "arrowwidth": 1
          },
          "autotypenumbers": "strict",
          "coloraxis": {
           "colorbar": {
            "outlinewidth": 0,
            "ticks": ""
           }
          },
          "colorscale": {
           "diverging": [
            [
             0,
             "#8e0152"
            ],
            [
             0.1,
             "#c51b7d"
            ],
            [
             0.2,
             "#de77ae"
            ],
            [
             0.3,
             "#f1b6da"
            ],
            [
             0.4,
             "#fde0ef"
            ],
            [
             0.5,
             "#f7f7f7"
            ],
            [
             0.6,
             "#e6f5d0"
            ],
            [
             0.7,
             "#b8e186"
            ],
            [
             0.8,
             "#7fbc41"
            ],
            [
             0.9,
             "#4d9221"
            ],
            [
             1,
             "#276419"
            ]
           ],
           "sequential": [
            [
             0,
             "#0d0887"
            ],
            [
             0.1111111111111111,
             "#46039f"
            ],
            [
             0.2222222222222222,
             "#7201a8"
            ],
            [
             0.3333333333333333,
             "#9c179e"
            ],
            [
             0.4444444444444444,
             "#bd3786"
            ],
            [
             0.5555555555555556,
             "#d8576b"
            ],
            [
             0.6666666666666666,
             "#ed7953"
            ],
            [
             0.7777777777777778,
             "#fb9f3a"
            ],
            [
             0.8888888888888888,
             "#fdca26"
            ],
            [
             1,
             "#f0f921"
            ]
           ],
           "sequentialminus": [
            [
             0,
             "#0d0887"
            ],
            [
             0.1111111111111111,
             "#46039f"
            ],
            [
             0.2222222222222222,
             "#7201a8"
            ],
            [
             0.3333333333333333,
             "#9c179e"
            ],
            [
             0.4444444444444444,
             "#bd3786"
            ],
            [
             0.5555555555555556,
             "#d8576b"
            ],
            [
             0.6666666666666666,
             "#ed7953"
            ],
            [
             0.7777777777777778,
             "#fb9f3a"
            ],
            [
             0.8888888888888888,
             "#fdca26"
            ],
            [
             1,
             "#f0f921"
            ]
           ]
          },
          "colorway": [
           "#636efa",
           "#EF553B",
           "#00cc96",
           "#ab63fa",
           "#FFA15A",
           "#19d3f3",
           "#FF6692",
           "#B6E880",
           "#FF97FF",
           "#FECB52"
          ],
          "font": {
           "color": "#2a3f5f"
          },
          "geo": {
           "bgcolor": "white",
           "lakecolor": "white",
           "landcolor": "#E5ECF6",
           "showlakes": true,
           "showland": true,
           "subunitcolor": "white"
          },
          "hoverlabel": {
           "align": "left"
          },
          "hovermode": "closest",
          "mapbox": {
           "style": "light"
          },
          "paper_bgcolor": "white",
          "plot_bgcolor": "#E5ECF6",
          "polar": {
           "angularaxis": {
            "gridcolor": "white",
            "linecolor": "white",
            "ticks": ""
           },
           "bgcolor": "#E5ECF6",
           "radialaxis": {
            "gridcolor": "white",
            "linecolor": "white",
            "ticks": ""
           }
          },
          "scene": {
           "xaxis": {
            "backgroundcolor": "#E5ECF6",
            "gridcolor": "white",
            "gridwidth": 2,
            "linecolor": "white",
            "showbackground": true,
            "ticks": "",
            "zerolinecolor": "white"
           },
           "yaxis": {
            "backgroundcolor": "#E5ECF6",
            "gridcolor": "white",
            "gridwidth": 2,
            "linecolor": "white",
            "showbackground": true,
            "ticks": "",
            "zerolinecolor": "white"
           },
           "zaxis": {
            "backgroundcolor": "#E5ECF6",
            "gridcolor": "white",
            "gridwidth": 2,
            "linecolor": "white",
            "showbackground": true,
            "ticks": "",
            "zerolinecolor": "white"
           }
          },
          "shapedefaults": {
           "line": {
            "color": "#2a3f5f"
           }
          },
          "ternary": {
           "aaxis": {
            "gridcolor": "white",
            "linecolor": "white",
            "ticks": ""
           },
           "baxis": {
            "gridcolor": "white",
            "linecolor": "white",
            "ticks": ""
           },
           "bgcolor": "#E5ECF6",
           "caxis": {
            "gridcolor": "white",
            "linecolor": "white",
            "ticks": ""
           }
          },
          "title": {
           "x": 0.05
          },
          "xaxis": {
           "automargin": true,
           "gridcolor": "white",
           "linecolor": "white",
           "ticks": "",
           "title": {
            "standoff": 15
           },
           "zerolinecolor": "white",
           "zerolinewidth": 2
          },
          "yaxis": {
           "automargin": true,
           "gridcolor": "white",
           "linecolor": "white",
           "ticks": "",
           "title": {
            "standoff": 15
           },
           "zerolinecolor": "white",
           "zerolinewidth": 2
          }
         }
        },
        "title": {
         "text": "Selected beads for calibration"
        }
       }
      }
     },
     "metadata": {},
     "output_type": "display_data"
    },
    {
     "data": {
      "application/vnd.plotly.v1+json": {
       "config": {
        "plotlyServerURL": "https://plot.ly"
       },
       "data": [
        {
         "marker": {
          "color": "black",
          "size": 2
         },
         "mode": "markers",
         "name": "A_1_1",
         "showlegend": false,
         "type": "scatter3d",
         "x": [
          -602.639
         ],
         "y": [
          95.544
         ],
         "z": [
          213.567
         ]
        },
        {
         "marker": {
          "color": "black",
          "size": 2
         },
         "mode": "markers",
         "name": "A_1_2",
         "showlegend": false,
         "type": "scatter3d",
         "x": [
          -602.658
         ],
         "y": [
          95.398
         ],
         "z": [
          194.395
         ]
        },
        {
         "marker": {
          "color": "black",
          "size": 2
         },
         "mode": "markers",
         "name": "A_1_3",
         "showlegend": false,
         "type": "scatter3d",
         "x": [
          -602.748
         ],
         "y": [
          95.113
         ],
         "z": [
          117.656
         ]
        },
        {
         "marker": {
          "color": "green",
          "size": 3
         },
         "mode": "markers",
         "name": "A_1_4",
         "showlegend": false,
         "type": "scatter3d",
         "x": [
          -603.024
         ],
         "y": [
          94.817
         ],
         "z": [
          40.947
         ]
        },
        {
         "marker": {
          "color": "green",
          "size": 3
         },
         "mode": "markers",
         "name": "A_1_5",
         "showlegend": false,
         "type": "scatter3d",
         "x": [
          -603.144
         ],
         "y": [
          94.732
         ],
         "z": [
          21.714
         ]
        },
        {
         "marker": {
          "color": "black",
          "size": 2
         },
         "mode": "markers",
         "name": "A_1_6",
         "showlegend": false,
         "type": "scatter3d",
         "x": [
          -603.31
         ],
         "y": [
          94.466
         ],
         "z": [
          -55.071
         ]
        },
        {
         "marker": {
          "color": "black",
          "size": 2
         },
         "mode": "markers",
         "name": "A_2_1",
         "showlegend": false,
         "type": "scatter3d",
         "x": [
          -602.595
         ],
         "y": [
          70.179
         ],
         "z": [
          213.7
         ]
        },
        {
         "marker": {
          "color": "black",
          "size": 2
         },
         "mode": "markers",
         "name": "A_2_2",
         "showlegend": false,
         "type": "scatter3d",
         "x": [
          -602.881
         ],
         "y": [
          69.98
         ],
         "z": [
          194.518
         ]
        },
        {
         "marker": {
          "color": "black",
          "size": 2
         },
         "mode": "markers",
         "name": "A_2_3",
         "showlegend": false,
         "type": "scatter3d",
         "x": [
          -602.36
         ],
         "y": [
          69.906
         ],
         "z": [
          117.915
         ]
        },
        {
         "marker": {
          "color": "green",
          "size": 3
         },
         "mode": "markers",
         "name": "A_2_4",
         "showlegend": false,
         "type": "scatter3d",
         "x": [
          -603.075
         ],
         "y": [
          69.379
         ],
         "z": [
          41.199
         ]
        },
        {
         "marker": {
          "color": "green",
          "size": 3
         },
         "mode": "markers",
         "name": "A_2_5",
         "showlegend": false,
         "type": "scatter3d",
         "x": [
          -603.143
         ],
         "y": [
          69.251
         ],
         "z": [
          21.883
         ]
        },
        {
         "marker": {
          "color": "black",
          "size": 2
         },
         "mode": "markers",
         "name": "A_2_6",
         "showlegend": false,
         "type": "scatter3d",
         "x": [
          -603.07
         ],
         "y": [
          69.068
         ],
         "z": [
          -54.895
         ]
        },
        {
         "marker": {
          "color": "black",
          "size": 2
         },
         "mode": "markers",
         "name": "A_3_1",
         "showlegend": false,
         "type": "scatter3d",
         "x": [
          -602.429
         ],
         "y": [
          0.285
         ],
         "z": [
          214.048
         ]
        },
        {
         "marker": {
          "color": "black",
          "size": 2
         },
         "mode": "markers",
         "name": "A_3_2",
         "showlegend": false,
         "type": "scatter3d",
         "x": [
          -602.701
         ],
         "y": [
          0.105
         ],
         "z": [
          194.861
         ]
        },
        {
         "marker": {
          "color": "black",
          "size": 2
         },
         "mode": "markers",
         "name": "A_3_3",
         "showlegend": false,
         "type": "scatter3d",
         "x": [
          -602.669
         ],
         "y": [
          -0.226
         ],
         "z": [
          118.219
         ]
        },
        {
         "marker": {
          "color": "black",
          "size": 2
         },
         "mode": "markers",
         "name": "A_3_4",
         "showlegend": false,
         "type": "scatter3d",
         "x": [
          -602.852
         ],
         "y": [
          -0.611
         ],
         "z": [
          41.572
         ]
        },
        {
         "marker": {
          "color": "black",
          "size": 2
         },
         "mode": "markers",
         "name": "A_3_5",
         "showlegend": false,
         "type": "scatter3d",
         "x": [
          -602.986
         ],
         "y": [
          -0.781
         ],
         "z": [
          22.296
         ]
        },
        {
         "marker": {
          "color": "black",
          "size": 2
         },
         "mode": "markers",
         "name": "A_3_6",
         "showlegend": false,
         "type": "scatter3d",
         "x": [
          -602.867
         ],
         "y": [
          -1.131
         ],
         "z": [
          -54.609
         ]
        },
        {
         "marker": {
          "color": "black",
          "size": 2
         },
         "mode": "markers",
         "name": "A_4_2",
         "showlegend": false,
         "type": "scatter3d",
         "x": [
          -602.318
         ],
         "y": [
          -69.583
         ],
         "z": [
          195.252
         ]
        },
        {
         "marker": {
          "color": "black",
          "size": 2
         },
         "mode": "markers",
         "name": "A_4_3",
         "showlegend": false,
         "type": "scatter3d",
         "x": [
          -601.923
         ],
         "y": [
          -70.27
         ],
         "z": [
          118.689
         ]
        },
        {
         "marker": {
          "color": "black",
          "size": 2
         },
         "mode": "markers",
         "name": "A_4_4",
         "showlegend": false,
         "type": "scatter3d",
         "x": [
          -602.336
         ],
         "y": [
          -70.525
         ],
         "z": [
          41.966
         ]
        },
        {
         "marker": {
          "color": "black",
          "size": 2
         },
         "mode": "markers",
         "name": "A_4_5",
         "showlegend": false,
         "type": "scatter3d",
         "x": [
          -602.265
         ],
         "y": [
          -70.635
         ],
         "z": [
          22.632
         ]
        },
        {
         "marker": {
          "color": "black",
          "size": 2
         },
         "mode": "markers",
         "name": "A_4_6",
         "showlegend": false,
         "type": "scatter3d",
         "x": [
          -602.316
         ],
         "y": [
          -71.152
         ],
         "z": [
          -54.287
         ]
        },
        {
         "marker": {
          "color": "black",
          "size": 2
         },
         "mode": "markers",
         "name": "B_1_1",
         "showlegend": false,
         "type": "scatter3d",
         "x": [
          -0.479
         ],
         "y": [
          126.35
         ],
         "z": [
          266.747
         ]
        },
        {
         "marker": {
          "color": "black",
          "size": 2
         },
         "mode": "markers",
         "name": "B_1_2",
         "showlegend": false,
         "type": "scatter3d",
         "x": [
          -0.764
         ],
         "y": [
          126.476
         ],
         "z": [
          146.064
         ]
        },
        {
         "marker": {
          "color": "green",
          "size": 3
         },
         "mode": "markers",
         "name": "B_1_3",
         "showlegend": false,
         "type": "scatter3d",
         "x": [
          0
         ],
         "y": [
          126.638
         ],
         "z": [
          0
         ]
        },
        {
         "marker": {
          "color": "green",
          "size": 3
         },
         "mode": "markers",
         "name": "B_1_4",
         "showlegend": false,
         "type": "scatter3d",
         "x": [
          -0.044
         ],
         "y": [
          126.919
         ],
         "z": [
          -146.352
         ]
        },
        {
         "marker": {
          "color": "black",
          "size": 2
         },
         "mode": "markers",
         "name": "B_1_5",
         "showlegend": false,
         "type": "scatter3d",
         "x": [
          0.349
         ],
         "y": [
          127.105
         ],
         "z": [
          -267.401
         ]
        },
        {
         "marker": {
          "color": "black",
          "size": 2
         },
         "mode": "markers",
         "name": "B_2_1",
         "showlegend": false,
         "type": "scatter3d",
         "x": [
          -0.154
         ],
         "y": [
          69.445
         ],
         "z": [
          266.716
         ]
        },
        {
         "marker": {
          "color": "black",
          "size": 2
         },
         "mode": "markers",
         "name": "B_2_2",
         "showlegend": false,
         "type": "scatter3d",
         "x": [
          -0.961
         ],
         "y": [
          69.408
         ],
         "z": [
          146.325
         ]
        },
        {
         "marker": {
          "color": "green",
          "size": 3
         },
         "mode": "markers",
         "name": "B_2_3",
         "showlegend": false,
         "type": "scatter3d",
         "x": [
          -0.037
         ],
         "y": [
          69.622
         ],
         "z": [
          0.027
         ]
        },
        {
         "marker": {
          "color": "green",
          "size": 3
         },
         "mode": "markers",
         "name": "B_2_4",
         "showlegend": false,
         "type": "scatter3d",
         "x": [
          -0.554
         ],
         "y": [
          69.92
         ],
         "z": [
          -146.275
         ]
        },
        {
         "marker": {
          "color": "black",
          "size": 2
         },
         "mode": "markers",
         "name": "B_2_5",
         "showlegend": false,
         "type": "scatter3d",
         "x": [
          0.338
         ],
         "y": [
          70.18
         ],
         "z": [
          -267.479
         ]
        },
        {
         "marker": {
          "color": "black",
          "size": 2
         },
         "mode": "markers",
         "name": "B_3_1",
         "showlegend": false,
         "type": "scatter3d",
         "x": [
          0
         ],
         "y": [
          -0.042
         ],
         "z": [
          266.733
         ]
        },
        {
         "marker": {
          "color": "black",
          "size": 2
         },
         "mode": "markers",
         "name": "B_3_2",
         "showlegend": false,
         "type": "scatter3d",
         "x": [
          -0.295
         ],
         "y": [
          -0.014
         ],
         "z": [
          146.048
         ]
        },
        {
         "marker": {
          "color": "black",
          "size": 2
         },
         "mode": "markers",
         "name": "B_3_3",
         "showlegend": false,
         "type": "scatter3d",
         "x": [
          0
         ],
         "y": [
          0
         ],
         "z": [
          0
         ]
        },
        {
         "marker": {
          "color": "black",
          "size": 2
         },
         "mode": "markers",
         "name": "B_3_4",
         "showlegend": false,
         "type": "scatter3d",
         "x": [
          0.413
         ],
         "y": [
          0.194
         ],
         "z": [
          -146.53
         ]
        },
        {
         "marker": {
          "color": "black",
          "size": 2
         },
         "mode": "markers",
         "name": "B_4_1",
         "showlegend": false,
         "type": "scatter3d",
         "x": [
          0.565
         ],
         "y": [
          -69.563
         ],
         "z": [
          266.72
         ]
        },
        {
         "marker": {
          "color": "black",
          "size": 2
         },
         "mode": "markers",
         "name": "B_4_2",
         "showlegend": false,
         "type": "scatter3d",
         "x": [
          -0.039
         ],
         "y": [
          -69.317
         ],
         "z": [
          146.011
         ]
        },
        {
         "marker": {
          "color": "black",
          "size": 2
         },
         "mode": "markers",
         "name": "B_4_3",
         "showlegend": false,
         "type": "scatter3d",
         "x": [
          0.645
         ],
         "y": [
          -69.594
         ],
         "z": [
          -0.045
         ]
        },
        {
         "marker": {
          "color": "black",
          "size": 2
         },
         "mode": "markers",
         "name": "B_4_4",
         "showlegend": false,
         "type": "scatter3d",
         "x": [
          0.008
         ],
         "y": [
          -69.266
         ],
         "z": [
          -146.398
         ]
        },
        {
         "marker": {
          "color": "black",
          "size": 2
         },
         "mode": "markers",
         "name": "B_4_5",
         "showlegend": false,
         "type": "scatter3d",
         "x": [
          1.019
         ],
         "y": [
          -69.302
         ],
         "z": [
          -267.725
         ]
        },
        {
         "marker": {
          "color": "black",
          "size": 2
         },
         "mode": "markers",
         "name": "B_5_1",
         "showlegend": false,
         "type": "scatter3d",
         "x": [
          0.86
         ],
         "y": [
          -126.382
         ],
         "z": [
          266.715
         ]
        },
        {
         "marker": {
          "color": "black",
          "size": 2
         },
         "mode": "markers",
         "name": "B_5_2",
         "showlegend": false,
         "type": "scatter3d",
         "x": [
          0.917
         ],
         "y": [
          -126.437
         ],
         "z": [
          146.03
         ]
        },
        {
         "marker": {
          "color": "black",
          "size": 2
         },
         "mode": "markers",
         "name": "B_5_3",
         "showlegend": false,
         "type": "scatter3d",
         "x": [
          1.093
         ],
         "y": [
          -126.526
         ],
         "z": [
          -0.072
         ]
        },
        {
         "marker": {
          "color": "black",
          "size": 2
         },
         "mode": "markers",
         "name": "B_5_4",
         "showlegend": false,
         "type": "scatter3d",
         "x": [
          1.142
         ],
         "y": [
          -126.454
         ],
         "z": [
          -146.473
         ]
        },
        {
         "marker": {
          "color": "black",
          "size": 2
         },
         "mode": "markers",
         "name": "B_5_5",
         "showlegend": false,
         "type": "scatter3d",
         "x": [
          1.792
         ],
         "y": [
          -126.412
         ],
         "z": [
          -267.746
         ]
        }
       ],
       "layout": {
        "scene": {
         "aspectmode": "data"
        },
        "template": {
         "data": {
          "bar": [
           {
            "error_x": {
             "color": "#2a3f5f"
            },
            "error_y": {
             "color": "#2a3f5f"
            },
            "marker": {
             "line": {
              "color": "#E5ECF6",
              "width": 0.5
             },
             "pattern": {
              "fillmode": "overlay",
              "size": 10,
              "solidity": 0.2
             }
            },
            "type": "bar"
           }
          ],
          "barpolar": [
           {
            "marker": {
             "line": {
              "color": "#E5ECF6",
              "width": 0.5
             },
             "pattern": {
              "fillmode": "overlay",
              "size": 10,
              "solidity": 0.2
             }
            },
            "type": "barpolar"
           }
          ],
          "carpet": [
           {
            "aaxis": {
             "endlinecolor": "#2a3f5f",
             "gridcolor": "white",
             "linecolor": "white",
             "minorgridcolor": "white",
             "startlinecolor": "#2a3f5f"
            },
            "baxis": {
             "endlinecolor": "#2a3f5f",
             "gridcolor": "white",
             "linecolor": "white",
             "minorgridcolor": "white",
             "startlinecolor": "#2a3f5f"
            },
            "type": "carpet"
           }
          ],
          "choropleth": [
           {
            "colorbar": {
             "outlinewidth": 0,
             "ticks": ""
            },
            "type": "choropleth"
           }
          ],
          "contour": [
           {
            "colorbar": {
             "outlinewidth": 0,
             "ticks": ""
            },
            "colorscale": [
             [
              0,
              "#0d0887"
             ],
             [
              0.1111111111111111,
              "#46039f"
             ],
             [
              0.2222222222222222,
              "#7201a8"
             ],
             [
              0.3333333333333333,
              "#9c179e"
             ],
             [
              0.4444444444444444,
              "#bd3786"
             ],
             [
              0.5555555555555556,
              "#d8576b"
             ],
             [
              0.6666666666666666,
              "#ed7953"
             ],
             [
              0.7777777777777778,
              "#fb9f3a"
             ],
             [
              0.8888888888888888,
              "#fdca26"
             ],
             [
              1,
              "#f0f921"
             ]
            ],
            "type": "contour"
           }
          ],
          "contourcarpet": [
           {
            "colorbar": {
             "outlinewidth": 0,
             "ticks": ""
            },
            "type": "contourcarpet"
           }
          ],
          "heatmap": [
           {
            "colorbar": {
             "outlinewidth": 0,
             "ticks": ""
            },
            "colorscale": [
             [
              0,
              "#0d0887"
             ],
             [
              0.1111111111111111,
              "#46039f"
             ],
             [
              0.2222222222222222,
              "#7201a8"
             ],
             [
              0.3333333333333333,
              "#9c179e"
             ],
             [
              0.4444444444444444,
              "#bd3786"
             ],
             [
              0.5555555555555556,
              "#d8576b"
             ],
             [
              0.6666666666666666,
              "#ed7953"
             ],
             [
              0.7777777777777778,
              "#fb9f3a"
             ],
             [
              0.8888888888888888,
              "#fdca26"
             ],
             [
              1,
              "#f0f921"
             ]
            ],
            "type": "heatmap"
           }
          ],
          "heatmapgl": [
           {
            "colorbar": {
             "outlinewidth": 0,
             "ticks": ""
            },
            "colorscale": [
             [
              0,
              "#0d0887"
             ],
             [
              0.1111111111111111,
              "#46039f"
             ],
             [
              0.2222222222222222,
              "#7201a8"
             ],
             [
              0.3333333333333333,
              "#9c179e"
             ],
             [
              0.4444444444444444,
              "#bd3786"
             ],
             [
              0.5555555555555556,
              "#d8576b"
             ],
             [
              0.6666666666666666,
              "#ed7953"
             ],
             [
              0.7777777777777778,
              "#fb9f3a"
             ],
             [
              0.8888888888888888,
              "#fdca26"
             ],
             [
              1,
              "#f0f921"
             ]
            ],
            "type": "heatmapgl"
           }
          ],
          "histogram": [
           {
            "marker": {
             "pattern": {
              "fillmode": "overlay",
              "size": 10,
              "solidity": 0.2
             }
            },
            "type": "histogram"
           }
          ],
          "histogram2d": [
           {
            "colorbar": {
             "outlinewidth": 0,
             "ticks": ""
            },
            "colorscale": [
             [
              0,
              "#0d0887"
             ],
             [
              0.1111111111111111,
              "#46039f"
             ],
             [
              0.2222222222222222,
              "#7201a8"
             ],
             [
              0.3333333333333333,
              "#9c179e"
             ],
             [
              0.4444444444444444,
              "#bd3786"
             ],
             [
              0.5555555555555556,
              "#d8576b"
             ],
             [
              0.6666666666666666,
              "#ed7953"
             ],
             [
              0.7777777777777778,
              "#fb9f3a"
             ],
             [
              0.8888888888888888,
              "#fdca26"
             ],
             [
              1,
              "#f0f921"
             ]
            ],
            "type": "histogram2d"
           }
          ],
          "histogram2dcontour": [
           {
            "colorbar": {
             "outlinewidth": 0,
             "ticks": ""
            },
            "colorscale": [
             [
              0,
              "#0d0887"
             ],
             [
              0.1111111111111111,
              "#46039f"
             ],
             [
              0.2222222222222222,
              "#7201a8"
             ],
             [
              0.3333333333333333,
              "#9c179e"
             ],
             [
              0.4444444444444444,
              "#bd3786"
             ],
             [
              0.5555555555555556,
              "#d8576b"
             ],
             [
              0.6666666666666666,
              "#ed7953"
             ],
             [
              0.7777777777777778,
              "#fb9f3a"
             ],
             [
              0.8888888888888888,
              "#fdca26"
             ],
             [
              1,
              "#f0f921"
             ]
            ],
            "type": "histogram2dcontour"
           }
          ],
          "mesh3d": [
           {
            "colorbar": {
             "outlinewidth": 0,
             "ticks": ""
            },
            "type": "mesh3d"
           }
          ],
          "parcoords": [
           {
            "line": {
             "colorbar": {
              "outlinewidth": 0,
              "ticks": ""
             }
            },
            "type": "parcoords"
           }
          ],
          "pie": [
           {
            "automargin": true,
            "type": "pie"
           }
          ],
          "scatter": [
           {
            "fillpattern": {
             "fillmode": "overlay",
             "size": 10,
             "solidity": 0.2
            },
            "type": "scatter"
           }
          ],
          "scatter3d": [
           {
            "line": {
             "colorbar": {
              "outlinewidth": 0,
              "ticks": ""
             }
            },
            "marker": {
             "colorbar": {
              "outlinewidth": 0,
              "ticks": ""
             }
            },
            "type": "scatter3d"
           }
          ],
          "scattercarpet": [
           {
            "marker": {
             "colorbar": {
              "outlinewidth": 0,
              "ticks": ""
             }
            },
            "type": "scattercarpet"
           }
          ],
          "scattergeo": [
           {
            "marker": {
             "colorbar": {
              "outlinewidth": 0,
              "ticks": ""
             }
            },
            "type": "scattergeo"
           }
          ],
          "scattergl": [
           {
            "marker": {
             "colorbar": {
              "outlinewidth": 0,
              "ticks": ""
             }
            },
            "type": "scattergl"
           }
          ],
          "scattermapbox": [
           {
            "marker": {
             "colorbar": {
              "outlinewidth": 0,
              "ticks": ""
             }
            },
            "type": "scattermapbox"
           }
          ],
          "scatterpolar": [
           {
            "marker": {
             "colorbar": {
              "outlinewidth": 0,
              "ticks": ""
             }
            },
            "type": "scatterpolar"
           }
          ],
          "scatterpolargl": [
           {
            "marker": {
             "colorbar": {
              "outlinewidth": 0,
              "ticks": ""
             }
            },
            "type": "scatterpolargl"
           }
          ],
          "scatterternary": [
           {
            "marker": {
             "colorbar": {
              "outlinewidth": 0,
              "ticks": ""
             }
            },
            "type": "scatterternary"
           }
          ],
          "surface": [
           {
            "colorbar": {
             "outlinewidth": 0,
             "ticks": ""
            },
            "colorscale": [
             [
              0,
              "#0d0887"
             ],
             [
              0.1111111111111111,
              "#46039f"
             ],
             [
              0.2222222222222222,
              "#7201a8"
             ],
             [
              0.3333333333333333,
              "#9c179e"
             ],
             [
              0.4444444444444444,
              "#bd3786"
             ],
             [
              0.5555555555555556,
              "#d8576b"
             ],
             [
              0.6666666666666666,
              "#ed7953"
             ],
             [
              0.7777777777777778,
              "#fb9f3a"
             ],
             [
              0.8888888888888888,
              "#fdca26"
             ],
             [
              1,
              "#f0f921"
             ]
            ],
            "type": "surface"
           }
          ],
          "table": [
           {
            "cells": {
             "fill": {
              "color": "#EBF0F8"
             },
             "line": {
              "color": "white"
             }
            },
            "header": {
             "fill": {
              "color": "#C8D4E3"
             },
             "line": {
              "color": "white"
             }
            },
            "type": "table"
           }
          ]
         },
         "layout": {
          "annotationdefaults": {
           "arrowcolor": "#2a3f5f",
           "arrowhead": 0,
           "arrowwidth": 1
          },
          "autotypenumbers": "strict",
          "coloraxis": {
           "colorbar": {
            "outlinewidth": 0,
            "ticks": ""
           }
          },
          "colorscale": {
           "diverging": [
            [
             0,
             "#8e0152"
            ],
            [
             0.1,
             "#c51b7d"
            ],
            [
             0.2,
             "#de77ae"
            ],
            [
             0.3,
             "#f1b6da"
            ],
            [
             0.4,
             "#fde0ef"
            ],
            [
             0.5,
             "#f7f7f7"
            ],
            [
             0.6,
             "#e6f5d0"
            ],
            [
             0.7,
             "#b8e186"
            ],
            [
             0.8,
             "#7fbc41"
            ],
            [
             0.9,
             "#4d9221"
            ],
            [
             1,
             "#276419"
            ]
           ],
           "sequential": [
            [
             0,
             "#0d0887"
            ],
            [
             0.1111111111111111,
             "#46039f"
            ],
            [
             0.2222222222222222,
             "#7201a8"
            ],
            [
             0.3333333333333333,
             "#9c179e"
            ],
            [
             0.4444444444444444,
             "#bd3786"
            ],
            [
             0.5555555555555556,
             "#d8576b"
            ],
            [
             0.6666666666666666,
             "#ed7953"
            ],
            [
             0.7777777777777778,
             "#fb9f3a"
            ],
            [
             0.8888888888888888,
             "#fdca26"
            ],
            [
             1,
             "#f0f921"
            ]
           ],
           "sequentialminus": [
            [
             0,
             "#0d0887"
            ],
            [
             0.1111111111111111,
             "#46039f"
            ],
            [
             0.2222222222222222,
             "#7201a8"
            ],
            [
             0.3333333333333333,
             "#9c179e"
            ],
            [
             0.4444444444444444,
             "#bd3786"
            ],
            [
             0.5555555555555556,
             "#d8576b"
            ],
            [
             0.6666666666666666,
             "#ed7953"
            ],
            [
             0.7777777777777778,
             "#fb9f3a"
            ],
            [
             0.8888888888888888,
             "#fdca26"
            ],
            [
             1,
             "#f0f921"
            ]
           ]
          },
          "colorway": [
           "#636efa",
           "#EF553B",
           "#00cc96",
           "#ab63fa",
           "#FFA15A",
           "#19d3f3",
           "#FF6692",
           "#B6E880",
           "#FF97FF",
           "#FECB52"
          ],
          "font": {
           "color": "#2a3f5f"
          },
          "geo": {
           "bgcolor": "white",
           "lakecolor": "white",
           "landcolor": "#E5ECF6",
           "showlakes": true,
           "showland": true,
           "subunitcolor": "white"
          },
          "hoverlabel": {
           "align": "left"
          },
          "hovermode": "closest",
          "mapbox": {
           "style": "light"
          },
          "paper_bgcolor": "white",
          "plot_bgcolor": "#E5ECF6",
          "polar": {
           "angularaxis": {
            "gridcolor": "white",
            "linecolor": "white",
            "ticks": ""
           },
           "bgcolor": "#E5ECF6",
           "radialaxis": {
            "gridcolor": "white",
            "linecolor": "white",
            "ticks": ""
           }
          },
          "scene": {
           "xaxis": {
            "backgroundcolor": "#E5ECF6",
            "gridcolor": "white",
            "gridwidth": 2,
            "linecolor": "white",
            "showbackground": true,
            "ticks": "",
            "zerolinecolor": "white"
           },
           "yaxis": {
            "backgroundcolor": "#E5ECF6",
            "gridcolor": "white",
            "gridwidth": 2,
            "linecolor": "white",
            "showbackground": true,
            "ticks": "",
            "zerolinecolor": "white"
           },
           "zaxis": {
            "backgroundcolor": "#E5ECF6",
            "gridcolor": "white",
            "gridwidth": 2,
            "linecolor": "white",
            "showbackground": true,
            "ticks": "",
            "zerolinecolor": "white"
           }
          },
          "shapedefaults": {
           "line": {
            "color": "#2a3f5f"
           }
          },
          "ternary": {
           "aaxis": {
            "gridcolor": "white",
            "linecolor": "white",
            "ticks": ""
           },
           "baxis": {
            "gridcolor": "white",
            "linecolor": "white",
            "ticks": ""
           },
           "bgcolor": "#E5ECF6",
           "caxis": {
            "gridcolor": "white",
            "linecolor": "white",
            "ticks": ""
           }
          },
          "title": {
           "x": 0.05
          },
          "xaxis": {
           "automargin": true,
           "gridcolor": "white",
           "linecolor": "white",
           "ticks": "",
           "title": {
            "standoff": 15
           },
           "zerolinecolor": "white",
           "zerolinewidth": 2
          },
          "yaxis": {
           "automargin": true,
           "gridcolor": "white",
           "linecolor": "white",
           "ticks": "",
           "title": {
            "standoff": 15
           },
           "zerolinecolor": "white",
           "zerolinewidth": 2
          }
         }
        },
        "title": {
         "text": "Selected beads for calibration"
        }
       }
      }
     },
     "metadata": {},
     "output_type": "display_data"
    },
    {
     "data": {
      "application/vnd.plotly.v1+json": {
       "config": {
        "plotlyServerURL": "https://plot.ly"
       },
       "data": [
        {
         "marker": {
          "color": "black",
          "size": 2
         },
         "mode": "markers",
         "name": "A_1_1",
         "showlegend": false,
         "type": "scatter3d",
         "x": [
          -602.639
         ],
         "y": [
          95.544
         ],
         "z": [
          213.567
         ]
        },
        {
         "marker": {
          "color": "black",
          "size": 2
         },
         "mode": "markers",
         "name": "A_1_2",
         "showlegend": false,
         "type": "scatter3d",
         "x": [
          -602.658
         ],
         "y": [
          95.398
         ],
         "z": [
          194.395
         ]
        },
        {
         "marker": {
          "color": "black",
          "size": 2
         },
         "mode": "markers",
         "name": "A_1_3",
         "showlegend": false,
         "type": "scatter3d",
         "x": [
          -602.748
         ],
         "y": [
          95.113
         ],
         "z": [
          117.656
         ]
        },
        {
         "marker": {
          "color": "green",
          "size": 3
         },
         "mode": "markers",
         "name": "A_1_4",
         "showlegend": false,
         "type": "scatter3d",
         "x": [
          -603.024
         ],
         "y": [
          94.817
         ],
         "z": [
          40.947
         ]
        },
        {
         "marker": {
          "color": "green",
          "size": 3
         },
         "mode": "markers",
         "name": "A_1_5",
         "showlegend": false,
         "type": "scatter3d",
         "x": [
          -603.144
         ],
         "y": [
          94.732
         ],
         "z": [
          21.714
         ]
        },
        {
         "marker": {
          "color": "black",
          "size": 2
         },
         "mode": "markers",
         "name": "A_1_6",
         "showlegend": false,
         "type": "scatter3d",
         "x": [
          -603.31
         ],
         "y": [
          94.466
         ],
         "z": [
          -55.071
         ]
        },
        {
         "marker": {
          "color": "black",
          "size": 2
         },
         "mode": "markers",
         "name": "A_2_1",
         "showlegend": false,
         "type": "scatter3d",
         "x": [
          -602.595
         ],
         "y": [
          70.179
         ],
         "z": [
          213.7
         ]
        },
        {
         "marker": {
          "color": "black",
          "size": 2
         },
         "mode": "markers",
         "name": "A_2_2",
         "showlegend": false,
         "type": "scatter3d",
         "x": [
          -602.881
         ],
         "y": [
          69.98
         ],
         "z": [
          194.518
         ]
        },
        {
         "marker": {
          "color": "black",
          "size": 2
         },
         "mode": "markers",
         "name": "A_2_3",
         "showlegend": false,
         "type": "scatter3d",
         "x": [
          -602.36
         ],
         "y": [
          69.906
         ],
         "z": [
          117.915
         ]
        },
        {
         "marker": {
          "color": "black",
          "size": 2
         },
         "mode": "markers",
         "name": "A_2_4",
         "showlegend": false,
         "type": "scatter3d",
         "x": [
          -603.075
         ],
         "y": [
          69.379
         ],
         "z": [
          41.199
         ]
        },
        {
         "marker": {
          "color": "black",
          "size": 2
         },
         "mode": "markers",
         "name": "A_2_5",
         "showlegend": false,
         "type": "scatter3d",
         "x": [
          -603.143
         ],
         "y": [
          69.251
         ],
         "z": [
          21.883
         ]
        },
        {
         "marker": {
          "color": "black",
          "size": 2
         },
         "mode": "markers",
         "name": "A_2_6",
         "showlegend": false,
         "type": "scatter3d",
         "x": [
          -603.07
         ],
         "y": [
          69.068
         ],
         "z": [
          -54.895
         ]
        },
        {
         "marker": {
          "color": "black",
          "size": 2
         },
         "mode": "markers",
         "name": "A_3_1",
         "showlegend": false,
         "type": "scatter3d",
         "x": [
          -602.429
         ],
         "y": [
          0.285
         ],
         "z": [
          214.048
         ]
        },
        {
         "marker": {
          "color": "black",
          "size": 2
         },
         "mode": "markers",
         "name": "A_3_2",
         "showlegend": false,
         "type": "scatter3d",
         "x": [
          -602.701
         ],
         "y": [
          0.105
         ],
         "z": [
          194.861
         ]
        },
        {
         "marker": {
          "color": "black",
          "size": 2
         },
         "mode": "markers",
         "name": "A_3_3",
         "showlegend": false,
         "type": "scatter3d",
         "x": [
          -602.669
         ],
         "y": [
          -0.226
         ],
         "z": [
          118.219
         ]
        },
        {
         "marker": {
          "color": "green",
          "size": 3
         },
         "mode": "markers",
         "name": "A_3_4",
         "showlegend": false,
         "type": "scatter3d",
         "x": [
          -602.852
         ],
         "y": [
          -0.611
         ],
         "z": [
          41.572
         ]
        },
        {
         "marker": {
          "color": "green",
          "size": 3
         },
         "mode": "markers",
         "name": "A_3_5",
         "showlegend": false,
         "type": "scatter3d",
         "x": [
          -602.986
         ],
         "y": [
          -0.781
         ],
         "z": [
          22.296
         ]
        },
        {
         "marker": {
          "color": "black",
          "size": 2
         },
         "mode": "markers",
         "name": "A_3_6",
         "showlegend": false,
         "type": "scatter3d",
         "x": [
          -602.867
         ],
         "y": [
          -1.131
         ],
         "z": [
          -54.609
         ]
        },
        {
         "marker": {
          "color": "black",
          "size": 2
         },
         "mode": "markers",
         "name": "A_4_2",
         "showlegend": false,
         "type": "scatter3d",
         "x": [
          -602.318
         ],
         "y": [
          -69.583
         ],
         "z": [
          195.252
         ]
        },
        {
         "marker": {
          "color": "black",
          "size": 2
         },
         "mode": "markers",
         "name": "A_4_3",
         "showlegend": false,
         "type": "scatter3d",
         "x": [
          -601.923
         ],
         "y": [
          -70.27
         ],
         "z": [
          118.689
         ]
        },
        {
         "marker": {
          "color": "black",
          "size": 2
         },
         "mode": "markers",
         "name": "A_4_4",
         "showlegend": false,
         "type": "scatter3d",
         "x": [
          -602.336
         ],
         "y": [
          -70.525
         ],
         "z": [
          41.966
         ]
        },
        {
         "marker": {
          "color": "black",
          "size": 2
         },
         "mode": "markers",
         "name": "A_4_5",
         "showlegend": false,
         "type": "scatter3d",
         "x": [
          -602.265
         ],
         "y": [
          -70.635
         ],
         "z": [
          22.632
         ]
        },
        {
         "marker": {
          "color": "black",
          "size": 2
         },
         "mode": "markers",
         "name": "A_4_6",
         "showlegend": false,
         "type": "scatter3d",
         "x": [
          -602.316
         ],
         "y": [
          -71.152
         ],
         "z": [
          -54.287
         ]
        },
        {
         "marker": {
          "color": "black",
          "size": 2
         },
         "mode": "markers",
         "name": "B_1_1",
         "showlegend": false,
         "type": "scatter3d",
         "x": [
          -0.479
         ],
         "y": [
          126.35
         ],
         "z": [
          266.747
         ]
        },
        {
         "marker": {
          "color": "black",
          "size": 2
         },
         "mode": "markers",
         "name": "B_1_2",
         "showlegend": false,
         "type": "scatter3d",
         "x": [
          -0.764
         ],
         "y": [
          126.476
         ],
         "z": [
          146.064
         ]
        },
        {
         "marker": {
          "color": "green",
          "size": 3
         },
         "mode": "markers",
         "name": "B_1_3",
         "showlegend": false,
         "type": "scatter3d",
         "x": [
          0
         ],
         "y": [
          126.638
         ],
         "z": [
          0
         ]
        },
        {
         "marker": {
          "color": "green",
          "size": 3
         },
         "mode": "markers",
         "name": "B_1_4",
         "showlegend": false,
         "type": "scatter3d",
         "x": [
          -0.044
         ],
         "y": [
          126.919
         ],
         "z": [
          -146.352
         ]
        },
        {
         "marker": {
          "color": "black",
          "size": 2
         },
         "mode": "markers",
         "name": "B_1_5",
         "showlegend": false,
         "type": "scatter3d",
         "x": [
          0.349
         ],
         "y": [
          127.105
         ],
         "z": [
          -267.401
         ]
        },
        {
         "marker": {
          "color": "black",
          "size": 2
         },
         "mode": "markers",
         "name": "B_2_1",
         "showlegend": false,
         "type": "scatter3d",
         "x": [
          -0.154
         ],
         "y": [
          69.445
         ],
         "z": [
          266.716
         ]
        },
        {
         "marker": {
          "color": "black",
          "size": 2
         },
         "mode": "markers",
         "name": "B_2_2",
         "showlegend": false,
         "type": "scatter3d",
         "x": [
          -0.961
         ],
         "y": [
          69.408
         ],
         "z": [
          146.325
         ]
        },
        {
         "marker": {
          "color": "black",
          "size": 2
         },
         "mode": "markers",
         "name": "B_2_3",
         "showlegend": false,
         "type": "scatter3d",
         "x": [
          -0.037
         ],
         "y": [
          69.622
         ],
         "z": [
          0.027
         ]
        },
        {
         "marker": {
          "color": "black",
          "size": 2
         },
         "mode": "markers",
         "name": "B_2_4",
         "showlegend": false,
         "type": "scatter3d",
         "x": [
          -0.554
         ],
         "y": [
          69.92
         ],
         "z": [
          -146.275
         ]
        },
        {
         "marker": {
          "color": "black",
          "size": 2
         },
         "mode": "markers",
         "name": "B_2_5",
         "showlegend": false,
         "type": "scatter3d",
         "x": [
          0.338
         ],
         "y": [
          70.18
         ],
         "z": [
          -267.479
         ]
        },
        {
         "marker": {
          "color": "black",
          "size": 2
         },
         "mode": "markers",
         "name": "B_3_1",
         "showlegend": false,
         "type": "scatter3d",
         "x": [
          0
         ],
         "y": [
          -0.042
         ],
         "z": [
          266.733
         ]
        },
        {
         "marker": {
          "color": "black",
          "size": 2
         },
         "mode": "markers",
         "name": "B_3_2",
         "showlegend": false,
         "type": "scatter3d",
         "x": [
          -0.295
         ],
         "y": [
          -0.014
         ],
         "z": [
          146.048
         ]
        },
        {
         "marker": {
          "color": "green",
          "size": 3
         },
         "mode": "markers",
         "name": "B_3_3",
         "showlegend": false,
         "type": "scatter3d",
         "x": [
          0
         ],
         "y": [
          0
         ],
         "z": [
          0
         ]
        },
        {
         "marker": {
          "color": "green",
          "size": 3
         },
         "mode": "markers",
         "name": "B_3_4",
         "showlegend": false,
         "type": "scatter3d",
         "x": [
          0.413
         ],
         "y": [
          0.194
         ],
         "z": [
          -146.53
         ]
        },
        {
         "marker": {
          "color": "black",
          "size": 2
         },
         "mode": "markers",
         "name": "B_4_1",
         "showlegend": false,
         "type": "scatter3d",
         "x": [
          0.565
         ],
         "y": [
          -69.563
         ],
         "z": [
          266.72
         ]
        },
        {
         "marker": {
          "color": "black",
          "size": 2
         },
         "mode": "markers",
         "name": "B_4_2",
         "showlegend": false,
         "type": "scatter3d",
         "x": [
          -0.039
         ],
         "y": [
          -69.317
         ],
         "z": [
          146.011
         ]
        },
        {
         "marker": {
          "color": "black",
          "size": 2
         },
         "mode": "markers",
         "name": "B_4_3",
         "showlegend": false,
         "type": "scatter3d",
         "x": [
          0.645
         ],
         "y": [
          -69.594
         ],
         "z": [
          -0.045
         ]
        },
        {
         "marker": {
          "color": "black",
          "size": 2
         },
         "mode": "markers",
         "name": "B_4_4",
         "showlegend": false,
         "type": "scatter3d",
         "x": [
          0.008
         ],
         "y": [
          -69.266
         ],
         "z": [
          -146.398
         ]
        },
        {
         "marker": {
          "color": "black",
          "size": 2
         },
         "mode": "markers",
         "name": "B_4_5",
         "showlegend": false,
         "type": "scatter3d",
         "x": [
          1.019
         ],
         "y": [
          -69.302
         ],
         "z": [
          -267.725
         ]
        },
        {
         "marker": {
          "color": "black",
          "size": 2
         },
         "mode": "markers",
         "name": "B_5_1",
         "showlegend": false,
         "type": "scatter3d",
         "x": [
          0.86
         ],
         "y": [
          -126.382
         ],
         "z": [
          266.715
         ]
        },
        {
         "marker": {
          "color": "black",
          "size": 2
         },
         "mode": "markers",
         "name": "B_5_2",
         "showlegend": false,
         "type": "scatter3d",
         "x": [
          0.917
         ],
         "y": [
          -126.437
         ],
         "z": [
          146.03
         ]
        },
        {
         "marker": {
          "color": "black",
          "size": 2
         },
         "mode": "markers",
         "name": "B_5_3",
         "showlegend": false,
         "type": "scatter3d",
         "x": [
          1.093
         ],
         "y": [
          -126.526
         ],
         "z": [
          -0.072
         ]
        },
        {
         "marker": {
          "color": "black",
          "size": 2
         },
         "mode": "markers",
         "name": "B_5_4",
         "showlegend": false,
         "type": "scatter3d",
         "x": [
          1.142
         ],
         "y": [
          -126.454
         ],
         "z": [
          -146.473
         ]
        },
        {
         "marker": {
          "color": "black",
          "size": 2
         },
         "mode": "markers",
         "name": "B_5_5",
         "showlegend": false,
         "type": "scatter3d",
         "x": [
          1.792
         ],
         "y": [
          -126.412
         ],
         "z": [
          -267.746
         ]
        }
       ],
       "layout": {
        "scene": {
         "aspectmode": "data"
        },
        "template": {
         "data": {
          "bar": [
           {
            "error_x": {
             "color": "#2a3f5f"
            },
            "error_y": {
             "color": "#2a3f5f"
            },
            "marker": {
             "line": {
              "color": "#E5ECF6",
              "width": 0.5
             },
             "pattern": {
              "fillmode": "overlay",
              "size": 10,
              "solidity": 0.2
             }
            },
            "type": "bar"
           }
          ],
          "barpolar": [
           {
            "marker": {
             "line": {
              "color": "#E5ECF6",
              "width": 0.5
             },
             "pattern": {
              "fillmode": "overlay",
              "size": 10,
              "solidity": 0.2
             }
            },
            "type": "barpolar"
           }
          ],
          "carpet": [
           {
            "aaxis": {
             "endlinecolor": "#2a3f5f",
             "gridcolor": "white",
             "linecolor": "white",
             "minorgridcolor": "white",
             "startlinecolor": "#2a3f5f"
            },
            "baxis": {
             "endlinecolor": "#2a3f5f",
             "gridcolor": "white",
             "linecolor": "white",
             "minorgridcolor": "white",
             "startlinecolor": "#2a3f5f"
            },
            "type": "carpet"
           }
          ],
          "choropleth": [
           {
            "colorbar": {
             "outlinewidth": 0,
             "ticks": ""
            },
            "type": "choropleth"
           }
          ],
          "contour": [
           {
            "colorbar": {
             "outlinewidth": 0,
             "ticks": ""
            },
            "colorscale": [
             [
              0,
              "#0d0887"
             ],
             [
              0.1111111111111111,
              "#46039f"
             ],
             [
              0.2222222222222222,
              "#7201a8"
             ],
             [
              0.3333333333333333,
              "#9c179e"
             ],
             [
              0.4444444444444444,
              "#bd3786"
             ],
             [
              0.5555555555555556,
              "#d8576b"
             ],
             [
              0.6666666666666666,
              "#ed7953"
             ],
             [
              0.7777777777777778,
              "#fb9f3a"
             ],
             [
              0.8888888888888888,
              "#fdca26"
             ],
             [
              1,
              "#f0f921"
             ]
            ],
            "type": "contour"
           }
          ],
          "contourcarpet": [
           {
            "colorbar": {
             "outlinewidth": 0,
             "ticks": ""
            },
            "type": "contourcarpet"
           }
          ],
          "heatmap": [
           {
            "colorbar": {
             "outlinewidth": 0,
             "ticks": ""
            },
            "colorscale": [
             [
              0,
              "#0d0887"
             ],
             [
              0.1111111111111111,
              "#46039f"
             ],
             [
              0.2222222222222222,
              "#7201a8"
             ],
             [
              0.3333333333333333,
              "#9c179e"
             ],
             [
              0.4444444444444444,
              "#bd3786"
             ],
             [
              0.5555555555555556,
              "#d8576b"
             ],
             [
              0.6666666666666666,
              "#ed7953"
             ],
             [
              0.7777777777777778,
              "#fb9f3a"
             ],
             [
              0.8888888888888888,
              "#fdca26"
             ],
             [
              1,
              "#f0f921"
             ]
            ],
            "type": "heatmap"
           }
          ],
          "heatmapgl": [
           {
            "colorbar": {
             "outlinewidth": 0,
             "ticks": ""
            },
            "colorscale": [
             [
              0,
              "#0d0887"
             ],
             [
              0.1111111111111111,
              "#46039f"
             ],
             [
              0.2222222222222222,
              "#7201a8"
             ],
             [
              0.3333333333333333,
              "#9c179e"
             ],
             [
              0.4444444444444444,
              "#bd3786"
             ],
             [
              0.5555555555555556,
              "#d8576b"
             ],
             [
              0.6666666666666666,
              "#ed7953"
             ],
             [
              0.7777777777777778,
              "#fb9f3a"
             ],
             [
              0.8888888888888888,
              "#fdca26"
             ],
             [
              1,
              "#f0f921"
             ]
            ],
            "type": "heatmapgl"
           }
          ],
          "histogram": [
           {
            "marker": {
             "pattern": {
              "fillmode": "overlay",
              "size": 10,
              "solidity": 0.2
             }
            },
            "type": "histogram"
           }
          ],
          "histogram2d": [
           {
            "colorbar": {
             "outlinewidth": 0,
             "ticks": ""
            },
            "colorscale": [
             [
              0,
              "#0d0887"
             ],
             [
              0.1111111111111111,
              "#46039f"
             ],
             [
              0.2222222222222222,
              "#7201a8"
             ],
             [
              0.3333333333333333,
              "#9c179e"
             ],
             [
              0.4444444444444444,
              "#bd3786"
             ],
             [
              0.5555555555555556,
              "#d8576b"
             ],
             [
              0.6666666666666666,
              "#ed7953"
             ],
             [
              0.7777777777777778,
              "#fb9f3a"
             ],
             [
              0.8888888888888888,
              "#fdca26"
             ],
             [
              1,
              "#f0f921"
             ]
            ],
            "type": "histogram2d"
           }
          ],
          "histogram2dcontour": [
           {
            "colorbar": {
             "outlinewidth": 0,
             "ticks": ""
            },
            "colorscale": [
             [
              0,
              "#0d0887"
             ],
             [
              0.1111111111111111,
              "#46039f"
             ],
             [
              0.2222222222222222,
              "#7201a8"
             ],
             [
              0.3333333333333333,
              "#9c179e"
             ],
             [
              0.4444444444444444,
              "#bd3786"
             ],
             [
              0.5555555555555556,
              "#d8576b"
             ],
             [
              0.6666666666666666,
              "#ed7953"
             ],
             [
              0.7777777777777778,
              "#fb9f3a"
             ],
             [
              0.8888888888888888,
              "#fdca26"
             ],
             [
              1,
              "#f0f921"
             ]
            ],
            "type": "histogram2dcontour"
           }
          ],
          "mesh3d": [
           {
            "colorbar": {
             "outlinewidth": 0,
             "ticks": ""
            },
            "type": "mesh3d"
           }
          ],
          "parcoords": [
           {
            "line": {
             "colorbar": {
              "outlinewidth": 0,
              "ticks": ""
             }
            },
            "type": "parcoords"
           }
          ],
          "pie": [
           {
            "automargin": true,
            "type": "pie"
           }
          ],
          "scatter": [
           {
            "fillpattern": {
             "fillmode": "overlay",
             "size": 10,
             "solidity": 0.2
            },
            "type": "scatter"
           }
          ],
          "scatter3d": [
           {
            "line": {
             "colorbar": {
              "outlinewidth": 0,
              "ticks": ""
             }
            },
            "marker": {
             "colorbar": {
              "outlinewidth": 0,
              "ticks": ""
             }
            },
            "type": "scatter3d"
           }
          ],
          "scattercarpet": [
           {
            "marker": {
             "colorbar": {
              "outlinewidth": 0,
              "ticks": ""
             }
            },
            "type": "scattercarpet"
           }
          ],
          "scattergeo": [
           {
            "marker": {
             "colorbar": {
              "outlinewidth": 0,
              "ticks": ""
             }
            },
            "type": "scattergeo"
           }
          ],
          "scattergl": [
           {
            "marker": {
             "colorbar": {
              "outlinewidth": 0,
              "ticks": ""
             }
            },
            "type": "scattergl"
           }
          ],
          "scattermapbox": [
           {
            "marker": {
             "colorbar": {
              "outlinewidth": 0,
              "ticks": ""
             }
            },
            "type": "scattermapbox"
           }
          ],
          "scatterpolar": [
           {
            "marker": {
             "colorbar": {
              "outlinewidth": 0,
              "ticks": ""
             }
            },
            "type": "scatterpolar"
           }
          ],
          "scatterpolargl": [
           {
            "marker": {
             "colorbar": {
              "outlinewidth": 0,
              "ticks": ""
             }
            },
            "type": "scatterpolargl"
           }
          ],
          "scatterternary": [
           {
            "marker": {
             "colorbar": {
              "outlinewidth": 0,
              "ticks": ""
             }
            },
            "type": "scatterternary"
           }
          ],
          "surface": [
           {
            "colorbar": {
             "outlinewidth": 0,
             "ticks": ""
            },
            "colorscale": [
             [
              0,
              "#0d0887"
             ],
             [
              0.1111111111111111,
              "#46039f"
             ],
             [
              0.2222222222222222,
              "#7201a8"
             ],
             [
              0.3333333333333333,
              "#9c179e"
             ],
             [
              0.4444444444444444,
              "#bd3786"
             ],
             [
              0.5555555555555556,
              "#d8576b"
             ],
             [
              0.6666666666666666,
              "#ed7953"
             ],
             [
              0.7777777777777778,
              "#fb9f3a"
             ],
             [
              0.8888888888888888,
              "#fdca26"
             ],
             [
              1,
              "#f0f921"
             ]
            ],
            "type": "surface"
           }
          ],
          "table": [
           {
            "cells": {
             "fill": {
              "color": "#EBF0F8"
             },
             "line": {
              "color": "white"
             }
            },
            "header": {
             "fill": {
              "color": "#C8D4E3"
             },
             "line": {
              "color": "white"
             }
            },
            "type": "table"
           }
          ]
         },
         "layout": {
          "annotationdefaults": {
           "arrowcolor": "#2a3f5f",
           "arrowhead": 0,
           "arrowwidth": 1
          },
          "autotypenumbers": "strict",
          "coloraxis": {
           "colorbar": {
            "outlinewidth": 0,
            "ticks": ""
           }
          },
          "colorscale": {
           "diverging": [
            [
             0,
             "#8e0152"
            ],
            [
             0.1,
             "#c51b7d"
            ],
            [
             0.2,
             "#de77ae"
            ],
            [
             0.3,
             "#f1b6da"
            ],
            [
             0.4,
             "#fde0ef"
            ],
            [
             0.5,
             "#f7f7f7"
            ],
            [
             0.6,
             "#e6f5d0"
            ],
            [
             0.7,
             "#b8e186"
            ],
            [
             0.8,
             "#7fbc41"
            ],
            [
             0.9,
             "#4d9221"
            ],
            [
             1,
             "#276419"
            ]
           ],
           "sequential": [
            [
             0,
             "#0d0887"
            ],
            [
             0.1111111111111111,
             "#46039f"
            ],
            [
             0.2222222222222222,
             "#7201a8"
            ],
            [
             0.3333333333333333,
             "#9c179e"
            ],
            [
             0.4444444444444444,
             "#bd3786"
            ],
            [
             0.5555555555555556,
             "#d8576b"
            ],
            [
             0.6666666666666666,
             "#ed7953"
            ],
            [
             0.7777777777777778,
             "#fb9f3a"
            ],
            [
             0.8888888888888888,
             "#fdca26"
            ],
            [
             1,
             "#f0f921"
            ]
           ],
           "sequentialminus": [
            [
             0,
             "#0d0887"
            ],
            [
             0.1111111111111111,
             "#46039f"
            ],
            [
             0.2222222222222222,
             "#7201a8"
            ],
            [
             0.3333333333333333,
             "#9c179e"
            ],
            [
             0.4444444444444444,
             "#bd3786"
            ],
            [
             0.5555555555555556,
             "#d8576b"
            ],
            [
             0.6666666666666666,
             "#ed7953"
            ],
            [
             0.7777777777777778,
             "#fb9f3a"
            ],
            [
             0.8888888888888888,
             "#fdca26"
            ],
            [
             1,
             "#f0f921"
            ]
           ]
          },
          "colorway": [
           "#636efa",
           "#EF553B",
           "#00cc96",
           "#ab63fa",
           "#FFA15A",
           "#19d3f3",
           "#FF6692",
           "#B6E880",
           "#FF97FF",
           "#FECB52"
          ],
          "font": {
           "color": "#2a3f5f"
          },
          "geo": {
           "bgcolor": "white",
           "lakecolor": "white",
           "landcolor": "#E5ECF6",
           "showlakes": true,
           "showland": true,
           "subunitcolor": "white"
          },
          "hoverlabel": {
           "align": "left"
          },
          "hovermode": "closest",
          "mapbox": {
           "style": "light"
          },
          "paper_bgcolor": "white",
          "plot_bgcolor": "#E5ECF6",
          "polar": {
           "angularaxis": {
            "gridcolor": "white",
            "linecolor": "white",
            "ticks": ""
           },
           "bgcolor": "#E5ECF6",
           "radialaxis": {
            "gridcolor": "white",
            "linecolor": "white",
            "ticks": ""
           }
          },
          "scene": {
           "xaxis": {
            "backgroundcolor": "#E5ECF6",
            "gridcolor": "white",
            "gridwidth": 2,
            "linecolor": "white",
            "showbackground": true,
            "ticks": "",
            "zerolinecolor": "white"
           },
           "yaxis": {
            "backgroundcolor": "#E5ECF6",
            "gridcolor": "white",
            "gridwidth": 2,
            "linecolor": "white",
            "showbackground": true,
            "ticks": "",
            "zerolinecolor": "white"
           },
           "zaxis": {
            "backgroundcolor": "#E5ECF6",
            "gridcolor": "white",
            "gridwidth": 2,
            "linecolor": "white",
            "showbackground": true,
            "ticks": "",
            "zerolinecolor": "white"
           }
          },
          "shapedefaults": {
           "line": {
            "color": "#2a3f5f"
           }
          },
          "ternary": {
           "aaxis": {
            "gridcolor": "white",
            "linecolor": "white",
            "ticks": ""
           },
           "baxis": {
            "gridcolor": "white",
            "linecolor": "white",
            "ticks": ""
           },
           "bgcolor": "#E5ECF6",
           "caxis": {
            "gridcolor": "white",
            "linecolor": "white",
            "ticks": ""
           }
          },
          "title": {
           "x": 0.05
          },
          "xaxis": {
           "automargin": true,
           "gridcolor": "white",
           "linecolor": "white",
           "ticks": "",
           "title": {
            "standoff": 15
           },
           "zerolinecolor": "white",
           "zerolinewidth": 2
          },
          "yaxis": {
           "automargin": true,
           "gridcolor": "white",
           "linecolor": "white",
           "ticks": "",
           "title": {
            "standoff": 15
           },
           "zerolinecolor": "white",
           "zerolinewidth": 2
          }
         }
        },
        "title": {
         "text": "Selected beads for calibration"
        }
       }
      }
     },
     "metadata": {},
     "output_type": "display_data"
    }
   ],
   "source": [
    "set_0 = ['A_1_6', 'A_4_6', 'A_1_2', 'A_4_2', 'B_1_5', 'B_5_5', 'B_1_1', 'B_5_1']\n",
    "set_1 = ['B_1_1', 'B_2_2', 'B_4_2', 'B_5_3', 'B_1_4', 'B_2_5', 'B_4_3', 'B_5_5']\n",
    "set_2 = ['A_1_4', 'A_2_4', 'A_1_5', 'A_2_5', 'B_1_3', 'B_2_3', 'B_1_4', 'B_2_4']\n",
    "set_3 = ['A_1_4', 'A_3_4', 'A_1_5', 'A_3_5', 'B_1_3', 'B_3_3', 'B_1_4', 'B_3_4']\n",
    "\n",
    "spinetools.render.plot_selected_beads(beads_data, set_0) # Large volume\n",
    "spinetools.render.plot_selected_beads(beads_data, set_1) # Same plate\n",
    "spinetools.render.plot_selected_beads(beads_data, set_2) # Small volume\n",
    "spinetools.render.plot_selected_beads(beads_data, set_3) # Medium volume\n",
    "\n",
    "large_volume, same_plate, small_volume, medium_volume = set_0, set_1, set_2, set_3"
   ]
  },
  {
   "cell_type": "markdown",
   "metadata": {},
   "source": [
    "TODO : same thing as before, but now you have to select the provided beads ! Look at the function `sample_n_beads` from Q2.1 if you need some help on how to do this."
   ]
  },
  {
   "cell_type": "code",
   "execution_count": 127,
   "metadata": {},
   "outputs": [
    {
     "data": {
      "application/vnd.plotly.v1+json": {
       "config": {
        "plotlyServerURL": "https://plot.ly"
       },
       "data": [
        {
         "name": "RMS x",
         "text": [
          "1.0992",
          "0.1992",
          "0.1120",
          "349.3595"
         ],
         "textposition": "auto",
         "type": "bar",
         "x": [
          "Small volume",
          "Medium volume",
          "Large volume"
         ],
         "y": [
          1.0992106199264526,
          0.19915084540843964,
          0.11199341714382172,
          349.3594665527344
         ]
        },
        {
         "name": "RMS y",
         "text": [
          "0.5992",
          "0.0441",
          "0.0515",
          "51.4736"
         ],
         "textposition": "auto",
         "type": "bar",
         "x": [
          "Small volume",
          "Medium volume",
          "Large volume"
         ],
         "y": [
          0.5992422103881836,
          0.04414329677820206,
          0.05147755146026611,
          51.47358703613281
         ]
        },
        {
         "name": "RMS z",
         "text": [
          "2.4003",
          "0.3073",
          "0.0791",
          "106.5893"
         ],
         "textposition": "auto",
         "type": "bar",
         "x": [
          "Small volume",
          "Medium volume",
          "Large volume"
         ],
         "y": [
          2.4002580642700195,
          0.30727505683898926,
          0.07906825095415115,
          106.58932495117188
         ]
        },
        {
         "name": "RMS 3d",
         "text": [
          "2.7071",
          "0.3688",
          "0.1464",
          "368.8670"
         ],
         "textposition": "auto",
         "type": "bar",
         "x": [
          "Small volume",
          "Medium volume",
          "Large volume"
         ],
         "y": [
          2.7071375846862793,
          0.3688192665576935,
          0.1464385688304901,
          368.86700439453125
         ]
        }
       ],
       "layout": {
        "barmode": "group",
        "legend": {
         "title": {
          "text": "Axes"
         }
        },
        "template": {
         "data": {
          "bar": [
           {
            "error_x": {
             "color": "#2a3f5f"
            },
            "error_y": {
             "color": "#2a3f5f"
            },
            "marker": {
             "line": {
              "color": "white",
              "width": 0.5
             },
             "pattern": {
              "fillmode": "overlay",
              "size": 10,
              "solidity": 0.2
             }
            },
            "type": "bar"
           }
          ],
          "barpolar": [
           {
            "marker": {
             "line": {
              "color": "white",
              "width": 0.5
             },
             "pattern": {
              "fillmode": "overlay",
              "size": 10,
              "solidity": 0.2
             }
            },
            "type": "barpolar"
           }
          ],
          "carpet": [
           {
            "aaxis": {
             "endlinecolor": "#2a3f5f",
             "gridcolor": "#C8D4E3",
             "linecolor": "#C8D4E3",
             "minorgridcolor": "#C8D4E3",
             "startlinecolor": "#2a3f5f"
            },
            "baxis": {
             "endlinecolor": "#2a3f5f",
             "gridcolor": "#C8D4E3",
             "linecolor": "#C8D4E3",
             "minorgridcolor": "#C8D4E3",
             "startlinecolor": "#2a3f5f"
            },
            "type": "carpet"
           }
          ],
          "choropleth": [
           {
            "colorbar": {
             "outlinewidth": 0,
             "ticks": ""
            },
            "type": "choropleth"
           }
          ],
          "contour": [
           {
            "colorbar": {
             "outlinewidth": 0,
             "ticks": ""
            },
            "colorscale": [
             [
              0,
              "#0d0887"
             ],
             [
              0.1111111111111111,
              "#46039f"
             ],
             [
              0.2222222222222222,
              "#7201a8"
             ],
             [
              0.3333333333333333,
              "#9c179e"
             ],
             [
              0.4444444444444444,
              "#bd3786"
             ],
             [
              0.5555555555555556,
              "#d8576b"
             ],
             [
              0.6666666666666666,
              "#ed7953"
             ],
             [
              0.7777777777777778,
              "#fb9f3a"
             ],
             [
              0.8888888888888888,
              "#fdca26"
             ],
             [
              1,
              "#f0f921"
             ]
            ],
            "type": "contour"
           }
          ],
          "contourcarpet": [
           {
            "colorbar": {
             "outlinewidth": 0,
             "ticks": ""
            },
            "type": "contourcarpet"
           }
          ],
          "heatmap": [
           {
            "colorbar": {
             "outlinewidth": 0,
             "ticks": ""
            },
            "colorscale": [
             [
              0,
              "#0d0887"
             ],
             [
              0.1111111111111111,
              "#46039f"
             ],
             [
              0.2222222222222222,
              "#7201a8"
             ],
             [
              0.3333333333333333,
              "#9c179e"
             ],
             [
              0.4444444444444444,
              "#bd3786"
             ],
             [
              0.5555555555555556,
              "#d8576b"
             ],
             [
              0.6666666666666666,
              "#ed7953"
             ],
             [
              0.7777777777777778,
              "#fb9f3a"
             ],
             [
              0.8888888888888888,
              "#fdca26"
             ],
             [
              1,
              "#f0f921"
             ]
            ],
            "type": "heatmap"
           }
          ],
          "heatmapgl": [
           {
            "colorbar": {
             "outlinewidth": 0,
             "ticks": ""
            },
            "colorscale": [
             [
              0,
              "#0d0887"
             ],
             [
              0.1111111111111111,
              "#46039f"
             ],
             [
              0.2222222222222222,
              "#7201a8"
             ],
             [
              0.3333333333333333,
              "#9c179e"
             ],
             [
              0.4444444444444444,
              "#bd3786"
             ],
             [
              0.5555555555555556,
              "#d8576b"
             ],
             [
              0.6666666666666666,
              "#ed7953"
             ],
             [
              0.7777777777777778,
              "#fb9f3a"
             ],
             [
              0.8888888888888888,
              "#fdca26"
             ],
             [
              1,
              "#f0f921"
             ]
            ],
            "type": "heatmapgl"
           }
          ],
          "histogram": [
           {
            "marker": {
             "pattern": {
              "fillmode": "overlay",
              "size": 10,
              "solidity": 0.2
             }
            },
            "type": "histogram"
           }
          ],
          "histogram2d": [
           {
            "colorbar": {
             "outlinewidth": 0,
             "ticks": ""
            },
            "colorscale": [
             [
              0,
              "#0d0887"
             ],
             [
              0.1111111111111111,
              "#46039f"
             ],
             [
              0.2222222222222222,
              "#7201a8"
             ],
             [
              0.3333333333333333,
              "#9c179e"
             ],
             [
              0.4444444444444444,
              "#bd3786"
             ],
             [
              0.5555555555555556,
              "#d8576b"
             ],
             [
              0.6666666666666666,
              "#ed7953"
             ],
             [
              0.7777777777777778,
              "#fb9f3a"
             ],
             [
              0.8888888888888888,
              "#fdca26"
             ],
             [
              1,
              "#f0f921"
             ]
            ],
            "type": "histogram2d"
           }
          ],
          "histogram2dcontour": [
           {
            "colorbar": {
             "outlinewidth": 0,
             "ticks": ""
            },
            "colorscale": [
             [
              0,
              "#0d0887"
             ],
             [
              0.1111111111111111,
              "#46039f"
             ],
             [
              0.2222222222222222,
              "#7201a8"
             ],
             [
              0.3333333333333333,
              "#9c179e"
             ],
             [
              0.4444444444444444,
              "#bd3786"
             ],
             [
              0.5555555555555556,
              "#d8576b"
             ],
             [
              0.6666666666666666,
              "#ed7953"
             ],
             [
              0.7777777777777778,
              "#fb9f3a"
             ],
             [
              0.8888888888888888,
              "#fdca26"
             ],
             [
              1,
              "#f0f921"
             ]
            ],
            "type": "histogram2dcontour"
           }
          ],
          "mesh3d": [
           {
            "colorbar": {
             "outlinewidth": 0,
             "ticks": ""
            },
            "type": "mesh3d"
           }
          ],
          "parcoords": [
           {
            "line": {
             "colorbar": {
              "outlinewidth": 0,
              "ticks": ""
             }
            },
            "type": "parcoords"
           }
          ],
          "pie": [
           {
            "automargin": true,
            "type": "pie"
           }
          ],
          "scatter": [
           {
            "fillpattern": {
             "fillmode": "overlay",
             "size": 10,
             "solidity": 0.2
            },
            "type": "scatter"
           }
          ],
          "scatter3d": [
           {
            "line": {
             "colorbar": {
              "outlinewidth": 0,
              "ticks": ""
             }
            },
            "marker": {
             "colorbar": {
              "outlinewidth": 0,
              "ticks": ""
             }
            },
            "type": "scatter3d"
           }
          ],
          "scattercarpet": [
           {
            "marker": {
             "colorbar": {
              "outlinewidth": 0,
              "ticks": ""
             }
            },
            "type": "scattercarpet"
           }
          ],
          "scattergeo": [
           {
            "marker": {
             "colorbar": {
              "outlinewidth": 0,
              "ticks": ""
             }
            },
            "type": "scattergeo"
           }
          ],
          "scattergl": [
           {
            "marker": {
             "colorbar": {
              "outlinewidth": 0,
              "ticks": ""
             }
            },
            "type": "scattergl"
           }
          ],
          "scattermapbox": [
           {
            "marker": {
             "colorbar": {
              "outlinewidth": 0,
              "ticks": ""
             }
            },
            "type": "scattermapbox"
           }
          ],
          "scatterpolar": [
           {
            "marker": {
             "colorbar": {
              "outlinewidth": 0,
              "ticks": ""
             }
            },
            "type": "scatterpolar"
           }
          ],
          "scatterpolargl": [
           {
            "marker": {
             "colorbar": {
              "outlinewidth": 0,
              "ticks": ""
             }
            },
            "type": "scatterpolargl"
           }
          ],
          "scatterternary": [
           {
            "marker": {
             "colorbar": {
              "outlinewidth": 0,
              "ticks": ""
             }
            },
            "type": "scatterternary"
           }
          ],
          "surface": [
           {
            "colorbar": {
             "outlinewidth": 0,
             "ticks": ""
            },
            "colorscale": [
             [
              0,
              "#0d0887"
             ],
             [
              0.1111111111111111,
              "#46039f"
             ],
             [
              0.2222222222222222,
              "#7201a8"
             ],
             [
              0.3333333333333333,
              "#9c179e"
             ],
             [
              0.4444444444444444,
              "#bd3786"
             ],
             [
              0.5555555555555556,
              "#d8576b"
             ],
             [
              0.6666666666666666,
              "#ed7953"
             ],
             [
              0.7777777777777778,
              "#fb9f3a"
             ],
             [
              0.8888888888888888,
              "#fdca26"
             ],
             [
              1,
              "#f0f921"
             ]
            ],
            "type": "surface"
           }
          ],
          "table": [
           {
            "cells": {
             "fill": {
              "color": "#EBF0F8"
             },
             "line": {
              "color": "white"
             }
            },
            "header": {
             "fill": {
              "color": "#C8D4E3"
             },
             "line": {
              "color": "white"
             }
            },
            "type": "table"
           }
          ]
         },
         "layout": {
          "annotationdefaults": {
           "arrowcolor": "#2a3f5f",
           "arrowhead": 0,
           "arrowwidth": 1
          },
          "autotypenumbers": "strict",
          "coloraxis": {
           "colorbar": {
            "outlinewidth": 0,
            "ticks": ""
           }
          },
          "colorscale": {
           "diverging": [
            [
             0,
             "#8e0152"
            ],
            [
             0.1,
             "#c51b7d"
            ],
            [
             0.2,
             "#de77ae"
            ],
            [
             0.3,
             "#f1b6da"
            ],
            [
             0.4,
             "#fde0ef"
            ],
            [
             0.5,
             "#f7f7f7"
            ],
            [
             0.6,
             "#e6f5d0"
            ],
            [
             0.7,
             "#b8e186"
            ],
            [
             0.8,
             "#7fbc41"
            ],
            [
             0.9,
             "#4d9221"
            ],
            [
             1,
             "#276419"
            ]
           ],
           "sequential": [
            [
             0,
             "#0d0887"
            ],
            [
             0.1111111111111111,
             "#46039f"
            ],
            [
             0.2222222222222222,
             "#7201a8"
            ],
            [
             0.3333333333333333,
             "#9c179e"
            ],
            [
             0.4444444444444444,
             "#bd3786"
            ],
            [
             0.5555555555555556,
             "#d8576b"
            ],
            [
             0.6666666666666666,
             "#ed7953"
            ],
            [
             0.7777777777777778,
             "#fb9f3a"
            ],
            [
             0.8888888888888888,
             "#fdca26"
            ],
            [
             1,
             "#f0f921"
            ]
           ],
           "sequentialminus": [
            [
             0,
             "#0d0887"
            ],
            [
             0.1111111111111111,
             "#46039f"
            ],
            [
             0.2222222222222222,
             "#7201a8"
            ],
            [
             0.3333333333333333,
             "#9c179e"
            ],
            [
             0.4444444444444444,
             "#bd3786"
            ],
            [
             0.5555555555555556,
             "#d8576b"
            ],
            [
             0.6666666666666666,
             "#ed7953"
            ],
            [
             0.7777777777777778,
             "#fb9f3a"
            ],
            [
             0.8888888888888888,
             "#fdca26"
            ],
            [
             1,
             "#f0f921"
            ]
           ]
          },
          "colorway": [
           "#636efa",
           "#EF553B",
           "#00cc96",
           "#ab63fa",
           "#FFA15A",
           "#19d3f3",
           "#FF6692",
           "#B6E880",
           "#FF97FF",
           "#FECB52"
          ],
          "font": {
           "color": "#2a3f5f"
          },
          "geo": {
           "bgcolor": "white",
           "lakecolor": "white",
           "landcolor": "white",
           "showlakes": true,
           "showland": true,
           "subunitcolor": "#C8D4E3"
          },
          "hoverlabel": {
           "align": "left"
          },
          "hovermode": "closest",
          "mapbox": {
           "style": "light"
          },
          "paper_bgcolor": "white",
          "plot_bgcolor": "white",
          "polar": {
           "angularaxis": {
            "gridcolor": "#EBF0F8",
            "linecolor": "#EBF0F8",
            "ticks": ""
           },
           "bgcolor": "white",
           "radialaxis": {
            "gridcolor": "#EBF0F8",
            "linecolor": "#EBF0F8",
            "ticks": ""
           }
          },
          "scene": {
           "xaxis": {
            "backgroundcolor": "white",
            "gridcolor": "#DFE8F3",
            "gridwidth": 2,
            "linecolor": "#EBF0F8",
            "showbackground": true,
            "ticks": "",
            "zerolinecolor": "#EBF0F8"
           },
           "yaxis": {
            "backgroundcolor": "white",
            "gridcolor": "#DFE8F3",
            "gridwidth": 2,
            "linecolor": "#EBF0F8",
            "showbackground": true,
            "ticks": "",
            "zerolinecolor": "#EBF0F8"
           },
           "zaxis": {
            "backgroundcolor": "white",
            "gridcolor": "#DFE8F3",
            "gridwidth": 2,
            "linecolor": "#EBF0F8",
            "showbackground": true,
            "ticks": "",
            "zerolinecolor": "#EBF0F8"
           }
          },
          "shapedefaults": {
           "line": {
            "color": "#2a3f5f"
           }
          },
          "ternary": {
           "aaxis": {
            "gridcolor": "#DFE8F3",
            "linecolor": "#A2B1C6",
            "ticks": ""
           },
           "baxis": {
            "gridcolor": "#DFE8F3",
            "linecolor": "#A2B1C6",
            "ticks": ""
           },
           "bgcolor": "white",
           "caxis": {
            "gridcolor": "#DFE8F3",
            "linecolor": "#A2B1C6",
            "ticks": ""
           }
          },
          "title": {
           "x": 0.05
          },
          "xaxis": {
           "automargin": true,
           "gridcolor": "#EBF0F8",
           "linecolor": "#EBF0F8",
           "ticks": "",
           "title": {
            "standoff": 15
           },
           "zerolinecolor": "#EBF0F8",
           "zerolinewidth": 2
          },
          "yaxis": {
           "automargin": true,
           "gridcolor": "#EBF0F8",
           "linecolor": "#EBF0F8",
           "ticks": "",
           "title": {
            "standoff": 15
           },
           "zerolinecolor": "#EBF0F8",
           "zerolinewidth": 2
          }
         }
        },
        "title": {
         "text": "Calibration Errors (RMS) for Each Subset"
        },
        "xaxis": {
         "title": {
          "text": "Subsets"
         }
        },
        "yaxis": {
         "title": {
          "text": "RMS Error"
         }
        }
       }
      }
     },
     "metadata": {},
     "output_type": "display_data"
    },
    {
     "name": "stdout",
     "output_type": "stream",
     "text": [
      "Calibration beads on the same plate:\n",
      "RMS x : 349.3594665527344\n",
      "RMS y : 51.47358703613281\n",
      "RMS z : 106.58932495117188\n",
      "RMS 3d : 368.86700439453125\n"
     ]
    }
   ],
   "source": [
    "# Re-order sets from small volume to large volume + same plate\n",
    "sets = [small_volume, medium_volume, large_volume, same_plate]\n",
    "set_names = ['Small volume', 'Medium volume', 'Large volume', 'Same plate']\n",
    "\n",
    "for i, set_ in enumerate(sets): \n",
    "    # Add counterparts to subsets\n",
    "    sets[i] += [bead.replace('A', 'C').replace('B', 'D') for bead in set_]\n",
    "\n",
    "    beads_set = deepcopy(beads_data)\n",
    "    \n",
    "    beads_set['2d'] = beads_set['2d'][beads_set['2d']['bead'].isin(sets[i])].sort_values(by='bead', ignore_index=True)\n",
    "    beads_set['3d'] = beads_set['3d'][beads_set['3d']['bead'].isin(sets[i])].sort_values(by='bead', ignore_index=True)\n",
    "    \n",
    "    # Assign the modified beads_set back to the original list\n",
    "    sets[i] = beads_set    \n",
    "\n",
    "rms_measurements = {\n",
    "        'x' : [],\n",
    "        'y' : [],\n",
    "        'z' : [],\n",
    "        '3d' : [],\n",
    "    }\n",
    "\n",
    "for i, beads_subset in enumerate(sets):\n",
    "    A_view_0 = get_a('Beads2D_'+view_0, beads_subset)\n",
    "    l_view_0 = spinetools.solver.dlt(A_view_0)\n",
    "    A_view_1 = get_a('Beads2D_'+view_1, beads_subset)\n",
    "    l_view_1 = spinetools.solver.dlt(A_view_1)\n",
    "\n",
    "    computed_points_3d = []\n",
    "\n",
    "    for _, v_name in enumerate(spine.vertebrae):\n",
    "        # TODO : for each vertebra, calculate the location of each anatomical landmark and add its x,y,z coordinates to vert_x, vert_y, vert_z. Each vertebra will then be added to the 3D plot and plotted in the end.\n",
    "        vert = spine.get(v_name).data # Returns the vertebra data\n",
    "         # for each anatomical_landmark in vertebra_points\n",
    "        for j, row in vert.iterrows():\n",
    "            # 2D PA0\n",
    "            u0, v0 = row['x_Vertebrae_PA0'], row['y_Vertebrae_PA0']\n",
    "            # 2D LAT\n",
    "            u1, v1 = row['x_Vertebrae_LAT'], row['y_Vertebrae_LAT']\n",
    "            x_point, y_point, z_point = calculate_3d_point(u0, v0, u1, v1, l_view_0, l_view_1)\n",
    "            computed_points_3d.append([x_point, y_point, z_point])\n",
    "\n",
    "    computed_points_3d = np.array(computed_points_3d)\n",
    "\n",
    "    rms_measurements['x'].append(rms(SPINE_3D_POINTS[:,0], computed_points_3d[:,0]))\n",
    "    rms_measurements['y'].append(rms(SPINE_3D_POINTS[:,1], computed_points_3d[:,1]))\n",
    "    rms_measurements['z'].append(rms(SPINE_3D_POINTS[:,2], computed_points_3d[:,2]))\n",
    "    rms_measurements['3d'].append(rms(SPINE_3D_POINTS, computed_points_3d))\n",
    "\n",
    "# Plotting\n",
    "fig = go.Figure()\n",
    "\n",
    "for axis in ['x', 'y', 'z', '3d']:\n",
    "    fig.add_trace(go.Bar(\n",
    "        name=f'RMS {axis}',\n",
    "        x=set_names[:3],  # Subset names\n",
    "        y=rms_measurements[axis],  # RMS values for the current axis\n",
    "        text=[f'{v:.4f}' for v in rms_measurements[axis]],  # Add text labels\n",
    "        textposition='auto'\n",
    "    ))\n",
    "\n",
    "# Update the layout of the plot\n",
    "fig.update_layout(\n",
    "    title=\"Calibration Errors (RMS) for Each Subset\",\n",
    "    barmode='group',  # Group bars for each category\n",
    "    xaxis_title=\"Subsets\",\n",
    "    yaxis_title=\"RMS Error\",\n",
    "    legend_title=\"Axes\",\n",
    "    template=\"plotly_white\"\n",
    ")\n",
    "\n",
    "# Show the plot\n",
    "fig.show()\n",
    "\n",
    "\n",
    "# RMS for calibration beads on the same plate\n",
    "print(f'Calibration beads on the same plate:')\n",
    "for axis, values in rms_measurements.items():\n",
    "    print(f'RMS {axis} : {values[3]}')"
   ]
  },
  {
   "cell_type": "markdown",
   "metadata": {},
   "source": [
    "# Question 2.3"
   ]
  },
  {
   "cell_type": "markdown",
   "metadata": {},
   "source": [
    "Using the **small** calibration volume from previous question, plot reconstruction error with respect to the center of gravity of the calibration volume !"
   ]
  },
  {
   "cell_type": "code",
   "execution_count": 128,
   "metadata": {},
   "outputs": [
    {
     "name": "stdout",
     "output_type": "stream",
     "text": [
      "Center Of Gravity small volume subset: [-256.91019375, 45.61763124999999, -20.857125000000003]\n"
     ]
    }
   ],
   "source": [
    "small_volume_subset = sets[0]\n",
    "\n",
    "def calculate_COG(beads_set:dict):\n",
    "    cog_x = beads_set['3d']['x_3d'].mean()\n",
    "    cog_y = beads_set['3d']['y_3d'].mean()\n",
    "    cog_z = beads_set['3d']['z_3d'].mean()\n",
    "    return [cog_x, cog_y, cog_z]\n",
    "\n",
    "def distance_between(p1, p2):\n",
    "    return np.sqrt( (p1[0] - p2[0])**2 + (p1[1] - p2[1])**2 + (p1[2] - p2[2])**2 )\n",
    "\n",
    "COG = calculate_COG(small_volume_subset)\n",
    "print(f'Center Of Gravity small volume subset: {COG}')\n",
    "\n",
    "errors = {\n",
    "    'x' : [],\n",
    "    'y' : [],\n",
    "    'z' : [],\n",
    "    '3d' : [],\n",
    "    'distance_to_cog' : []\n",
    "}\n",
    "\n",
    "A_view_0 = get_a('Beads2D_'+view_0, small_volume_subset)\n",
    "l_view_0 = spinetools.solver.dlt(A_view_0)\n",
    "A_view_1 = get_a('Beads2D_'+view_1, small_volume_subset)\n",
    "l_view_1 = spinetools.solver.dlt(A_view_1)\n",
    "\n",
    "computed_points_3d = []\n",
    "\n",
    "for i, v_name in enumerate(spine.vertebrae):\n",
    "    # TODO : for each vertebra, calculate the location of each anatomical landmark and add its x,y,z coordinates to vert_x, vert_y, vert_z. Each vertebra will then be added to the 3D plot and plotted in the end.\n",
    "    vert = spine.get(v_name).data # Returns the vertebra data\n",
    "        # for each anatomical_landmark in vertebra_points\n",
    "    for j, row in vert.iterrows():\n",
    "        # 2D PA0\n",
    "        u0, v0 = row['x_Vertebrae_PA0'], row['y_Vertebrae_PA0']\n",
    "        # 2D LAT\n",
    "        u1, v1 = row['x_Vertebrae_LAT'], row['y_Vertebrae_LAT']\n",
    "        x_point, y_point, z_point = calculate_3d_point(u0, v0, u1, v1, l_view_0, l_view_1)\n",
    "        computed_points_3d.append([x_point, y_point, z_point])\n",
    "\n",
    "        errors['x'].append(abs(SPINE_3D_POINTS[i][0] - x_point))\n",
    "        errors['y'].append(abs(SPINE_3D_POINTS[i][1] - y_point))\n",
    "        errors['z'].append(abs(SPINE_3D_POINTS[i][2] - z_point))\n",
    "        errors['3d'].append(distance_between(SPINE_3D_POINTS[i], [x_point, y_point, z_point]))\n",
    "        errors['distance_to_cog'].append(distance_between(SPINE_3D_POINTS[i], COG))\n",
    "\n",
    "computed_points_3d = np.array(computed_points_3d)"
   ]
  },
  {
   "cell_type": "code",
   "execution_count": 129,
   "metadata": {},
   "outputs": [
    {
     "data": {
      "application/vnd.plotly.v1+json": {
       "config": {
        "plotlyServerURL": "https://plot.ly"
       },
       "data": [
        {
         "marker": {
          "color": "blue",
          "size": 6
         },
         "mode": "markers",
         "name": "X-axis Error",
         "type": "scatter",
         "x": [
          304.0188728104266,
          304.0188728104266,
          304.0188728104266,
          304.0188728104266,
          304.0188728104266,
          304.0188728104266,
          304.18932773554945,
          304.18932773554945,
          304.18932773554945,
          304.18932773554945,
          304.18932773554945,
          304.18932773554945,
          308.65850173224726,
          308.65850173224726,
          308.65850173224726,
          308.65850173224726,
          308.65850173224726,
          308.65850173224726,
          308.65429760065945,
          308.65429760065945,
          308.65429760065945,
          308.65429760065945,
          308.65429760065945,
          308.65429760065945,
          296.7148256260722,
          296.7148256260722,
          296.7148256260722,
          296.7148256260722,
          296.7148256260722,
          296.7148256260722,
          309.61656182886856,
          309.61656182886856,
          309.61656182886856,
          309.61656182886856,
          309.61656182886856,
          309.61656182886856,
          287.6390761809675,
          287.6390761809675,
          287.6390761809675,
          287.6390761809675,
          287.6390761809675,
          287.6390761809675,
          288.69560573830677,
          288.69560573830677,
          288.69560573830677,
          288.69560573830677,
          288.69560573830677,
          288.69560573830677,
          293.025533023789,
          293.025533023789,
          293.025533023789,
          293.025533023789,
          293.025533023789,
          293.025533023789,
          293.81450789239466,
          293.81450789239466,
          293.81450789239466,
          293.81450789239466,
          293.81450789239466,
          293.81450789239466,
          279.755062990055,
          279.755062990055,
          279.755062990055,
          279.755062990055,
          279.755062990055,
          279.755062990055,
          292.61510108307186,
          292.61510108307186,
          292.61510108307186,
          292.61510108307186,
          292.61510108307186,
          292.61510108307186,
          273.17836156017586,
          273.17836156017586,
          273.17836156017586,
          273.17836156017586,
          273.17836156017586,
          273.17836156017586,
          271.414938672515,
          271.414938672515,
          271.414938672515,
          271.414938672515,
          271.414938672515,
          271.414938672515,
          278.99585651923644,
          278.99585651923644,
          278.99585651923644,
          278.99585651923644,
          278.99585651923644,
          278.99585651923644,
          278.2197132961803,
          278.2197132961803,
          278.2197132961803,
          278.2197132961803,
          278.2197132961803,
          278.2197132961803,
          261.3580839172192,
          261.3580839172192,
          261.3580839172192,
          261.3580839172192,
          261.3580839172192,
          261.3580839172192
         ],
         "y": [
          1.6455078125,
          2.258331298828125,
          0.000823974609375,
          3.84234619140625,
          11.269256591796875,
          13.216064453125,
          10.21697998046875,
          6.474822998046875,
          8.75927734375,
          4.62384033203125,
          2.439453125,
          5.339630126953125,
          12.288818359375,
          10.184906005859375,
          11.086822509765625,
          8.909027099609375,
          0.2493896484375,
          2.80047607421875,
          18.1240234375,
          18.704864501953125,
          16.987457275390625,
          17.30169677734375,
          7.007080078125,
          4.24395751953125,
          29.550323486328125,
          30.337188720703125,
          27.871490478515625,
          29.106903076171875,
          17.397735595703125,
          14.999755859375,
          36.38580322265625,
          35.475616455078125,
          35.00555419921875,
          34.124298095703125,
          21.607208251953125,
          19.570770263671875,
          20.697052001953125,
          18.72869873046875,
          19.272216796875,
          17.7066650390625,
          3.8914794921875,
          2.798583984375,
          26.047943115234375,
          22.35150146484375,
          26.763763427734375,
          22.406463623046875,
          7.0174560546875,
          7.791839599609375,
          22.887969970703125,
          17.378814697265625,
          24.130401611328125,
          18.18267822265625,
          1.554473876953125,
          3.683502197265625,
          22.72625732421875,
          16.578460693359375,
          24.949249267578125,
          18.337249755859375,
          0.4232177734375,
          4.489013671875,
          21.810089111328125,
          19.173065185546875,
          25.243865966796875,
          21.907958984375,
          0.00775146484375,
          5.818389892578125,
          11.84722900390625,
          14.44305419921875,
          15.674407958984375,
          17.22894287109375,
          6.406097412109375,
          1.104217529296875,
          15.65283203125,
          12.655975341796875,
          12.787322998046875,
          9.25225830078125,
          34.530670166015625,
          27.51220703125,
          21.80889892578125,
          17.63726806640625,
          19.153656005859375,
          15.342315673828125,
          40.49127197265625,
          34.27203369140625,
          27.9285888671875,
          26.843780517578125,
          26.7808837890625,
          24.990142822265625,
          46.443359375,
          43.4310302734375,
          27.7078857421875,
          27.501068115234375,
          27.014190673828125,
          27.082489013671875,
          45.231170654296875,
          44.988494873046875,
          14.58831787109375,
          14.777069091796875,
          17.55902099609375,
          17.806060791015625,
          27.440643310546875,
          35.041351318359375
         ]
        },
        {
         "marker": {
          "color": "green",
          "size": 6
         },
         "mode": "markers",
         "name": "Y-axis Error",
         "type": "scatter",
         "x": [
          304.0188728104266,
          304.0188728104266,
          304.0188728104266,
          304.0188728104266,
          304.0188728104266,
          304.0188728104266,
          304.18932773554945,
          304.18932773554945,
          304.18932773554945,
          304.18932773554945,
          304.18932773554945,
          304.18932773554945,
          308.65850173224726,
          308.65850173224726,
          308.65850173224726,
          308.65850173224726,
          308.65850173224726,
          308.65850173224726,
          308.65429760065945,
          308.65429760065945,
          308.65429760065945,
          308.65429760065945,
          308.65429760065945,
          308.65429760065945,
          296.7148256260722,
          296.7148256260722,
          296.7148256260722,
          296.7148256260722,
          296.7148256260722,
          296.7148256260722,
          309.61656182886856,
          309.61656182886856,
          309.61656182886856,
          309.61656182886856,
          309.61656182886856,
          309.61656182886856,
          287.6390761809675,
          287.6390761809675,
          287.6390761809675,
          287.6390761809675,
          287.6390761809675,
          287.6390761809675,
          288.69560573830677,
          288.69560573830677,
          288.69560573830677,
          288.69560573830677,
          288.69560573830677,
          288.69560573830677,
          293.025533023789,
          293.025533023789,
          293.025533023789,
          293.025533023789,
          293.025533023789,
          293.025533023789,
          293.81450789239466,
          293.81450789239466,
          293.81450789239466,
          293.81450789239466,
          293.81450789239466,
          293.81450789239466,
          279.755062990055,
          279.755062990055,
          279.755062990055,
          279.755062990055,
          279.755062990055,
          279.755062990055,
          292.61510108307186,
          292.61510108307186,
          292.61510108307186,
          292.61510108307186,
          292.61510108307186,
          292.61510108307186,
          273.17836156017586,
          273.17836156017586,
          273.17836156017586,
          273.17836156017586,
          273.17836156017586,
          273.17836156017586,
          271.414938672515,
          271.414938672515,
          271.414938672515,
          271.414938672515,
          271.414938672515,
          271.414938672515,
          278.99585651923644,
          278.99585651923644,
          278.99585651923644,
          278.99585651923644,
          278.99585651923644,
          278.99585651923644,
          278.2197132961803,
          278.2197132961803,
          278.2197132961803,
          278.2197132961803,
          278.2197132961803,
          278.2197132961803,
          261.3580839172192,
          261.3580839172192,
          261.3580839172192,
          261.3580839172192,
          261.3580839172192,
          261.3580839172192
         ],
         "y": [
          1.12042236328125,
          22.016437530517578,
          2.0458717346191406,
          21.063865661621094,
          13.435596466064453,
          9.34013843536377,
          17.21099281311035,
          3.2154951095581055,
          18.94330596923828,
          1.9120359420776367,
          4.182432174682617,
          8.861621856689453,
          12.99065113067627,
          31.531007766723633,
          11.391603469848633,
          30.939706802368164,
          23.819316864013672,
          20.655155181884766,
          8.543619155883789,
          8.921072959899902,
          7.189963340759277,
          10.23474407196045,
          3.59075927734375,
          1.0161237716674805,
          6.801764011383057,
          8.423171043395996,
          3.7611424922943115,
          11.905521392822266,
          6.270211696624756,
          2.4451029300689697,
          15.847179412841797,
          0.6706755757331848,
          10.266960144042969,
          4.6247453689575195,
          16.800018310546875,
          5.163883209228516,
          26.336170196533203,
          10.914258003234863,
          20.481796264648438,
          6.229328155517578,
          28.49203872680664,
          16.561017990112305,
          61.1021728515625,
          44.045982360839844,
          56.216896057128906,
          40.302337646484375,
          61.41310501098633,
          51.719642639160156,
          48.44850158691406,
          30.47134780883789,
          45.73493576049805,
          27.080997467041016,
          46.43336486816406,
          41.4438591003418,
          71.43980407714844,
          52.037757873535156,
          72.15039825439453,
          52.088871002197266,
          64.75089263916016,
          66.23023223876953,
          58.81700897216797,
          39.56573486328125,
          63.16009521484375,
          44.27715301513672,
          46.84959411621094,
          57.06018829345703,
          40.6174430847168,
          22.09252166748047,
          46.8990478515625,
          28.40729331970215,
          26.66149139404297,
          40.07521438598633,
          20.887908935546875,
          2.9206485748291016,
          29.152633666992188,
          9.304937362670898,
          7.958324432373047,
          21.8131103515625,
          24.022357940673828,
          3.414764404296875,
          29.8046875,
          8.5930757522583,
          8.886295318603516,
          22.896360397338867,
          7.058523654937744,
          31.314891815185547,
          4.441577434539795,
          27.38397979736328,
          22.732742309570312,
          14.122320175170898,
          9.329465866088867,
          19.774763107299805,
          9.094026565551758,
          18.74588966369629,
          7.041929244995117,
          3.6298789978027344,
          4.5496745109558105,
          30.194713592529297,
          2.689422607421875,
          28.30707550048828,
          12.966952323913574,
          13.573542594909668
         ]
        },
        {
         "marker": {
          "color": "red",
          "size": 6
         },
         "mode": "markers",
         "name": "Z-axis Error",
         "type": "scatter",
         "x": [
          304.0188728104266,
          304.0188728104266,
          304.0188728104266,
          304.0188728104266,
          304.0188728104266,
          304.0188728104266,
          304.18932773554945,
          304.18932773554945,
          304.18932773554945,
          304.18932773554945,
          304.18932773554945,
          304.18932773554945,
          308.65850173224726,
          308.65850173224726,
          308.65850173224726,
          308.65850173224726,
          308.65850173224726,
          308.65850173224726,
          308.65429760065945,
          308.65429760065945,
          308.65429760065945,
          308.65429760065945,
          308.65429760065945,
          308.65429760065945,
          296.7148256260722,
          296.7148256260722,
          296.7148256260722,
          296.7148256260722,
          296.7148256260722,
          296.7148256260722,
          309.61656182886856,
          309.61656182886856,
          309.61656182886856,
          309.61656182886856,
          309.61656182886856,
          309.61656182886856,
          287.6390761809675,
          287.6390761809675,
          287.6390761809675,
          287.6390761809675,
          287.6390761809675,
          287.6390761809675,
          288.69560573830677,
          288.69560573830677,
          288.69560573830677,
          288.69560573830677,
          288.69560573830677,
          288.69560573830677,
          293.025533023789,
          293.025533023789,
          293.025533023789,
          293.025533023789,
          293.025533023789,
          293.025533023789,
          293.81450789239466,
          293.81450789239466,
          293.81450789239466,
          293.81450789239466,
          293.81450789239466,
          293.81450789239466,
          279.755062990055,
          279.755062990055,
          279.755062990055,
          279.755062990055,
          279.755062990055,
          279.755062990055,
          292.61510108307186,
          292.61510108307186,
          292.61510108307186,
          292.61510108307186,
          292.61510108307186,
          292.61510108307186,
          273.17836156017586,
          273.17836156017586,
          273.17836156017586,
          273.17836156017586,
          273.17836156017586,
          273.17836156017586,
          271.414938672515,
          271.414938672515,
          271.414938672515,
          271.414938672515,
          271.414938672515,
          271.414938672515,
          278.99585651923644,
          278.99585651923644,
          278.99585651923644,
          278.99585651923644,
          278.99585651923644,
          278.99585651923644,
          278.2197132961803,
          278.2197132961803,
          278.2197132961803,
          278.2197132961803,
          278.2197132961803,
          278.2197132961803,
          261.3580839172192,
          261.3580839172192,
          261.3580839172192,
          261.3580839172192,
          261.3580839172192,
          261.3580839172192
         ],
         "y": [
          4.753509521484375,
          9.658905029296875,
          10.024078369140625,
          14.694976806640625,
          2.536773681640625,
          16.073211669921875,
          17.721237182617188,
          12.436370849609375,
          11.7608642578125,
          6.58770751953125,
          20.669998168945312,
          6.902252197265625,
          34.128814697265625,
          32.78227233886719,
          27.645523071289062,
          25.068435668945312,
          41.46473693847656,
          25.754348754882812,
          53.3028564453125,
          57.45478820800781,
          47.33903503417969,
          49.4371337890625,
          63.99632263183594,
          49.87934875488281,
          58.888153076171875,
          66.67033386230469,
          51.72480773925781,
          59.82757568359375,
          68.79946899414062,
          55.49516296386719,
          85.89787292480469,
          97.86949157714844,
          80.00041198730469,
          91.65188598632812,
          98.64227294921875,
          86.01910400390625,
          74.66384887695312,
          86.64863586425781,
          67.41445922851562,
          80.14463806152344,
          85.08651733398438,
          73.71844482421875,
          97.2510986328125,
          106.39479064941406,
          90.11631774902344,
          100.34744262695312,
          108.30656433105469,
          94.03257751464844,
          124.12545776367188,
          128.02023315429688,
          115.36077880859375,
          119.70761108398438,
          132.36920166015625,
          114.9564208984375,
          153.82095336914062,
          149.12286376953125,
          142.71484375,
          139.5865478515625,
          159.86329650878906,
          142.20016479492188,
          167.70364379882812,
          157.7865753173828,
          155.01651000976562,
          148.07546997070312,
          169.273193359375,
          150.3744659423828,
          206.45785522460938,
          192.86924743652344,
          195.75210571289062,
          184.27084350585938,
          204.18637084960938,
          186.58155822753906,
          202.6106719970703,
          187.97256469726562,
          192.717041015625,
          179.1455535888672,
          200.4564208984375,
          181.4836883544922,
          224.97354125976562,
          213.03697204589844,
          216.13636779785156,
          204.64471435546875,
          225.58944702148438,
          206.2321014404297,
          253.6253662109375,
          247.3836212158203,
          246.37942504882812,
          238.20407104492188,
          259.67767333984375,
          236.97711181640625,
          284.75958251953125,
          281.6783142089844,
          274.2740173339844,
          272.71478271484375,
          294.6390380859375,
          269.7424621582031,
          293.96600341796875,
          295.2748718261719,
          285.951904296875,
          285.83251953125,
          308.0196533203125,
          285.5331115722656
         ]
        },
        {
         "marker": {
          "color": "purple",
          "size": 6
         },
         "mode": "markers",
         "name": "3D Error",
         "type": "scatter",
         "x": [
          304.0188728104266,
          304.0188728104266,
          304.0188728104266,
          304.0188728104266,
          304.0188728104266,
          304.0188728104266,
          304.18932773554945,
          304.18932773554945,
          304.18932773554945,
          304.18932773554945,
          304.18932773554945,
          304.18932773554945,
          308.65850173224726,
          308.65850173224726,
          308.65850173224726,
          308.65850173224726,
          308.65850173224726,
          308.65850173224726,
          308.65429760065945,
          308.65429760065945,
          308.65429760065945,
          308.65429760065945,
          308.65429760065945,
          308.65429760065945,
          296.7148256260722,
          296.7148256260722,
          296.7148256260722,
          296.7148256260722,
          296.7148256260722,
          296.7148256260722,
          309.61656182886856,
          309.61656182886856,
          309.61656182886856,
          309.61656182886856,
          309.61656182886856,
          309.61656182886856,
          287.6390761809675,
          287.6390761809675,
          287.6390761809675,
          287.6390761809675,
          287.6390761809675,
          287.6390761809675,
          288.69560573830677,
          288.69560573830677,
          288.69560573830677,
          288.69560573830677,
          288.69560573830677,
          288.69560573830677,
          293.025533023789,
          293.025533023789,
          293.025533023789,
          293.025533023789,
          293.025533023789,
          293.025533023789,
          293.81450789239466,
          293.81450789239466,
          293.81450789239466,
          293.81450789239466,
          293.81450789239466,
          293.81450789239466,
          279.755062990055,
          279.755062990055,
          279.755062990055,
          279.755062990055,
          279.755062990055,
          279.755062990055,
          292.61510108307186,
          292.61510108307186,
          292.61510108307186,
          292.61510108307186,
          292.61510108307186,
          292.61510108307186,
          273.17836156017586,
          273.17836156017586,
          273.17836156017586,
          273.17836156017586,
          273.17836156017586,
          273.17836156017586,
          271.414938672515,
          271.414938672515,
          271.414938672515,
          271.414938672515,
          271.414938672515,
          271.414938672515,
          278.99585651923644,
          278.99585651923644,
          278.99585651923644,
          278.99585651923644,
          278.99585651923644,
          278.99585651923644,
          278.2197132961803,
          278.2197132961803,
          278.2197132961803,
          278.2197132961803,
          278.2197132961803,
          278.2197132961803,
          261.3580839172192,
          261.3580839172192,
          261.3580839172192,
          261.3580839172192,
          261.3580839172192,
          261.3580839172192
         ],
         "y": [
          5.153532284169945,
          24.14783692497997,
          10.23072524233354,
          25.969066294596352,
          17.718538801000083,
          22.809004340545567,
          26.732886129574737,
          14.38492480218936,
          23.95603699946221,
          8.272464640166445,
          21.229519418703177,
          12.437084755612137,
          38.52983345550493,
          46.61130915167512,
          31.889829238528215,
          40.80517966834763,
          47.81993789667754,
          33.132530564660264,
          56.944430448231074,
          61.07790260658364,
          50.80603817945241,
          53.367863877724595,
          64.47884950747122,
          50.069882316200456,
          66.23669817054464,
          73.73078222298359,
          58.87632724622447,
          67.58914157242087,
          71.24158681875497,
          57.53854635429768,
          94.62295886573487,
          104.10286523513761,
          87.92533885935437,
          97.9077330710041,
          102.36898981755243,
          88.3683596778101,
          81.83307492275242,
          89.3189301382108,
          73.0454080114932,
          82.31338606865394,
          89.81456070968888,
          75.60759549468432,
          117.76989026489638,
          117.30085105060822,
          109.53350701843124,
          110.43521754237551,
          124.70415403572886,
          107.59999922452063,
          135.19706261764014,
          132.73924187838952,
          126.42021166833317,
          124.07216594624678,
          140.2857060079939,
          122.25440831047754,
          171.11696021709622,
          158.80932624468912,
          161.85076964250246,
          150.11298928476796,
          172.47936334967383,
          156.9314556545327,
          179.05203901346778,
          163.79761034358475,
          169.28251171371926,
          156.0985898495931,
          175.63683702179128,
          160.94160045334357,
          210.74861684423215,
          194.66696672769257,
          201.90120020762265,
          187.24196792537703,
          206.0192885342105,
          190.8400376625705,
          204.2850956320667,
          188.42077639904133,
          195.3285682561471,
          179.62548681534392,
          203.56443399891003,
          184.8487556292718,
          227.30111310845854,
          213.79308992403855,
          219.0208013413603,
          205.39884789051482,
          229.3667542559561,
          210.31047353216954,
          255.25605814149026,
          250.7984590218312,
          247.870458978115,
          241.07170935261945,
          264.77586225738804,
          241.33761795996037,
          286.25650333633706,
          283.70763595476933,
          275.7511639167814,
          274.696600455236,
          298.1737921589625,
          273.4924799398523,
          294.3629217853311,
          297.1823218696577,
          286.5031304947849,
          287.782166830862,
          309.5112883069579,
          287.9953040675011
         ]
        }
       ],
       "layout": {
        "legend": {
         "title": {
          "text": "Error Types"
         }
        },
        "template": {
         "data": {
          "bar": [
           {
            "error_x": {
             "color": "#2a3f5f"
            },
            "error_y": {
             "color": "#2a3f5f"
            },
            "marker": {
             "line": {
              "color": "white",
              "width": 0.5
             },
             "pattern": {
              "fillmode": "overlay",
              "size": 10,
              "solidity": 0.2
             }
            },
            "type": "bar"
           }
          ],
          "barpolar": [
           {
            "marker": {
             "line": {
              "color": "white",
              "width": 0.5
             },
             "pattern": {
              "fillmode": "overlay",
              "size": 10,
              "solidity": 0.2
             }
            },
            "type": "barpolar"
           }
          ],
          "carpet": [
           {
            "aaxis": {
             "endlinecolor": "#2a3f5f",
             "gridcolor": "#C8D4E3",
             "linecolor": "#C8D4E3",
             "minorgridcolor": "#C8D4E3",
             "startlinecolor": "#2a3f5f"
            },
            "baxis": {
             "endlinecolor": "#2a3f5f",
             "gridcolor": "#C8D4E3",
             "linecolor": "#C8D4E3",
             "minorgridcolor": "#C8D4E3",
             "startlinecolor": "#2a3f5f"
            },
            "type": "carpet"
           }
          ],
          "choropleth": [
           {
            "colorbar": {
             "outlinewidth": 0,
             "ticks": ""
            },
            "type": "choropleth"
           }
          ],
          "contour": [
           {
            "colorbar": {
             "outlinewidth": 0,
             "ticks": ""
            },
            "colorscale": [
             [
              0,
              "#0d0887"
             ],
             [
              0.1111111111111111,
              "#46039f"
             ],
             [
              0.2222222222222222,
              "#7201a8"
             ],
             [
              0.3333333333333333,
              "#9c179e"
             ],
             [
              0.4444444444444444,
              "#bd3786"
             ],
             [
              0.5555555555555556,
              "#d8576b"
             ],
             [
              0.6666666666666666,
              "#ed7953"
             ],
             [
              0.7777777777777778,
              "#fb9f3a"
             ],
             [
              0.8888888888888888,
              "#fdca26"
             ],
             [
              1,
              "#f0f921"
             ]
            ],
            "type": "contour"
           }
          ],
          "contourcarpet": [
           {
            "colorbar": {
             "outlinewidth": 0,
             "ticks": ""
            },
            "type": "contourcarpet"
           }
          ],
          "heatmap": [
           {
            "colorbar": {
             "outlinewidth": 0,
             "ticks": ""
            },
            "colorscale": [
             [
              0,
              "#0d0887"
             ],
             [
              0.1111111111111111,
              "#46039f"
             ],
             [
              0.2222222222222222,
              "#7201a8"
             ],
             [
              0.3333333333333333,
              "#9c179e"
             ],
             [
              0.4444444444444444,
              "#bd3786"
             ],
             [
              0.5555555555555556,
              "#d8576b"
             ],
             [
              0.6666666666666666,
              "#ed7953"
             ],
             [
              0.7777777777777778,
              "#fb9f3a"
             ],
             [
              0.8888888888888888,
              "#fdca26"
             ],
             [
              1,
              "#f0f921"
             ]
            ],
            "type": "heatmap"
           }
          ],
          "heatmapgl": [
           {
            "colorbar": {
             "outlinewidth": 0,
             "ticks": ""
            },
            "colorscale": [
             [
              0,
              "#0d0887"
             ],
             [
              0.1111111111111111,
              "#46039f"
             ],
             [
              0.2222222222222222,
              "#7201a8"
             ],
             [
              0.3333333333333333,
              "#9c179e"
             ],
             [
              0.4444444444444444,
              "#bd3786"
             ],
             [
              0.5555555555555556,
              "#d8576b"
             ],
             [
              0.6666666666666666,
              "#ed7953"
             ],
             [
              0.7777777777777778,
              "#fb9f3a"
             ],
             [
              0.8888888888888888,
              "#fdca26"
             ],
             [
              1,
              "#f0f921"
             ]
            ],
            "type": "heatmapgl"
           }
          ],
          "histogram": [
           {
            "marker": {
             "pattern": {
              "fillmode": "overlay",
              "size": 10,
              "solidity": 0.2
             }
            },
            "type": "histogram"
           }
          ],
          "histogram2d": [
           {
            "colorbar": {
             "outlinewidth": 0,
             "ticks": ""
            },
            "colorscale": [
             [
              0,
              "#0d0887"
             ],
             [
              0.1111111111111111,
              "#46039f"
             ],
             [
              0.2222222222222222,
              "#7201a8"
             ],
             [
              0.3333333333333333,
              "#9c179e"
             ],
             [
              0.4444444444444444,
              "#bd3786"
             ],
             [
              0.5555555555555556,
              "#d8576b"
             ],
             [
              0.6666666666666666,
              "#ed7953"
             ],
             [
              0.7777777777777778,
              "#fb9f3a"
             ],
             [
              0.8888888888888888,
              "#fdca26"
             ],
             [
              1,
              "#f0f921"
             ]
            ],
            "type": "histogram2d"
           }
          ],
          "histogram2dcontour": [
           {
            "colorbar": {
             "outlinewidth": 0,
             "ticks": ""
            },
            "colorscale": [
             [
              0,
              "#0d0887"
             ],
             [
              0.1111111111111111,
              "#46039f"
             ],
             [
              0.2222222222222222,
              "#7201a8"
             ],
             [
              0.3333333333333333,
              "#9c179e"
             ],
             [
              0.4444444444444444,
              "#bd3786"
             ],
             [
              0.5555555555555556,
              "#d8576b"
             ],
             [
              0.6666666666666666,
              "#ed7953"
             ],
             [
              0.7777777777777778,
              "#fb9f3a"
             ],
             [
              0.8888888888888888,
              "#fdca26"
             ],
             [
              1,
              "#f0f921"
             ]
            ],
            "type": "histogram2dcontour"
           }
          ],
          "mesh3d": [
           {
            "colorbar": {
             "outlinewidth": 0,
             "ticks": ""
            },
            "type": "mesh3d"
           }
          ],
          "parcoords": [
           {
            "line": {
             "colorbar": {
              "outlinewidth": 0,
              "ticks": ""
             }
            },
            "type": "parcoords"
           }
          ],
          "pie": [
           {
            "automargin": true,
            "type": "pie"
           }
          ],
          "scatter": [
           {
            "fillpattern": {
             "fillmode": "overlay",
             "size": 10,
             "solidity": 0.2
            },
            "type": "scatter"
           }
          ],
          "scatter3d": [
           {
            "line": {
             "colorbar": {
              "outlinewidth": 0,
              "ticks": ""
             }
            },
            "marker": {
             "colorbar": {
              "outlinewidth": 0,
              "ticks": ""
             }
            },
            "type": "scatter3d"
           }
          ],
          "scattercarpet": [
           {
            "marker": {
             "colorbar": {
              "outlinewidth": 0,
              "ticks": ""
             }
            },
            "type": "scattercarpet"
           }
          ],
          "scattergeo": [
           {
            "marker": {
             "colorbar": {
              "outlinewidth": 0,
              "ticks": ""
             }
            },
            "type": "scattergeo"
           }
          ],
          "scattergl": [
           {
            "marker": {
             "colorbar": {
              "outlinewidth": 0,
              "ticks": ""
             }
            },
            "type": "scattergl"
           }
          ],
          "scattermapbox": [
           {
            "marker": {
             "colorbar": {
              "outlinewidth": 0,
              "ticks": ""
             }
            },
            "type": "scattermapbox"
           }
          ],
          "scatterpolar": [
           {
            "marker": {
             "colorbar": {
              "outlinewidth": 0,
              "ticks": ""
             }
            },
            "type": "scatterpolar"
           }
          ],
          "scatterpolargl": [
           {
            "marker": {
             "colorbar": {
              "outlinewidth": 0,
              "ticks": ""
             }
            },
            "type": "scatterpolargl"
           }
          ],
          "scatterternary": [
           {
            "marker": {
             "colorbar": {
              "outlinewidth": 0,
              "ticks": ""
             }
            },
            "type": "scatterternary"
           }
          ],
          "surface": [
           {
            "colorbar": {
             "outlinewidth": 0,
             "ticks": ""
            },
            "colorscale": [
             [
              0,
              "#0d0887"
             ],
             [
              0.1111111111111111,
              "#46039f"
             ],
             [
              0.2222222222222222,
              "#7201a8"
             ],
             [
              0.3333333333333333,
              "#9c179e"
             ],
             [
              0.4444444444444444,
              "#bd3786"
             ],
             [
              0.5555555555555556,
              "#d8576b"
             ],
             [
              0.6666666666666666,
              "#ed7953"
             ],
             [
              0.7777777777777778,
              "#fb9f3a"
             ],
             [
              0.8888888888888888,
              "#fdca26"
             ],
             [
              1,
              "#f0f921"
             ]
            ],
            "type": "surface"
           }
          ],
          "table": [
           {
            "cells": {
             "fill": {
              "color": "#EBF0F8"
             },
             "line": {
              "color": "white"
             }
            },
            "header": {
             "fill": {
              "color": "#C8D4E3"
             },
             "line": {
              "color": "white"
             }
            },
            "type": "table"
           }
          ]
         },
         "layout": {
          "annotationdefaults": {
           "arrowcolor": "#2a3f5f",
           "arrowhead": 0,
           "arrowwidth": 1
          },
          "autotypenumbers": "strict",
          "coloraxis": {
           "colorbar": {
            "outlinewidth": 0,
            "ticks": ""
           }
          },
          "colorscale": {
           "diverging": [
            [
             0,
             "#8e0152"
            ],
            [
             0.1,
             "#c51b7d"
            ],
            [
             0.2,
             "#de77ae"
            ],
            [
             0.3,
             "#f1b6da"
            ],
            [
             0.4,
             "#fde0ef"
            ],
            [
             0.5,
             "#f7f7f7"
            ],
            [
             0.6,
             "#e6f5d0"
            ],
            [
             0.7,
             "#b8e186"
            ],
            [
             0.8,
             "#7fbc41"
            ],
            [
             0.9,
             "#4d9221"
            ],
            [
             1,
             "#276419"
            ]
           ],
           "sequential": [
            [
             0,
             "#0d0887"
            ],
            [
             0.1111111111111111,
             "#46039f"
            ],
            [
             0.2222222222222222,
             "#7201a8"
            ],
            [
             0.3333333333333333,
             "#9c179e"
            ],
            [
             0.4444444444444444,
             "#bd3786"
            ],
            [
             0.5555555555555556,
             "#d8576b"
            ],
            [
             0.6666666666666666,
             "#ed7953"
            ],
            [
             0.7777777777777778,
             "#fb9f3a"
            ],
            [
             0.8888888888888888,
             "#fdca26"
            ],
            [
             1,
             "#f0f921"
            ]
           ],
           "sequentialminus": [
            [
             0,
             "#0d0887"
            ],
            [
             0.1111111111111111,
             "#46039f"
            ],
            [
             0.2222222222222222,
             "#7201a8"
            ],
            [
             0.3333333333333333,
             "#9c179e"
            ],
            [
             0.4444444444444444,
             "#bd3786"
            ],
            [
             0.5555555555555556,
             "#d8576b"
            ],
            [
             0.6666666666666666,
             "#ed7953"
            ],
            [
             0.7777777777777778,
             "#fb9f3a"
            ],
            [
             0.8888888888888888,
             "#fdca26"
            ],
            [
             1,
             "#f0f921"
            ]
           ]
          },
          "colorway": [
           "#636efa",
           "#EF553B",
           "#00cc96",
           "#ab63fa",
           "#FFA15A",
           "#19d3f3",
           "#FF6692",
           "#B6E880",
           "#FF97FF",
           "#FECB52"
          ],
          "font": {
           "color": "#2a3f5f"
          },
          "geo": {
           "bgcolor": "white",
           "lakecolor": "white",
           "landcolor": "white",
           "showlakes": true,
           "showland": true,
           "subunitcolor": "#C8D4E3"
          },
          "hoverlabel": {
           "align": "left"
          },
          "hovermode": "closest",
          "mapbox": {
           "style": "light"
          },
          "paper_bgcolor": "white",
          "plot_bgcolor": "white",
          "polar": {
           "angularaxis": {
            "gridcolor": "#EBF0F8",
            "linecolor": "#EBF0F8",
            "ticks": ""
           },
           "bgcolor": "white",
           "radialaxis": {
            "gridcolor": "#EBF0F8",
            "linecolor": "#EBF0F8",
            "ticks": ""
           }
          },
          "scene": {
           "xaxis": {
            "backgroundcolor": "white",
            "gridcolor": "#DFE8F3",
            "gridwidth": 2,
            "linecolor": "#EBF0F8",
            "showbackground": true,
            "ticks": "",
            "zerolinecolor": "#EBF0F8"
           },
           "yaxis": {
            "backgroundcolor": "white",
            "gridcolor": "#DFE8F3",
            "gridwidth": 2,
            "linecolor": "#EBF0F8",
            "showbackground": true,
            "ticks": "",
            "zerolinecolor": "#EBF0F8"
           },
           "zaxis": {
            "backgroundcolor": "white",
            "gridcolor": "#DFE8F3",
            "gridwidth": 2,
            "linecolor": "#EBF0F8",
            "showbackground": true,
            "ticks": "",
            "zerolinecolor": "#EBF0F8"
           }
          },
          "shapedefaults": {
           "line": {
            "color": "#2a3f5f"
           }
          },
          "ternary": {
           "aaxis": {
            "gridcolor": "#DFE8F3",
            "linecolor": "#A2B1C6",
            "ticks": ""
           },
           "baxis": {
            "gridcolor": "#DFE8F3",
            "linecolor": "#A2B1C6",
            "ticks": ""
           },
           "bgcolor": "white",
           "caxis": {
            "gridcolor": "#DFE8F3",
            "linecolor": "#A2B1C6",
            "ticks": ""
           }
          },
          "title": {
           "x": 0.05
          },
          "xaxis": {
           "automargin": true,
           "gridcolor": "#EBF0F8",
           "linecolor": "#EBF0F8",
           "ticks": "",
           "title": {
            "standoff": 15
           },
           "zerolinecolor": "#EBF0F8",
           "zerolinewidth": 2
          },
          "yaxis": {
           "automargin": true,
           "gridcolor": "#EBF0F8",
           "linecolor": "#EBF0F8",
           "ticks": "",
           "title": {
            "standoff": 15
           },
           "zerolinecolor": "#EBF0F8",
           "zerolinewidth": 2
          }
         }
        },
        "title": {
         "text": "Errors in X, Y, Z, and 3D vs Distance to Center of Gravity (COG)"
        },
        "xaxis": {
         "title": {
          "text": "Distance to COG"
         }
        },
        "yaxis": {
         "title": {
          "text": "Error"
         }
        }
       }
      }
     },
     "metadata": {},
     "output_type": "display_data"
    }
   ],
   "source": [
    "# Plotting\n",
    "\n",
    "err_x = np.array(errors['x'])\n",
    "err_y = np.array(errors['y'])\n",
    "err_z = np.array(errors['z'])\n",
    "err_3d = np.array(errors['3d'])\n",
    "err_dist_cog = np.array(errors['distance_to_cog'])\n",
    "\n",
    "fig = go.Figure()\n",
    "\n",
    "fig.add_trace(go.Scatter(\n",
    "    x=err_dist_cog, \n",
    "    y=err_x,\n",
    "    mode='markers',\n",
    "    name='X-axis Error',\n",
    "    marker=dict(color='blue', size=6),\n",
    "))\n",
    "\n",
    "fig.add_trace(go.Scatter(\n",
    "    x=err_dist_cog, \n",
    "    y=err_y,\n",
    "    mode='markers',\n",
    "    name='Y-axis Error',\n",
    "    marker=dict(color='green', size=6),\n",
    "))\n",
    "\n",
    "fig.add_trace(go.Scatter(\n",
    "    x=err_dist_cog, \n",
    "    y=err_z,\n",
    "    mode='markers',\n",
    "    name='Z-axis Error',\n",
    "    marker=dict(color='red', size=6),\n",
    "))\n",
    "\n",
    "fig.add_trace(go.Scatter(\n",
    "    x=err_dist_cog, \n",
    "    y=err_3d,\n",
    "    mode='markers',\n",
    "    name='3D Error',\n",
    "    marker=dict(color='purple', size=6),\n",
    "))\n",
    "\n",
    "fig.update_layout(\n",
    "    title=\"Errors in X, Y, Z, and 3D vs Distance to Center of Gravity (COG)\",\n",
    "    xaxis_title=\"Distance to COG\",\n",
    "    yaxis_title=\"Error\",\n",
    "    legend_title=\"Error Types\",\n",
    "    template=\"plotly_white\",\n",
    ")\n",
    "\n",
    "fig.show()"
   ]
  },
  {
   "cell_type": "markdown",
   "metadata": {},
   "source": [
    "# Question 3.1 "
   ]
  },
  {
   "cell_type": "markdown",
   "metadata": {},
   "source": [
    "Here you have to code the function that allow us to add noise to the calibration beads coordinates. Hint : you should take a look at the documentation of `np.random.normal` :)"
   ]
  },
  {
   "cell_type": "code",
   "execution_count": 130,
   "metadata": {},
   "outputs": [],
   "source": [
    "def add_noise_2d(original_beads:dict, std:float) -> dict:\n",
    "    \"\"\"\n",
    "    Adds noise to the 2D coordinates of the beads\n",
    "\n",
    "    Parameters\n",
    "    ----------\n",
    "    original_beads : dict\n",
    "        Dictionnary containing information on 2D and 3D position of the a set of calibration beads\n",
    "    std : float\n",
    "        Standard deviation for the noise added.\n",
    "\n",
    "    Returns\n",
    "    -------\n",
    "    dict\n",
    "        Noised beads set\n",
    "    \"\"\"\n",
    "    output = deepcopy(original_beads) # ? First we deepcopy the original beads data, to avoid modifying it by mistake\n",
    "    # TODO : select 2D beads and add noise to them\n",
    "    \n",
    "    return output\n",
    "\n",
    "def add_noise_3d(original_beads:dict, std:float) -> dict:\n",
    "    \"\"\"\n",
    "    Adds noise to the 3D coordinates of the beads\n",
    "\n",
    "    Parameters\n",
    "    ----------\n",
    "    original_beads : dict\n",
    "        Dictionnary containing information on 2D and 3D position of the a set of calibration beads\n",
    "    std : float\n",
    "        Standard deviation for the noise added.\n",
    "\n",
    "    Returns\n",
    "    -------\n",
    "    dict\n",
    "        Noised beads set\n",
    "    \"\"\"\n",
    "    output = deepcopy(original_beads) # ? First we deepcopy the original beads data, to avoid modifying it by mistake\n",
    "    # TODO : select 3D beads and add noise to them\n",
    "    \n",
    "    return output"
   ]
  },
  {
   "cell_type": "code",
   "execution_count": null,
   "metadata": {},
   "outputs": [],
   "source": []
  },
  {
   "cell_type": "markdown",
   "metadata": {},
   "source": [
    "# Question 3.2"
   ]
  },
  {
   "cell_type": "code",
   "execution_count": null,
   "metadata": {},
   "outputs": [],
   "source": []
  },
  {
   "cell_type": "markdown",
   "metadata": {},
   "source": [
    "# Question 4.1"
   ]
  },
  {
   "cell_type": "code",
   "execution_count": null,
   "metadata": {},
   "outputs": [],
   "source": []
  },
  {
   "cell_type": "markdown",
   "metadata": {},
   "source": [
    "# Question 4.2"
   ]
  },
  {
   "cell_type": "markdown",
   "metadata": {},
   "source": [
    "This question is a bit tricky, as you have to get measurements for couples of values of standard deviation for 2D and 3D noise. A line plot is not very adapted for this, but we could use a heatmap ! Here is a small example :"
   ]
  },
  {
   "cell_type": "code",
   "execution_count": 131,
   "metadata": {},
   "outputs": [
    {
     "data": {
      "application/vnd.plotly.v1+json": {
       "config": {
        "plotlyServerURL": "https://plot.ly"
       },
       "data": [
        {
         "colorscale": [
          [
           0,
           "#30123b"
          ],
          [
           0.07142857142857142,
           "#4145ab"
          ],
          [
           0.14285714285714285,
           "#4675ed"
          ],
          [
           0.21428571428571427,
           "#39a2fc"
          ],
          [
           0.2857142857142857,
           "#1bcfd4"
          ],
          [
           0.35714285714285715,
           "#24eca6"
          ],
          [
           0.42857142857142855,
           "#61fc6c"
          ],
          [
           0.5,
           "#a4fc3b"
          ],
          [
           0.5714285714285714,
           "#d1e834"
          ],
          [
           0.6428571428571429,
           "#f3c63a"
          ],
          [
           0.7142857142857143,
           "#fe9b2d"
          ],
          [
           0.7857142857142857,
           "#f36315"
          ],
          [
           0.8571428571428571,
           "#d93806"
          ],
          [
           0.9285714285714286,
           "#b11901"
          ],
          [
           1,
           "#7a0402"
          ]
         ],
         "showscale": false,
         "text": [
          [
           0.65,
           0.96,
           0.89,
           0.51,
           0.92,
           0.11,
           0.55,
           0.12,
           0.11,
           0.42,
           0.78
          ],
          [
           0.64,
           0.13,
           0.88,
           0.75,
           0.63,
           0.36,
           0.14,
           0.22,
           0.7,
           0.56,
           0.52
          ],
          [
           0.35,
           0.41,
           0.35,
           0.93,
           0.72,
           0.86,
           0.3,
           0.33,
           0.14,
           0.64,
           0.91
          ],
          [
           0.25,
           0.45,
           0.36,
           0.75,
           0.34,
           0.43,
           0.85,
           0.76,
           0.69,
           0.72,
           0.01
          ],
          [
           0.01,
           0.97,
           0.64,
           0.42,
           0.75,
           0.1,
           0.45,
           0.47,
           0.18,
           0.06,
           0.12
          ],
          [
           0,
           0.93,
           0.78,
           0.05,
           0.62,
           0.43,
           0.32,
           0.76,
           0.76,
           0.78,
           0.49
          ],
          [
           0.4,
           0.2,
           0.61,
           0.79,
           0.43,
           0.39,
           0.11,
           0.67,
           0.04,
           0.07,
           0.14
          ],
          [
           0.82,
           0.9,
           0.34,
           0.14,
           0.37,
           0.04,
           0.5,
           0.46,
           0.58,
           0.97,
           0.25
          ],
          [
           0.7,
           0.81,
           0.83,
           0.74,
           0.36,
           0.97,
           0.14,
           0.75,
           0.66,
           0.8,
           0.09
          ],
          [
           0.25,
           0.69,
           0.04,
           0.5,
           0.46,
           0.69,
           0.28,
           0.69,
           0.64,
           0.68,
           0.84
          ],
          [
           0.93,
           0.81,
           0.3,
           0.95,
           0.38,
           0.5,
           0.98,
           0.14,
           0.51,
           0.8,
           0.81
          ]
         ],
         "texttemplate": "%{text}",
         "type": "heatmap",
         "x": [
          0,
          1,
          2,
          3,
          4,
          5,
          6,
          7,
          8,
          9,
          10
         ],
         "y": [
          0,
          1,
          2,
          3,
          4,
          5,
          6,
          7,
          8,
          9,
          10
         ],
         "z": [
          [
           0.6488185043800068,
           0.9557211642158358,
           0.887351541958648,
           0.512622787602533,
           0.9176610453691366,
           0.10732726260633352,
           0.5471680933350807,
           0.12126369112418978,
           0.10883397322630506,
           0.4204485756113764,
           0.7764246918563985
          ],
          [
           0.6371577005046988,
           0.1282847351662676,
           0.8819472414778681,
           0.7494640991823626,
           0.6328999202598384,
           0.3567044833191946,
           0.14202987545562595,
           0.2207090875014679,
           0.6976976222285194,
           0.5635017056921732,
           0.515212189261412
          ],
          [
           0.3454777422613643,
           0.4053916229111769,
           0.352185843035526,
           0.9289012808005876,
           0.7195098759303803,
           0.864577020665605,
           0.30115215123066363,
           0.32723838958162466,
           0.14157418465400662,
           0.6397601958335987,
           0.907658979218775
          ],
          [
           0.2541543297080733,
           0.45075319309362427,
           0.3640687554162426,
           0.7492346051955499,
           0.3377478297209364,
           0.4251374633736297,
           0.8537724135783891,
           0.7639454320781239,
           0.6864570925200457,
           0.7238771349724253,
           0.0058866953730067895
          ],
          [
           0.01046054073460112,
           0.9720859753188446,
           0.6431015547365857,
           0.4180919672854445,
           0.7475034138224806,
           0.09660173094636593,
           0.45286322174745763,
           0.4676885829988654,
           0.18062053155969438,
           0.06057569320937117,
           0.11858744501388219
          ],
          [
           0.0029908517132442025,
           0.9339298941030065,
           0.7800602274244742,
           0.05034401346896922,
           0.6162817195072219,
           0.4348748824995752,
           0.3242405446508957,
           0.7632416275440955,
           0.7594127633550899,
           0.7840259518084792,
           0.4917992617253847
          ],
          [
           0.40434404081603503,
           0.19552417140741551,
           0.6108395178529646,
           0.7896098267952083,
           0.43225659110732484,
           0.39093495547062607,
           0.10517876553173733,
           0.6678343605248237,
           0.04316475989653845,
           0.07293571938156551,
           0.13840677334353446
          ],
          [
           0.8174197264332322,
           0.8964037154023049,
           0.3435044978819116,
           0.14197759100300367,
           0.3708105083709823,
           0.03857462824664937,
           0.5022869041078538,
           0.45832509424652357,
           0.5756488517583176,
           0.9655859661216039,
           0.25159917985028135
          ],
          [
           0.6994986175549279,
           0.8148160242311827,
           0.8344996421918918,
           0.740362894331742,
           0.3578044558115061,
           0.9677587610350852,
           0.14097879410945546,
           0.7493788568218435,
           0.6602008826092558,
           0.7980340756040005,
           0.08519223312972501
          ],
          [
           0.25171642460596744,
           0.6855651139874925,
           0.041898786865397275,
           0.49627612928596687,
           0.45975272036493553,
           0.6949876957133309,
           0.2762751758755154,
           0.6877305976761897,
           0.6405054579363121,
           0.6768857778878791,
           0.8429363072466655
          ],
          [
           0.9286124788368603,
           0.8149344356001219,
           0.2973234215577919,
           0.9458614782111705,
           0.37869771935705365,
           0.4964590375104858,
           0.9776248974726839,
           0.143731695502468,
           0.5052277703095188,
           0.8015296144094987,
           0.8120271258607392
          ]
         ]
        }
       ],
       "layout": {
        "template": {
         "data": {
          "bar": [
           {
            "error_x": {
             "color": "#2a3f5f"
            },
            "error_y": {
             "color": "#2a3f5f"
            },
            "marker": {
             "line": {
              "color": "#E5ECF6",
              "width": 0.5
             },
             "pattern": {
              "fillmode": "overlay",
              "size": 10,
              "solidity": 0.2
             }
            },
            "type": "bar"
           }
          ],
          "barpolar": [
           {
            "marker": {
             "line": {
              "color": "#E5ECF6",
              "width": 0.5
             },
             "pattern": {
              "fillmode": "overlay",
              "size": 10,
              "solidity": 0.2
             }
            },
            "type": "barpolar"
           }
          ],
          "carpet": [
           {
            "aaxis": {
             "endlinecolor": "#2a3f5f",
             "gridcolor": "white",
             "linecolor": "white",
             "minorgridcolor": "white",
             "startlinecolor": "#2a3f5f"
            },
            "baxis": {
             "endlinecolor": "#2a3f5f",
             "gridcolor": "white",
             "linecolor": "white",
             "minorgridcolor": "white",
             "startlinecolor": "#2a3f5f"
            },
            "type": "carpet"
           }
          ],
          "choropleth": [
           {
            "colorbar": {
             "outlinewidth": 0,
             "ticks": ""
            },
            "type": "choropleth"
           }
          ],
          "contour": [
           {
            "colorbar": {
             "outlinewidth": 0,
             "ticks": ""
            },
            "colorscale": [
             [
              0,
              "#0d0887"
             ],
             [
              0.1111111111111111,
              "#46039f"
             ],
             [
              0.2222222222222222,
              "#7201a8"
             ],
             [
              0.3333333333333333,
              "#9c179e"
             ],
             [
              0.4444444444444444,
              "#bd3786"
             ],
             [
              0.5555555555555556,
              "#d8576b"
             ],
             [
              0.6666666666666666,
              "#ed7953"
             ],
             [
              0.7777777777777778,
              "#fb9f3a"
             ],
             [
              0.8888888888888888,
              "#fdca26"
             ],
             [
              1,
              "#f0f921"
             ]
            ],
            "type": "contour"
           }
          ],
          "contourcarpet": [
           {
            "colorbar": {
             "outlinewidth": 0,
             "ticks": ""
            },
            "type": "contourcarpet"
           }
          ],
          "heatmap": [
           {
            "colorbar": {
             "outlinewidth": 0,
             "ticks": ""
            },
            "colorscale": [
             [
              0,
              "#0d0887"
             ],
             [
              0.1111111111111111,
              "#46039f"
             ],
             [
              0.2222222222222222,
              "#7201a8"
             ],
             [
              0.3333333333333333,
              "#9c179e"
             ],
             [
              0.4444444444444444,
              "#bd3786"
             ],
             [
              0.5555555555555556,
              "#d8576b"
             ],
             [
              0.6666666666666666,
              "#ed7953"
             ],
             [
              0.7777777777777778,
              "#fb9f3a"
             ],
             [
              0.8888888888888888,
              "#fdca26"
             ],
             [
              1,
              "#f0f921"
             ]
            ],
            "type": "heatmap"
           }
          ],
          "heatmapgl": [
           {
            "colorbar": {
             "outlinewidth": 0,
             "ticks": ""
            },
            "colorscale": [
             [
              0,
              "#0d0887"
             ],
             [
              0.1111111111111111,
              "#46039f"
             ],
             [
              0.2222222222222222,
              "#7201a8"
             ],
             [
              0.3333333333333333,
              "#9c179e"
             ],
             [
              0.4444444444444444,
              "#bd3786"
             ],
             [
              0.5555555555555556,
              "#d8576b"
             ],
             [
              0.6666666666666666,
              "#ed7953"
             ],
             [
              0.7777777777777778,
              "#fb9f3a"
             ],
             [
              0.8888888888888888,
              "#fdca26"
             ],
             [
              1,
              "#f0f921"
             ]
            ],
            "type": "heatmapgl"
           }
          ],
          "histogram": [
           {
            "marker": {
             "pattern": {
              "fillmode": "overlay",
              "size": 10,
              "solidity": 0.2
             }
            },
            "type": "histogram"
           }
          ],
          "histogram2d": [
           {
            "colorbar": {
             "outlinewidth": 0,
             "ticks": ""
            },
            "colorscale": [
             [
              0,
              "#0d0887"
             ],
             [
              0.1111111111111111,
              "#46039f"
             ],
             [
              0.2222222222222222,
              "#7201a8"
             ],
             [
              0.3333333333333333,
              "#9c179e"
             ],
             [
              0.4444444444444444,
              "#bd3786"
             ],
             [
              0.5555555555555556,
              "#d8576b"
             ],
             [
              0.6666666666666666,
              "#ed7953"
             ],
             [
              0.7777777777777778,
              "#fb9f3a"
             ],
             [
              0.8888888888888888,
              "#fdca26"
             ],
             [
              1,
              "#f0f921"
             ]
            ],
            "type": "histogram2d"
           }
          ],
          "histogram2dcontour": [
           {
            "colorbar": {
             "outlinewidth": 0,
             "ticks": ""
            },
            "colorscale": [
             [
              0,
              "#0d0887"
             ],
             [
              0.1111111111111111,
              "#46039f"
             ],
             [
              0.2222222222222222,
              "#7201a8"
             ],
             [
              0.3333333333333333,
              "#9c179e"
             ],
             [
              0.4444444444444444,
              "#bd3786"
             ],
             [
              0.5555555555555556,
              "#d8576b"
             ],
             [
              0.6666666666666666,
              "#ed7953"
             ],
             [
              0.7777777777777778,
              "#fb9f3a"
             ],
             [
              0.8888888888888888,
              "#fdca26"
             ],
             [
              1,
              "#f0f921"
             ]
            ],
            "type": "histogram2dcontour"
           }
          ],
          "mesh3d": [
           {
            "colorbar": {
             "outlinewidth": 0,
             "ticks": ""
            },
            "type": "mesh3d"
           }
          ],
          "parcoords": [
           {
            "line": {
             "colorbar": {
              "outlinewidth": 0,
              "ticks": ""
             }
            },
            "type": "parcoords"
           }
          ],
          "pie": [
           {
            "automargin": true,
            "type": "pie"
           }
          ],
          "scatter": [
           {
            "fillpattern": {
             "fillmode": "overlay",
             "size": 10,
             "solidity": 0.2
            },
            "type": "scatter"
           }
          ],
          "scatter3d": [
           {
            "line": {
             "colorbar": {
              "outlinewidth": 0,
              "ticks": ""
             }
            },
            "marker": {
             "colorbar": {
              "outlinewidth": 0,
              "ticks": ""
             }
            },
            "type": "scatter3d"
           }
          ],
          "scattercarpet": [
           {
            "marker": {
             "colorbar": {
              "outlinewidth": 0,
              "ticks": ""
             }
            },
            "type": "scattercarpet"
           }
          ],
          "scattergeo": [
           {
            "marker": {
             "colorbar": {
              "outlinewidth": 0,
              "ticks": ""
             }
            },
            "type": "scattergeo"
           }
          ],
          "scattergl": [
           {
            "marker": {
             "colorbar": {
              "outlinewidth": 0,
              "ticks": ""
             }
            },
            "type": "scattergl"
           }
          ],
          "scattermapbox": [
           {
            "marker": {
             "colorbar": {
              "outlinewidth": 0,
              "ticks": ""
             }
            },
            "type": "scattermapbox"
           }
          ],
          "scatterpolar": [
           {
            "marker": {
             "colorbar": {
              "outlinewidth": 0,
              "ticks": ""
             }
            },
            "type": "scatterpolar"
           }
          ],
          "scatterpolargl": [
           {
            "marker": {
             "colorbar": {
              "outlinewidth": 0,
              "ticks": ""
             }
            },
            "type": "scatterpolargl"
           }
          ],
          "scatterternary": [
           {
            "marker": {
             "colorbar": {
              "outlinewidth": 0,
              "ticks": ""
             }
            },
            "type": "scatterternary"
           }
          ],
          "surface": [
           {
            "colorbar": {
             "outlinewidth": 0,
             "ticks": ""
            },
            "colorscale": [
             [
              0,
              "#0d0887"
             ],
             [
              0.1111111111111111,
              "#46039f"
             ],
             [
              0.2222222222222222,
              "#7201a8"
             ],
             [
              0.3333333333333333,
              "#9c179e"
             ],
             [
              0.4444444444444444,
              "#bd3786"
             ],
             [
              0.5555555555555556,
              "#d8576b"
             ],
             [
              0.6666666666666666,
              "#ed7953"
             ],
             [
              0.7777777777777778,
              "#fb9f3a"
             ],
             [
              0.8888888888888888,
              "#fdca26"
             ],
             [
              1,
              "#f0f921"
             ]
            ],
            "type": "surface"
           }
          ],
          "table": [
           {
            "cells": {
             "fill": {
              "color": "#EBF0F8"
             },
             "line": {
              "color": "white"
             }
            },
            "header": {
             "fill": {
              "color": "#C8D4E3"
             },
             "line": {
              "color": "white"
             }
            },
            "type": "table"
           }
          ]
         },
         "layout": {
          "annotationdefaults": {
           "arrowcolor": "#2a3f5f",
           "arrowhead": 0,
           "arrowwidth": 1
          },
          "autotypenumbers": "strict",
          "coloraxis": {
           "colorbar": {
            "outlinewidth": 0,
            "ticks": ""
           }
          },
          "colorscale": {
           "diverging": [
            [
             0,
             "#8e0152"
            ],
            [
             0.1,
             "#c51b7d"
            ],
            [
             0.2,
             "#de77ae"
            ],
            [
             0.3,
             "#f1b6da"
            ],
            [
             0.4,
             "#fde0ef"
            ],
            [
             0.5,
             "#f7f7f7"
            ],
            [
             0.6,
             "#e6f5d0"
            ],
            [
             0.7,
             "#b8e186"
            ],
            [
             0.8,
             "#7fbc41"
            ],
            [
             0.9,
             "#4d9221"
            ],
            [
             1,
             "#276419"
            ]
           ],
           "sequential": [
            [
             0,
             "#0d0887"
            ],
            [
             0.1111111111111111,
             "#46039f"
            ],
            [
             0.2222222222222222,
             "#7201a8"
            ],
            [
             0.3333333333333333,
             "#9c179e"
            ],
            [
             0.4444444444444444,
             "#bd3786"
            ],
            [
             0.5555555555555556,
             "#d8576b"
            ],
            [
             0.6666666666666666,
             "#ed7953"
            ],
            [
             0.7777777777777778,
             "#fb9f3a"
            ],
            [
             0.8888888888888888,
             "#fdca26"
            ],
            [
             1,
             "#f0f921"
            ]
           ],
           "sequentialminus": [
            [
             0,
             "#0d0887"
            ],
            [
             0.1111111111111111,
             "#46039f"
            ],
            [
             0.2222222222222222,
             "#7201a8"
            ],
            [
             0.3333333333333333,
             "#9c179e"
            ],
            [
             0.4444444444444444,
             "#bd3786"
            ],
            [
             0.5555555555555556,
             "#d8576b"
            ],
            [
             0.6666666666666666,
             "#ed7953"
            ],
            [
             0.7777777777777778,
             "#fb9f3a"
            ],
            [
             0.8888888888888888,
             "#fdca26"
            ],
            [
             1,
             "#f0f921"
            ]
           ]
          },
          "colorway": [
           "#636efa",
           "#EF553B",
           "#00cc96",
           "#ab63fa",
           "#FFA15A",
           "#19d3f3",
           "#FF6692",
           "#B6E880",
           "#FF97FF",
           "#FECB52"
          ],
          "font": {
           "color": "#2a3f5f"
          },
          "geo": {
           "bgcolor": "white",
           "lakecolor": "white",
           "landcolor": "#E5ECF6",
           "showlakes": true,
           "showland": true,
           "subunitcolor": "white"
          },
          "hoverlabel": {
           "align": "left"
          },
          "hovermode": "closest",
          "mapbox": {
           "style": "light"
          },
          "paper_bgcolor": "white",
          "plot_bgcolor": "#E5ECF6",
          "polar": {
           "angularaxis": {
            "gridcolor": "white",
            "linecolor": "white",
            "ticks": ""
           },
           "bgcolor": "#E5ECF6",
           "radialaxis": {
            "gridcolor": "white",
            "linecolor": "white",
            "ticks": ""
           }
          },
          "scene": {
           "xaxis": {
            "backgroundcolor": "#E5ECF6",
            "gridcolor": "white",
            "gridwidth": 2,
            "linecolor": "white",
            "showbackground": true,
            "ticks": "",
            "zerolinecolor": "white"
           },
           "yaxis": {
            "backgroundcolor": "#E5ECF6",
            "gridcolor": "white",
            "gridwidth": 2,
            "linecolor": "white",
            "showbackground": true,
            "ticks": "",
            "zerolinecolor": "white"
           },
           "zaxis": {
            "backgroundcolor": "#E5ECF6",
            "gridcolor": "white",
            "gridwidth": 2,
            "linecolor": "white",
            "showbackground": true,
            "ticks": "",
            "zerolinecolor": "white"
           }
          },
          "shapedefaults": {
           "line": {
            "color": "#2a3f5f"
           }
          },
          "ternary": {
           "aaxis": {
            "gridcolor": "white",
            "linecolor": "white",
            "ticks": ""
           },
           "baxis": {
            "gridcolor": "white",
            "linecolor": "white",
            "ticks": ""
           },
           "bgcolor": "#E5ECF6",
           "caxis": {
            "gridcolor": "white",
            "linecolor": "white",
            "ticks": ""
           }
          },
          "title": {
           "x": 0.05
          },
          "xaxis": {
           "automargin": true,
           "gridcolor": "white",
           "linecolor": "white",
           "ticks": "",
           "title": {
            "standoff": 15
           },
           "zerolinecolor": "white",
           "zerolinewidth": 2
          },
          "yaxis": {
           "automargin": true,
           "gridcolor": "white",
           "linecolor": "white",
           "ticks": "",
           "title": {
            "standoff": 15
           },
           "zerolinecolor": "white",
           "zerolinewidth": 2
          }
         }
        },
        "title": {
         "text": "Plot title"
        },
        "xaxis": {
         "title": {
          "text": "Axis 1"
         }
        },
        "yaxis": {
         "title": {
          "text": "Axis 2"
         }
        }
       }
      }
     },
     "metadata": {},
     "output_type": "display_data"
    }
   ],
   "source": [
    "fig = go.Figure()\n",
    "heatmap = np.random.rand(11, 11)\n",
    "fig.add_trace(\n",
    "    go.Heatmap(\n",
    "        z = heatmap,\n",
    "        x = np.linspace(0., 10., 11),\n",
    "        y = np.linspace(0., 10., 11),\n",
    "        text = heatmap.round(2),\n",
    "        texttemplate=\"%{text}\",\n",
    "        colorscale='turbo'\n",
    "    ))\n",
    "fig.update_xaxes(title_text='Axis 1')\n",
    "fig.update_yaxes(title_text='Axis 2')\n",
    "fig.update_layout(title = 'Plot title')\n",
    "fig.update_traces(showscale=False)\n",
    "fig.show()"
   ]
  }
 ],
 "metadata": {
  "kernelspec": {
   "display_name": "gbm6700e_test",
   "language": "python",
   "name": "python3"
  },
  "language_info": {
   "codemirror_mode": {
    "name": "ipython",
    "version": 3
   },
   "file_extension": ".py",
   "mimetype": "text/x-python",
   "name": "python",
   "nbconvert_exporter": "python",
   "pygments_lexer": "ipython3",
   "version": "3.8.19"
  }
 },
 "nbformat": 4,
 "nbformat_minor": 2
}
